{
 "cells": [
  {
   "cell_type": "markdown",
   "metadata": {},
   "source": [
    "### Medical procedures by physician, Medicare data (2012)\n",
    "Janos Perge, 07/21/2016\n",
    "\n",
    "Purpose:   \n",
    "1) Access Medicare data on the number of performed medical procedures per physician (as a proxi for quality of care).   \n",
    "2) Convert HCPCS (or CPT) procedure codes to CCS codes for further analysis  \n",
    "    \n",
    "Data is a public use file downloadable from CMS:\n",
    "https://www.cms.gov/apps/ama/license.asp?file=http://download.cms.gov/Research-Statistics-Data-and-Systems/Statistics-Trends-and-Reports/Medicare-Provider-Charge-Data/Downloads/Medicare_Provider_Util_Payment_PUF_CY2012_update.zip\n",
    "\n",
    "To run this code, first visit the above url, accept CMS disclaimer, download and unzip file (2GB) and place it in CMS directory (or a location of your choice). Opening and saving file takes about 1 min on my Win10 machine with core i7 and 8GB RAM. \n",
    "\n"
   ]
  },
  {
   "cell_type": "markdown",
   "metadata": {},
   "source": [
    "#### Obtain packages"
   ]
  },
  {
   "cell_type": "code",
   "execution_count": 2,
   "metadata": {
    "collapsed": true
   },
   "outputs": [
    {
     "name": "stderr",
     "output_type": "stream",
     "text": [
      "\n",
      "Attaching package: 'reshape'\n",
      "\n",
      "The following object is masked from 'package:data.table':\n",
      "\n",
      "    melt\n",
      "\n",
      "\n",
      "Attaching package: 'plyr'\n",
      "\n",
      "The following objects are masked from 'package:reshape':\n",
      "\n",
      "    rename, round_any\n",
      "\n",
      "\n",
      "Attaching package: 'rjson'\n",
      "\n",
      "The following objects are masked from 'package:jsonlite':\n",
      "\n",
      "    fromJSON, toJSON\n",
      "\n"
     ]
    }
   ],
   "source": [
    "packageList = c(\"jsonlite\", \"data.table\", \"parallel\",\"foreach\",\"stringr\",\"ggplot2\",\"reshape\",'plyr','rjson')\n",
    "\n",
    "is_installed <- function(mypkg) is.element(mypkg, installed.packages()[,1])\n",
    "\n",
    "load_or_install<-function(package_names)\n",
    "{\n",
    "  for(package_name in package_names)\n",
    "  {\n",
    "    if(!is_installed(package_name))\n",
    "    {\n",
    "      install.packages(package_name,repos=\"http://lib.stat.cmu.edu/R/CRAN\")\n",
    "    }\n",
    "    options(java.parameters = \"-Xmx8g\")\n",
    "    library(package_name,character.only=TRUE,quietly=TRUE,verbose=FALSE)\n",
    "  }\n",
    "}\n",
    "\n",
    "load_or_install(packageList)"
   ]
  },
  {
   "cell_type": "markdown",
   "metadata": {},
   "source": [
    "#### 1. Access data"
   ]
  },
  {
   "cell_type": "code",
   "execution_count": 3,
   "metadata": {
    "collapsed": false
   },
   "outputs": [],
   "source": [
    "setwd(\"C:/Users/bubuk/Documents/R/medicare-analysis\")\n",
    "physician_medicare = \"CMS/Medicare_Provider_Util_Payment_PUF_CY2012.txt\" #available data for years 2012,2013,2014\n",
    "my_data_file = \"procedures2012.RData\""
   ]
  },
  {
   "cell_type": "code",
   "execution_count": 4,
   "metadata": {
    "collapsed": false
   },
   "outputs": [],
   "source": [
    "#open data from tabular file saved on HD or from Rdatafile:\n",
    "if(file.exists(my_data_file) && !exists(\"pm\")){\n",
    "  load(my_data_file)\n",
    "} else if(!file.exists(my_data_file)) {\n",
    "  pm = read.delim(physician_medicare, stringsAsFactors=FALSE)\n",
    "  pm = pm[2:nrow(pm),]\n",
    "  colnames(pm) = tolower(colnames(pm))\n",
    "\n",
    "  save(pm, file=my_data_file)\n",
    "}"
   ]
  },
  {
   "cell_type": "markdown",
   "metadata": {},
   "source": [
    "#### Explore data frame"
   ]
  },
  {
   "cell_type": "code",
   "execution_count": 6,
   "metadata": {
    "collapsed": false,
    "scrolled": true
   },
   "outputs": [
    {
     "data": {
      "text/html": [
       "<table>\n",
       "<thead><tr><th></th><th scope=col>npi</th><th scope=col>nppes_provider_last_org_name</th><th scope=col>nppes_provider_first_name</th><th scope=col>nppes_provider_mi</th><th scope=col>nppes_credentials</th><th scope=col>nppes_provider_gender</th><th scope=col>nppes_entity_code</th><th scope=col>nppes_provider_street1</th><th scope=col>nppes_provider_street2</th><th scope=col>nppes_provider_city</th><th scope=col>...</th><th scope=col>hcpcs_drug_indicator</th><th scope=col>line_srvc_cnt</th><th scope=col>bene_unique_cnt</th><th scope=col>bene_day_srvc_cnt</th><th scope=col>average_medicare_allowed_amt</th><th scope=col>stdev_medicare_allowed_amt</th><th scope=col>average_submitted_chrg_amt</th><th scope=col>stdev_submitted_chrg_amt</th><th scope=col>average_medicare_payment_amt</th><th scope=col>stdev_medicare_payment_amt</th></tr></thead>\n",
       "<tbody>\n",
       "\t<tr><th scope=row>2</th><td>1003000126  </td><td>ENKESHAFI   </td><td>ARDALAN     </td><td>            </td><td>M.D.        </td><td>M           </td><td>I           </td><td>900 SETON DR</td><td>            </td><td>CUMBERLAND  </td><td>...         </td><td>N           </td><td>115         </td><td>112         </td><td>115         </td><td>135.25      </td><td>0           </td><td>199         </td><td>0           </td><td>108.11565217</td><td>0.9005883395</td></tr>\n",
       "\t<tr><th scope=row>3</th><td>1003000126  </td><td>ENKESHAFI   </td><td>ARDALAN     </td><td>            </td><td>M.D.        </td><td>M           </td><td>I           </td><td>900 SETON DR</td><td>            </td><td>CUMBERLAND  </td><td>...         </td><td>N           </td><td>93          </td><td>88          </td><td>93          </td><td>198.59      </td><td>0           </td><td>291         </td><td>9.5916630466</td><td>158.87      </td><td>0           </td></tr>\n",
       "\t<tr><th scope=row>4</th><td>1003000126  </td><td>ENKESHAFI   </td><td>ARDALAN     </td><td>            </td><td>M.D.        </td><td>M           </td><td>I           </td><td>900 SETON DR</td><td>            </td><td>CUMBERLAND  </td><td>...         </td><td>N           </td><td>111         </td><td>83          </td><td>111         </td><td>38.75       </td><td>0           </td><td>58          </td><td>0           </td><td>30.720720721</td><td>2.9291057922</td></tr>\n",
       "\t<tr><th scope=row>5</th><td>1003000126  </td><td>ENKESHAFI   </td><td>ARDALAN     </td><td>            </td><td>M.D.        </td><td>M           </td><td>I           </td><td>900 SETON DR</td><td>            </td><td>CUMBERLAND  </td><td>...         </td><td>N           </td><td>544         </td><td>295         </td><td>544         </td><td>70.95       </td><td>0           </td><td>105         </td><td>0           </td><td>56.655661765</td><td>2.4313271619</td></tr>\n",
       "\t<tr><th scope=row>6</th><td>1003000126  </td><td>ENKESHAFI   </td><td>ARDALAN     </td><td>            </td><td>M.D.        </td><td>M           </td><td>I           </td><td>900 SETON DR</td><td>            </td><td>CUMBERLAND  </td><td>...         </td><td>N           </td><td>75          </td><td>55          </td><td>75          </td><td>101.74      </td><td>0           </td><td>150         </td><td>0           </td><td>81.39       </td><td>0           </td></tr>\n",
       "\t<tr><th scope=row>7</th><td>1003000126  </td><td>ENKESHAFI   </td><td>ARDALAN     </td><td>            </td><td>M.D.        </td><td>M           </td><td>I           </td><td>900 SETON DR</td><td>            </td><td>CUMBERLAND  </td><td>...         </td><td>N           </td><td>95          </td><td>95          </td><td>95          </td><td>71.06       </td><td>0           </td><td>104         </td><td>0           </td><td>55.768842105</td><td>7.4155003896</td></tr>\n",
       "</tbody>\n",
       "</table>\n"
      ],
      "text/latex": [
       "\\begin{tabular}{r|llllllllllllllllllllllllllll}\n",
       "  & npi & nppes\\_provider\\_last\\_org\\_name & nppes\\_provider\\_first\\_name & nppes\\_provider\\_mi & nppes\\_credentials & nppes\\_provider\\_gender & nppes\\_entity\\_code & nppes\\_provider\\_street1 & nppes\\_provider\\_street2 & nppes\\_provider\\_city & ... & hcpcs\\_drug\\_indicator & line\\_srvc\\_cnt & bene\\_unique\\_cnt & bene\\_day\\_srvc\\_cnt & average\\_medicare\\_allowed\\_amt & stdev\\_medicare\\_allowed\\_amt & average\\_submitted\\_chrg\\_amt & stdev\\_submitted\\_chrg\\_amt & average\\_medicare\\_payment\\_amt & stdev\\_medicare\\_payment\\_amt\\\\\n",
       "\\hline\n",
       "\t2 & 1003000126   & ENKESHAFI    & ARDALAN      &              & M.D.         & M            & I            & 900 SETON DR &              & CUMBERLAND   & ...          & N            & 115          & 112          & 115          & 135.25       & 0            & 199          & 0            & 108.11565217 & 0.9005883395\\\\\n",
       "\t3 & 1003000126   & ENKESHAFI    & ARDALAN      &              & M.D.         & M            & I            & 900 SETON DR &              & CUMBERLAND   & ...          & N            & 93           & 88           & 93           & 198.59       & 0            & 291          & 9.5916630466 & 158.87       & 0           \\\\\n",
       "\t4 & 1003000126   & ENKESHAFI    & ARDALAN      &              & M.D.         & M            & I            & 900 SETON DR &              & CUMBERLAND   & ...          & N            & 111          & 83           & 111          & 38.75        & 0            & 58           & 0            & 30.720720721 & 2.9291057922\\\\\n",
       "\t5 & 1003000126   & ENKESHAFI    & ARDALAN      &              & M.D.         & M            & I            & 900 SETON DR &              & CUMBERLAND   & ...          & N            & 544          & 295          & 544          & 70.95        & 0            & 105          & 0            & 56.655661765 & 2.4313271619\\\\\n",
       "\t6 & 1003000126   & ENKESHAFI    & ARDALAN      &              & M.D.         & M            & I            & 900 SETON DR &              & CUMBERLAND   & ...          & N            & 75           & 55           & 75           & 101.74       & 0            & 150          & 0            & 81.39        & 0           \\\\\n",
       "\t7 & 1003000126   & ENKESHAFI    & ARDALAN      &              & M.D.         & M            & I            & 900 SETON DR &              & CUMBERLAND   & ...          & N            & 95           & 95           & 95           & 71.06        & 0            & 104          & 0            & 55.768842105 & 7.4155003896\\\\\n",
       "\\end{tabular}\n"
      ],
      "text/plain": [
       "         npi nppes_provider_last_org_name nppes_provider_first_name\n",
       "2 1003000126                    ENKESHAFI                   ARDALAN\n",
       "3 1003000126                    ENKESHAFI                   ARDALAN\n",
       "4 1003000126                    ENKESHAFI                   ARDALAN\n",
       "5 1003000126                    ENKESHAFI                   ARDALAN\n",
       "6 1003000126                    ENKESHAFI                   ARDALAN\n",
       "7 1003000126                    ENKESHAFI                   ARDALAN\n",
       "  nppes_provider_mi nppes_credentials nppes_provider_gender nppes_entity_code\n",
       "2                                M.D.                     M                 I\n",
       "3                                M.D.                     M                 I\n",
       "4                                M.D.                     M                 I\n",
       "5                                M.D.                     M                 I\n",
       "6                                M.D.                     M                 I\n",
       "7                                M.D.                     M                 I\n",
       "  nppes_provider_street1 nppes_provider_street2 nppes_provider_city ...\n",
       "2           900 SETON DR                                 CUMBERLAND ...\n",
       "3           900 SETON DR                                 CUMBERLAND ...\n",
       "4           900 SETON DR                                 CUMBERLAND ...\n",
       "5           900 SETON DR                                 CUMBERLAND ...\n",
       "6           900 SETON DR                                 CUMBERLAND ...\n",
       "7           900 SETON DR                                 CUMBERLAND ...\n",
       "  hcpcs_drug_indicator line_srvc_cnt bene_unique_cnt bene_day_srvc_cnt\n",
       "2                    N           115             112               115\n",
       "3                    N            93              88                93\n",
       "4                    N           111              83               111\n",
       "5                    N           544             295               544\n",
       "6                    N            75              55                75\n",
       "7                    N            95              95                95\n",
       "  average_medicare_allowed_amt stdev_medicare_allowed_amt\n",
       "2                       135.25                          0\n",
       "3                       198.59                          0\n",
       "4                        38.75                          0\n",
       "5                        70.95                          0\n",
       "6                       101.74                          0\n",
       "7                        71.06                          0\n",
       "  average_submitted_chrg_amt stdev_submitted_chrg_amt\n",
       "2                        199                 0.000000\n",
       "3                        291                 9.591663\n",
       "4                         58                 0.000000\n",
       "5                        105                 0.000000\n",
       "6                        150                 0.000000\n",
       "7                        104                 0.000000\n",
       "  average_medicare_payment_amt stdev_medicare_payment_amt\n",
       "2                    108.11565                  0.9005883\n",
       "3                    158.87000                  0.0000000\n",
       "4                     30.72072                  2.9291058\n",
       "5                     56.65566                  2.4313272\n",
       "6                     81.39000                  0.0000000\n",
       "7                     55.76884                  7.4155004"
      ]
     },
     "metadata": {},
     "output_type": "display_data"
    }
   ],
   "source": [
    "head(pm)"
   ]
  },
  {
   "cell_type": "code",
   "execution_count": 7,
   "metadata": {
    "collapsed": false
   },
   "outputs": [
    {
     "data": {
      "text/html": [
       "<ol class=list-inline>\n",
       "\t<li>\"npi\"</li>\n",
       "\t<li>\"nppes_provider_last_org_name\"</li>\n",
       "\t<li>\"nppes_provider_first_name\"</li>\n",
       "\t<li>\"nppes_provider_mi\"</li>\n",
       "\t<li>\"nppes_credentials\"</li>\n",
       "\t<li>\"nppes_provider_gender\"</li>\n",
       "\t<li>\"nppes_entity_code\"</li>\n",
       "\t<li>\"nppes_provider_street1\"</li>\n",
       "\t<li>\"nppes_provider_street2\"</li>\n",
       "\t<li>\"nppes_provider_city\"</li>\n",
       "\t<li>\"nppes_provider_zip\"</li>\n",
       "\t<li>\"nppes_provider_state\"</li>\n",
       "\t<li>\"nppes_provider_country\"</li>\n",
       "\t<li>\"provider_type\"</li>\n",
       "\t<li>\"medicare_participation_indicator\"</li>\n",
       "\t<li>\"place_of_service\"</li>\n",
       "\t<li>\"hcpcs_code\"</li>\n",
       "\t<li>\"hcpcs_description\"</li>\n",
       "\t<li>\"hcpcs_drug_indicator\"</li>\n",
       "\t<li>\"line_srvc_cnt\"</li>\n",
       "\t<li>\"bene_unique_cnt\"</li>\n",
       "\t<li>\"bene_day_srvc_cnt\"</li>\n",
       "\t<li>\"average_medicare_allowed_amt\"</li>\n",
       "\t<li>\"stdev_medicare_allowed_amt\"</li>\n",
       "\t<li>\"average_submitted_chrg_amt\"</li>\n",
       "\t<li>\"stdev_submitted_chrg_amt\"</li>\n",
       "\t<li>\"average_medicare_payment_amt\"</li>\n",
       "\t<li>\"stdev_medicare_payment_amt\"</li>\n",
       "</ol>\n"
      ],
      "text/latex": [
       "\\begin{enumerate*}\n",
       "\\item \"npi\"\n",
       "\\item \"nppes\\_provider\\_last\\_org\\_name\"\n",
       "\\item \"nppes\\_provider\\_first\\_name\"\n",
       "\\item \"nppes\\_provider\\_mi\"\n",
       "\\item \"nppes\\_credentials\"\n",
       "\\item \"nppes\\_provider\\_gender\"\n",
       "\\item \"nppes\\_entity\\_code\"\n",
       "\\item \"nppes\\_provider\\_street1\"\n",
       "\\item \"nppes\\_provider\\_street2\"\n",
       "\\item \"nppes\\_provider\\_city\"\n",
       "\\item \"nppes\\_provider\\_zip\"\n",
       "\\item \"nppes\\_provider\\_state\"\n",
       "\\item \"nppes\\_provider\\_country\"\n",
       "\\item \"provider\\_type\"\n",
       "\\item \"medicare\\_participation\\_indicator\"\n",
       "\\item \"place\\_of\\_service\"\n",
       "\\item \"hcpcs\\_code\"\n",
       "\\item \"hcpcs\\_description\"\n",
       "\\item \"hcpcs\\_drug\\_indicator\"\n",
       "\\item \"line\\_srvc\\_cnt\"\n",
       "\\item \"bene\\_unique\\_cnt\"\n",
       "\\item \"bene\\_day\\_srvc\\_cnt\"\n",
       "\\item \"average\\_medicare\\_allowed\\_amt\"\n",
       "\\item \"stdev\\_medicare\\_allowed\\_amt\"\n",
       "\\item \"average\\_submitted\\_chrg\\_amt\"\n",
       "\\item \"stdev\\_submitted\\_chrg\\_amt\"\n",
       "\\item \"average\\_medicare\\_payment\\_amt\"\n",
       "\\item \"stdev\\_medicare\\_payment\\_amt\"\n",
       "\\end{enumerate*}\n"
      ],
      "text/markdown": [
       "1. \"npi\"\n",
       "2. \"nppes_provider_last_org_name\"\n",
       "3. \"nppes_provider_first_name\"\n",
       "4. \"nppes_provider_mi\"\n",
       "5. \"nppes_credentials\"\n",
       "6. \"nppes_provider_gender\"\n",
       "7. \"nppes_entity_code\"\n",
       "8. \"nppes_provider_street1\"\n",
       "9. \"nppes_provider_street2\"\n",
       "10. \"nppes_provider_city\"\n",
       "11. \"nppes_provider_zip\"\n",
       "12. \"nppes_provider_state\"\n",
       "13. \"nppes_provider_country\"\n",
       "14. \"provider_type\"\n",
       "15. \"medicare_participation_indicator\"\n",
       "16. \"place_of_service\"\n",
       "17. \"hcpcs_code\"\n",
       "18. \"hcpcs_description\"\n",
       "19. \"hcpcs_drug_indicator\"\n",
       "20. \"line_srvc_cnt\"\n",
       "21. \"bene_unique_cnt\"\n",
       "22. \"bene_day_srvc_cnt\"\n",
       "23. \"average_medicare_allowed_amt\"\n",
       "24. \"stdev_medicare_allowed_amt\"\n",
       "25. \"average_submitted_chrg_amt\"\n",
       "26. \"stdev_submitted_chrg_amt\"\n",
       "27. \"average_medicare_payment_amt\"\n",
       "28. \"stdev_medicare_payment_amt\"\n",
       "\n",
       "\n"
      ],
      "text/plain": [
       " [1] \"npi\"                              \"nppes_provider_last_org_name\"    \n",
       " [3] \"nppes_provider_first_name\"        \"nppes_provider_mi\"               \n",
       " [5] \"nppes_credentials\"                \"nppes_provider_gender\"           \n",
       " [7] \"nppes_entity_code\"                \"nppes_provider_street1\"          \n",
       " [9] \"nppes_provider_street2\"           \"nppes_provider_city\"             \n",
       "[11] \"nppes_provider_zip\"               \"nppes_provider_state\"            \n",
       "[13] \"nppes_provider_country\"           \"provider_type\"                   \n",
       "[15] \"medicare_participation_indicator\" \"place_of_service\"                \n",
       "[17] \"hcpcs_code\"                       \"hcpcs_description\"               \n",
       "[19] \"hcpcs_drug_indicator\"             \"line_srvc_cnt\"                   \n",
       "[21] \"bene_unique_cnt\"                  \"bene_day_srvc_cnt\"               \n",
       "[23] \"average_medicare_allowed_amt\"     \"stdev_medicare_allowed_amt\"      \n",
       "[25] \"average_submitted_chrg_amt\"       \"stdev_submitted_chrg_amt\"        \n",
       "[27] \"average_medicare_payment_amt\"     \"stdev_medicare_payment_amt\"      "
      ]
     },
     "metadata": {},
     "output_type": "display_data"
    }
   ],
   "source": [
    "colnames(pm)"
   ]
  },
  {
   "cell_type": "code",
   "execution_count": 26,
   "metadata": {
    "collapsed": true
   },
   "outputs": [],
   "source": [
    "descriptor_vars = c(\"npi\", \"nppes_provider_last_org_name\", \"nppes_provider_first_name\", \"nppes_provider_mi\", \n",
    "                    \"nppes_credentials\", \"nppes_provider_gender\", \"nppes_entity_code\", \"nppes_provider_street1\", \n",
    "                    \"nppes_provider_street2\", \"nppes_provider_city\", \"nppes_provider_zip\", \"nppes_provider_state\", \n",
    "                    \"nppes_provider_country\", \"provider_type\", \"medicare_participation_indicator\", \"place_of_service\")\n",
    "\n",
    "payment_vars = c(\"npi\", \"hcpcs_code\", \"line_srvc_cnt\", \"bene_unique_cnt\", \"bene_day_srvc_cnt\", \n",
    "                \"average_medicare_allowed_amt\", \"stdev_medicare_allowed_amt\", \"average_submitted_chrg_amt\", \n",
    "                \"stdev_submitted_chrg_amt\", \"average_medicare_payment_amt\", \"stdev_medicare_payment_amt\")"
   ]
  },
  {
   "cell_type": "code",
   "execution_count": 8,
   "metadata": {
    "collapsed": false
   },
   "outputs": [],
   "source": [
    "sel_pm = pm[, payment_vars]\n",
    "sel_pm = data.table(sel_pm)\n",
    "setkey(sel_pm, \"npi\") "
   ]
  },
  {
   "cell_type": "code",
   "execution_count": 9,
   "metadata": {
    "collapsed": false
   },
   "outputs": [],
   "source": [
    "#coarse measures on payment and patient numbers:\n",
    "phys_summ = sel_pm[\n",
    "  , \n",
    "  list(\n",
    "    service_total=sum(line_srvc_cnt),\n",
    "    ben_total=sum(bene_unique_cnt),\n",
    "    payment=sum(average_medicare_payment_amt * line_srvc_cnt),\n",
    "    charged=sum(average_submitted_chrg_amt * line_srvc_cnt),\n",
    "    allowed=sum(average_medicare_allowed_amt * line_srvc_cnt),\n",
    "    unique_services_per_patient=sum(bene_day_srvc_cnt)/sum(bene_unique_cnt),\n",
    "    duplicates_per_service=sum(line_srvc_cnt)/sum(bene_day_srvc_cnt),\n",
    "    services_per_patient=sum(line_srvc_cnt)/sum(bene_unique_cnt)\n",
    "  ),\n",
    "  by=\"npi\"\n",
    "  ]"
   ]
  },
  {
   "cell_type": "code",
   "execution_count": 10,
   "metadata": {
    "collapsed": false
   },
   "outputs": [
    {
     "data": {
      "text/html": [
       "<table>\n",
       "<thead><tr><th></th><th scope=col>npi</th><th scope=col>service_total</th><th scope=col>ben_total</th><th scope=col>payment</th><th scope=col>charged</th><th scope=col>allowed</th><th scope=col>unique_services_per_patient</th><th scope=col>duplicates_per_service</th><th scope=col>services_per_patient</th></tr></thead>\n",
       "<tbody>\n",
       "\t<tr><th scope=row>1</th><td>1.003000e+09</td><td>1.224000e+03</td><td>9.130000e+02</td><td>8.888709e+04</td><td>1.638590e+05</td><td>1.113588e+05</td><td>1.340635e+00</td><td>1.000000e+00</td><td>1.340635e+00</td></tr>\n",
       "\t<tr><th scope=row>2</th><td>1.003000e+09</td><td>7.673000e+03</td><td>4.464000e+03</td><td>2.210911e+05</td><td>1.249454e+06</td><td>2.867675e+05</td><td>1.181900e+00</td><td>1.454321e+00</td><td>1.718862e+00</td></tr>\n",
       "\t<tr><th scope=row>3</th><td>1.003000e+09</td><td>5.200000e+01</td><td>4.500000e+01</td><td>4.760960e+03</td><td>8.728000e+03</td><td>6.077120e+03</td><td>1.155556e+00</td><td>1.000000e+00</td><td>1.155556e+00</td></tr>\n",
       "\t<tr><th scope=row>4</th><td>1.003000e+09</td><td>8.340000e+02</td><td>1.130000e+02</td><td>1.641112e+04</td><td>4.091400e+04</td><td>2.112492e+04</td><td>5.584071e+00</td><td>1.321712e+00</td><td>7.380531e+00</td></tr>\n",
       "\t<tr><th scope=row>5</th><td>1.003000e+09</td><td>2.471000e+03</td><td>1.369000e+03</td><td>1.859865e+05</td><td>2.971400e+05</td><td>2.326585e+05</td><td>1.804237e+00</td><td>1.000405e+00</td><td>1.804967e+00</td></tr>\n",
       "\t<tr><th scope=row>6</th><td>1.003000e+09</td><td>1.010000e+02</td><td>9.600000e+01</td><td>4.075150e+03</td><td>7.073000e+03</td><td>4.807060e+03</td><td>1.052083e+00</td><td>1.000000e+00</td><td>1.052083e+00</td></tr>\n",
       "</tbody>\n",
       "</table>\n"
      ],
      "text/latex": [
       "\\begin{tabular}{r|lllllllll}\n",
       "  & npi & service\\_total & ben\\_total & payment & charged & allowed & unique\\_services\\_per\\_patient & duplicates\\_per\\_service & services\\_per\\_patient\\\\\n",
       "\\hline\n",
       "\t1 & 1.003000e+09 & 1.224000e+03 & 9.130000e+02 & 8.888709e+04 & 1.638590e+05 & 1.113588e+05 & 1.340635e+00 & 1.000000e+00 & 1.340635e+00\\\\\n",
       "\t2 & 1.003000e+09 & 7.673000e+03 & 4.464000e+03 & 2.210911e+05 & 1.249454e+06 & 2.867675e+05 & 1.181900e+00 & 1.454321e+00 & 1.718862e+00\\\\\n",
       "\t3 & 1.003000e+09 & 5.200000e+01 & 4.500000e+01 & 4.760960e+03 & 8.728000e+03 & 6.077120e+03 & 1.155556e+00 & 1.000000e+00 & 1.155556e+00\\\\\n",
       "\t4 & 1.003000e+09 & 8.340000e+02 & 1.130000e+02 & 1.641112e+04 & 4.091400e+04 & 2.112492e+04 & 5.584071e+00 & 1.321712e+00 & 7.380531e+00\\\\\n",
       "\t5 & 1.003000e+09 & 2.471000e+03 & 1.369000e+03 & 1.859865e+05 & 2.971400e+05 & 2.326585e+05 & 1.804237e+00 & 1.000405e+00 & 1.804967e+00\\\\\n",
       "\t6 & 1.003000e+09 & 1.010000e+02 & 9.600000e+01 & 4.075150e+03 & 7.073000e+03 & 4.807060e+03 & 1.052083e+00 & 1.000000e+00 & 1.052083e+00\\\\\n",
       "\\end{tabular}\n"
      ],
      "text/plain": [
       "         npi service_total ben_total   payment charged   allowed\n",
       "1 1003000126          1224       913  88887.09  163859 111358.78\n",
       "2 1003000134          7673      4464 221091.10 1249454 286767.49\n",
       "3 1003000142            52        45   4760.96    8728   6077.12\n",
       "4 1003000381           834       113  16411.12   40914  21124.92\n",
       "5 1003000407          2471      1369 185986.49  297140 232658.48\n",
       "6 1003000423           101        96   4075.15    7073   4807.06\n",
       "  unique_services_per_patient duplicates_per_service services_per_patient\n",
       "1                    1.340635               1.000000             1.340635\n",
       "2                    1.181900               1.454321             1.718862\n",
       "3                    1.155556               1.000000             1.155556\n",
       "4                    5.584071               1.321712             7.380531\n",
       "5                    1.804237               1.000405             1.804967\n",
       "6                    1.052083               1.000000             1.052083"
      ]
     },
     "metadata": {},
     "output_type": "display_data"
    }
   ],
   "source": [
    "head(phys_summ)"
   ]
  },
  {
   "cell_type": "markdown",
   "metadata": {},
   "source": [
    "#### 2. HCPCS/CPT code to CCS conversion"
   ]
  },
  {
   "cell_type": "code",
   "execution_count": 5,
   "metadata": {
    "collapsed": false
   },
   "outputs": [
    {
     "data": {
      "text/html": [
       "<table>\n",
       "<thead><tr><th></th><th scope=col>hcpcs_code</th><th scope=col>hcpcs_description</th><th scope=col>ccs_code</th><th scope=col>ccs_desc</th></tr></thead>\n",
       "<tbody>\n",
       "\t<tr><th scope=row>1</th><td>00100                                                 </td><td>Anesthesia for procedure on salivary gland with biopsy</td><td>0                                                     </td><td>none                                                  </td></tr>\n",
       "\t<tr><th scope=row>2</th><td>00102                                                         </td><td>Anesthesia for procedure to repair lip defect present at birth</td><td>0                                                             </td><td>none                                                          </td></tr>\n",
       "\t<tr><th scope=row>3</th><td>00103                             </td><td>Anesthesia for procedure on eyelid</td><td>0                                 </td><td>none                              </td></tr>\n",
       "\t<tr><th scope=row>4</th><td>00104                                  </td><td>Anesthesia for electric shock treatment</td><td>0                                      </td><td>none                                   </td></tr>\n",
       "\t<tr><th scope=row>5</th><td>00120                                                 </td><td>Anesthesia for biopsy of external middle and inner ear</td><td>0                                                     </td><td>none                                                  </td></tr>\n",
       "\t<tr><th scope=row>6</th><td>00126                              </td><td>Anesthesia for incision of ear drum</td><td>0                                  </td><td>none                               </td></tr>\n",
       "</tbody>\n",
       "</table>\n"
      ],
      "text/latex": [
       "\\begin{tabular}{r|llll}\n",
       "  & hcpcs\\_code & hcpcs\\_description & ccs\\_code & ccs\\_desc\\\\\n",
       "\\hline\n",
       "\t1 & 00100                                                  & Anesthesia for procedure on salivary gland with biopsy & 0                                                      & none                                                  \\\\\n",
       "\t2 & 00102                                                          & Anesthesia for procedure to repair lip defect present at birth & 0                                                              & none                                                          \\\\\n",
       "\t3 & 00103                              & Anesthesia for procedure on eyelid & 0                                  & none                              \\\\\n",
       "\t4 & 00104                                   & Anesthesia for electric shock treatment & 0                                       & none                                   \\\\\n",
       "\t5 & 00120                                                  & Anesthesia for biopsy of external middle and inner ear & 0                                                      & none                                                  \\\\\n",
       "\t6 & 00126                               & Anesthesia for incision of ear drum & 0                                   & none                               \\\\\n",
       "\\end{tabular}\n"
      ],
      "text/plain": [
       "  hcpcs_code                                              hcpcs_description\n",
       "1      00100         Anesthesia for procedure on salivary gland with biopsy\n",
       "2      00102 Anesthesia for procedure to repair lip defect present at birth\n",
       "3      00103                             Anesthesia for procedure on eyelid\n",
       "4      00104                        Anesthesia for electric shock treatment\n",
       "5      00120         Anesthesia for biopsy of external middle and inner ear\n",
       "6      00126                            Anesthesia for incision of ear drum\n",
       "  ccs_code ccs_desc\n",
       "1        0     none\n",
       "2        0     none\n",
       "3        0     none\n",
       "4        0     none\n",
       "5        0     none\n",
       "6        0     none"
      ]
     },
     "metadata": {},
     "output_type": "display_data"
    }
   ],
   "source": [
    "df = pm[, c('hcpcs_code', 'hcpcs_description')]\n",
    "df = df[!duplicated(df$hcpcs_code),]\n",
    "# write.csv(df, file = \"cptlist12.csv\", row.names=FALSE, na=\"\")\n",
    "# df = read.csv(\"cptlist12.csv\")\n",
    "df$ccs_code = 0\n",
    "df$ccs_desc = 'none'\n",
    "df = arrange(df, hcpcs_code)\n",
    "\n",
    "head(df)"
   ]
  },
  {
   "cell_type": "code",
   "execution_count": 6,
   "metadata": {
    "collapsed": false
   },
   "outputs": [
    {
     "data": {
      "text/html": [
       "<table>\n",
       "<thead><tr><th></th><th scope=col>Code.Range</th><th scope=col>CCS</th><th scope=col>CCS.Label</th></tr></thead>\n",
       "<tbody>\n",
       "\t<tr><th scope=row>1</th><td>'61000-61055'               </td><td>1                           </td><td>Incision and excision of CNS</td></tr>\n",
       "\t<tr><th scope=row>2</th><td>'61105-61106'               </td><td>1                           </td><td>Incision and excision of CNS</td></tr>\n",
       "\t<tr><th scope=row>3</th><td>'61108-61130'               </td><td>1                           </td><td>Incision and excision of CNS</td></tr>\n",
       "\t<tr><th scope=row>4</th><td>'61150-61156'               </td><td>1                           </td><td>Incision and excision of CNS</td></tr>\n",
       "\t<tr><th scope=row>5</th><td>'61250-61315'               </td><td>1                           </td><td>Incision and excision of CNS</td></tr>\n",
       "\t<tr><th scope=row>6</th><td>'61320-61323'               </td><td>1                           </td><td>Incision and excision of CNS</td></tr>\n",
       "</tbody>\n",
       "</table>\n"
      ],
      "text/latex": [
       "\\begin{tabular}{r|lll}\n",
       "  & Code.Range & CCS & CCS.Label\\\\\n",
       "\\hline\n",
       "\t1 & '61000-61055'                & 1                            & Incision and excision of CNS\\\\\n",
       "\t2 & '61105-61106'                & 1                            & Incision and excision of CNS\\\\\n",
       "\t3 & '61108-61130'                & 1                            & Incision and excision of CNS\\\\\n",
       "\t4 & '61150-61156'                & 1                            & Incision and excision of CNS\\\\\n",
       "\t5 & '61250-61315'                & 1                            & Incision and excision of CNS\\\\\n",
       "\t6 & '61320-61323'                & 1                            & Incision and excision of CNS\\\\\n",
       "\\end{tabular}\n"
      ],
      "text/plain": [
       "     Code.Range CCS                    CCS.Label\n",
       "1 '61000-61055'   1 Incision and excision of CNS\n",
       "2 '61105-61106'   1 Incision and excision of CNS\n",
       "3 '61108-61130'   1 Incision and excision of CNS\n",
       "4 '61150-61156'   1 Incision and excision of CNS\n",
       "5 '61250-61315'   1 Incision and excision of CNS\n",
       "6 '61320-61323'   1 Incision and excision of CNS"
      ]
     },
     "metadata": {},
     "output_type": "display_data"
    }
   ],
   "source": [
    "table_file = '2016_ccs_services_procedures.csv'\n",
    "ccs_table = read.csv(table_file)\n",
    "ccs_table$Code.Range <- as.character(ccs_table$Code.Range)\n",
    "head(ccs_table)"
   ]
  },
  {
   "cell_type": "code",
   "execution_count": 7,
   "metadata": {
    "collapsed": false
   },
   "outputs": [],
   "source": [
    "#create an incremental sequence of CSS codes using Code.Range:\n",
    "get_code_range <- function(inp){    \n",
    "    code_range <- vector(mode=\"numeric\", length=0) #empty \n",
    "    \n",
    "    aaa = unlist(strsplit(inp, \"-\", fixed = TRUE))    \n",
    "    aaa = sub(\"\\'\", \"\", aaa)\n",
    "    \n",
    "    if (!grepl(\"[a-zA-Z]\", aaa[1])){  #if code does not contain letters\n",
    "        aaa = as.numeric(aaa)\n",
    "        code_range = seq.int(aaa[1],aaa[2])\n",
    "        code_range = sprintf(\"%05d\", code_range) # fixed width of five characters with leading zeros\n",
    "        code_range = as.character(code_range)\n",
    "        \n",
    "    } else #if hcpcs code is alphanumeric, with the numeric part as an incremental sequence\n",
    "    {\n",
    "        bbb = substring(aaa[1], seq(1,nchar(aaa[1])), seq(1,nchar(aaa[1]),1)) #break up string to individual characters\n",
    "        letterPos = grep(\"[a-zA-Z]\", bbb, value = FALSE)\n",
    "        letterChar = grep(\"[a-zA-Z]\", bbb, value = TRUE)\n",
    "\n",
    "        numericPart1 = grep(\"[0-9]\", bbb, value = TRUE)\n",
    "        numericPart1 = as.numeric(paste(numericPart1, collapse=\"\"))\n",
    "\n",
    "        bbb = substring(aaa[2], seq(1,nchar(aaa[2])), seq(1,nchar(aaa[2]),1)) \n",
    "        numericPart2 = grep(\"[0-9]\", bbb, value = TRUE)\n",
    "        numericPart2 = as.numeric(paste(numericPart2, collapse=\"\"))\n",
    "\n",
    "        cr  = seq.int(numericPart1,numericPart2)\n",
    "        \n",
    "        if (letterPos==1){\n",
    "            code_range = sprintf(\"%s%04d\", letterChar, cr) # fixed width of four characters with leading zeros\n",
    "        } else\n",
    "        {\n",
    "            code_range = sprintf(\"%04d%s\", cr, letterChar)\n",
    "        }            \n",
    "    }\n",
    "    code_range\n",
    "}"
   ]
  },
  {
   "cell_type": "code",
   "execution_count": 8,
   "metadata": {
    "collapsed": false
   },
   "outputs": [
    {
     "data": {
      "text/html": [
       "<table>\n",
       "<thead><tr><th></th><th scope=col>hcpcs_code</th><th scope=col>hcpcs_description</th><th scope=col>ccs_code</th><th scope=col>ccs_desc</th></tr></thead>\n",
       "<tbody>\n",
       "\t<tr><th scope=row>1</th><td>00100                                                 </td><td>Anesthesia for procedure on salivary gland with biopsy</td><td>232                                                   </td><td>Anesthesia                                            </td></tr>\n",
       "\t<tr><th scope=row>2</th><td>00102                                                         </td><td>Anesthesia for procedure to repair lip defect present at birth</td><td>232                                                           </td><td>Anesthesia                                                    </td></tr>\n",
       "\t<tr><th scope=row>3</th><td>00103                             </td><td>Anesthesia for procedure on eyelid</td><td>232                               </td><td>Anesthesia                        </td></tr>\n",
       "\t<tr><th scope=row>4</th><td>00104                                  </td><td>Anesthesia for electric shock treatment</td><td>232                                    </td><td>Anesthesia                             </td></tr>\n",
       "\t<tr><th scope=row>5</th><td>00120                                                 </td><td>Anesthesia for biopsy of external middle and inner ear</td><td>232                                                   </td><td>Anesthesia                                            </td></tr>\n",
       "\t<tr><th scope=row>6</th><td>00126                              </td><td>Anesthesia for incision of ear drum</td><td>232                                </td><td>Anesthesia                         </td></tr>\n",
       "</tbody>\n",
       "</table>\n"
      ],
      "text/latex": [
       "\\begin{tabular}{r|llll}\n",
       "  & hcpcs\\_code & hcpcs\\_description & ccs\\_code & ccs\\_desc\\\\\n",
       "\\hline\n",
       "\t1 & 00100                                                  & Anesthesia for procedure on salivary gland with biopsy & 232                                                    & Anesthesia                                            \\\\\n",
       "\t2 & 00102                                                          & Anesthesia for procedure to repair lip defect present at birth & 232                                                            & Anesthesia                                                    \\\\\n",
       "\t3 & 00103                              & Anesthesia for procedure on eyelid & 232                                & Anesthesia                        \\\\\n",
       "\t4 & 00104                                   & Anesthesia for electric shock treatment & 232                                     & Anesthesia                             \\\\\n",
       "\t5 & 00120                                                  & Anesthesia for biopsy of external middle and inner ear & 232                                                    & Anesthesia                                            \\\\\n",
       "\t6 & 00126                               & Anesthesia for incision of ear drum & 232                                 & Anesthesia                         \\\\\n",
       "\\end{tabular}\n"
      ],
      "text/plain": [
       "  hcpcs_code                                              hcpcs_description\n",
       "1      00100         Anesthesia for procedure on salivary gland with biopsy\n",
       "2      00102 Anesthesia for procedure to repair lip defect present at birth\n",
       "3      00103                             Anesthesia for procedure on eyelid\n",
       "4      00104                        Anesthesia for electric shock treatment\n",
       "5      00120         Anesthesia for biopsy of external middle and inner ear\n",
       "6      00126                            Anesthesia for incision of ear drum\n",
       "  ccs_code   ccs_desc\n",
       "1      232 Anesthesia\n",
       "2      232 Anesthesia\n",
       "3      232 Anesthesia\n",
       "4      232 Anesthesia\n",
       "5      232 Anesthesia\n",
       "6      232 Anesthesia"
      ]
     },
     "metadata": {},
     "output_type": "display_data"
    }
   ],
   "source": [
    "#find corresponding css code and description for each hcpcs code:\n",
    "for (i in 1:nrow(ccs_table)){\n",
    "    codeRange = get_code_range(ccs_table$Code.Range[i])\n",
    "    if(length(codeRange) != 0) {\n",
    "        df$ccs_code[(df$hcpcs_code %in% codeRange * 1)>0] = ccs_table$CCS[i]\n",
    "        df$ccs_desc[(df$hcpcs_code %in% codeRange * 1)>0] = as.character(ccs_table$CCS.Label[i])\n",
    "    }\n",
    "}\n",
    "df = arrange(df, hcpcs_code)\n",
    "df$hcpcs_code = as.character(df$hcpcs_code)\n",
    "head(df)"
   ]
  },
  {
   "cell_type": "code",
   "execution_count": 9,
   "metadata": {
    "collapsed": false
   },
   "outputs": [
    {
     "data": {
      "text/html": [
       "0.997646663304757"
      ],
      "text/latex": [
       "0.997646663304757"
      ],
      "text/markdown": [
       "0.997646663304757"
      ],
      "text/plain": [
       "[1] 0.9976467"
      ]
     },
     "metadata": {},
     "output_type": "display_data"
    }
   ],
   "source": [
    "#matching efficiency:\n",
    "sum(df$ccs_code>0)/nrow(df)"
   ]
  },
  {
   "cell_type": "code",
   "execution_count": 11,
   "metadata": {
    "collapsed": false
   },
   "outputs": [],
   "source": [
    "#save conversion table as a csv file:\n",
    "df$hcpcs_code = sprintf(\"%05s\", df$hcpcs_code) # fixed width with leading zeros\n",
    "write.csv(df, file = \"CPT_to_CCS_conversion.csv\", row.names=FALSE, na=\"\")\n",
    "#potential error: .csv file saves numeric hcpcs codes as an arabic number e.g. '102', ommiting zero characters in the beginning.\n",
    "#This would cause mismatches later when mapping fixed-length character arrays such as '00102'. \n",
    "#Need to fix this: what are other ways of forcing write.csv to save as a fixed-length character array?\n",
    "\n",
    "#Currently not as pressing, since R's native data format saves the codes correctly: \n",
    "save(df, file='CPT_to_CSS_Conv_Table.RData')"
   ]
  },
  {
   "cell_type": "code",
   "execution_count": 101,
   "metadata": {
    "collapsed": false
   },
   "outputs": [
    {
     "data": {
      "text/html": [
       "<table>\n",
       "<thead><tr><th></th><th scope=col>hcpcs_code</th><th scope=col>hcpcs_description</th><th scope=col>ccs_code</th><th scope=col>ccs_desc</th></tr></thead>\n",
       "<tbody>\n",
       "\t<tr><th scope=row>5370</th><td>D9940                     </td><td>Occlusal guards, by report</td><td>0                         </td><td>none                      </td></tr>\n",
       "\t<tr><th scope=row>5479</th><td>G9001                             </td><td>Coordinated care fee, initial rate</td><td>0                                 </td><td>none                              </td></tr>\n",
       "\t<tr><th scope=row>5480</th><td>G9002                                 </td><td>Coordinated care fee, maintenance rate</td><td>0                                     </td><td>none                                  </td></tr>\n",
       "\t<tr><th scope=row>5481</th><td>G9003                                            </td><td>Coordinated care fee, risk adjusted high, initial</td><td>0                                                </td><td>none                                             </td></tr>\n",
       "\t<tr><th scope=row>5482</th><td>G9005                                          </td><td>Coordinated care fee, risk adjusted maintenance</td><td>0                                              </td><td>none                                           </td></tr>\n",
       "\t<tr><th scope=row>5483</th><td>G9008                                                              </td><td>Coordinated care fee, physician coordinated care oversight services</td><td>0                                                                  </td><td>none                                                               </td></tr>\n",
       "\t<tr><th scope=row>5484</th><td>G9009                                                   </td><td>Coordinated care fee, risk adjusted maintenance, level 3</td><td>0                                                       </td><td>none                                                    </td></tr>\n",
       "\t<tr><th scope=row>5485</th><td>G9010                                                   </td><td>Coordinated care fee, risk adjusted maintenance, level 4</td><td>0                                                       </td><td>none                                                    </td></tr>\n",
       "\t<tr><th scope=row>5488</th><td>G9148               </td><td>Medical home level 1</td><td>0                   </td><td>none                </td></tr>\n",
       "\t<tr><th scope=row>5489</th><td>G9149                </td><td>Medical home level ii</td><td>0                    </td><td>none                 </td></tr>\n",
       "\t<tr><th scope=row>5490</th><td>G9150                 </td><td>Medical home level iii</td><td>0                     </td><td>none                  </td></tr>\n",
       "\t<tr><th scope=row>5491</th><td>G9151           </td><td>Mapcp demo state</td><td>0               </td><td>none            </td></tr>\n",
       "\t<tr><th scope=row>5492</th><td>G9152               </td><td>Mapcp demo community</td><td>0                   </td><td>none                </td></tr>\n",
       "\t<tr><th scope=row>5493</th><td>G9153               </td><td>Mapcp demo physician</td><td>0                   </td><td>none                </td></tr>\n",
       "</tbody>\n",
       "</table>\n"
      ],
      "text/latex": [
       "\\begin{tabular}{r|llll}\n",
       "  & hcpcs\\_code & hcpcs\\_description & ccs\\_code & ccs\\_desc\\\\\n",
       "\\hline\n",
       "\t5370 & D9940                      & Occlusal guards, by report & 0                          & none                      \\\\\n",
       "\t5479 & G9001                              & Coordinated care fee, initial rate & 0                                  & none                              \\\\\n",
       "\t5480 & G9002                                  & Coordinated care fee, maintenance rate & 0                                      & none                                  \\\\\n",
       "\t5481 & G9003                                             & Coordinated care fee, risk adjusted high, initial & 0                                                 & none                                             \\\\\n",
       "\t5482 & G9005                                           & Coordinated care fee, risk adjusted maintenance & 0                                               & none                                           \\\\\n",
       "\t5483 & G9008                                                               & Coordinated care fee, physician coordinated care oversight services & 0                                                                   & none                                                               \\\\\n",
       "\t5484 & G9009                                                    & Coordinated care fee, risk adjusted maintenance, level 3 & 0                                                        & none                                                    \\\\\n",
       "\t5485 & G9010                                                    & Coordinated care fee, risk adjusted maintenance, level 4 & 0                                                        & none                                                    \\\\\n",
       "\t5488 & G9148                & Medical home level 1 & 0                    & none                \\\\\n",
       "\t5489 & G9149                 & Medical home level ii & 0                     & none                 \\\\\n",
       "\t5490 & G9150                  & Medical home level iii & 0                      & none                  \\\\\n",
       "\t5491 & G9151            & Mapcp demo state & 0                & none            \\\\\n",
       "\t5492 & G9152                & Mapcp demo community & 0                    & none                \\\\\n",
       "\t5493 & G9153                & Mapcp demo physician & 0                    & none                \\\\\n",
       "\\end{tabular}\n"
      ],
      "text/plain": [
       "     hcpcs_code\n",
       "5370      D9940\n",
       "5479      G9001\n",
       "5480      G9002\n",
       "5481      G9003\n",
       "5482      G9005\n",
       "5483      G9008\n",
       "5484      G9009\n",
       "5485      G9010\n",
       "5488      G9148\n",
       "5489      G9149\n",
       "5490      G9150\n",
       "5491      G9151\n",
       "5492      G9152\n",
       "5493      G9153\n",
       "                                                       hcpcs_description\n",
       "5370                                          Occlusal guards, by report\n",
       "5479                                  Coordinated care fee, initial rate\n",
       "5480                              Coordinated care fee, maintenance rate\n",
       "5481                   Coordinated care fee, risk adjusted high, initial\n",
       "5482                     Coordinated care fee, risk adjusted maintenance\n",
       "5483 Coordinated care fee, physician coordinated care oversight services\n",
       "5484            Coordinated care fee, risk adjusted maintenance, level 3\n",
       "5485            Coordinated care fee, risk adjusted maintenance, level 4\n",
       "5488                                                Medical home level 1\n",
       "5489                                               Medical home level ii\n",
       "5490                                              Medical home level iii\n",
       "5491                                                    Mapcp demo state\n",
       "5492                                                Mapcp demo community\n",
       "5493                                                Mapcp demo physician\n",
       "     ccs_code ccs_desc\n",
       "5370        0     none\n",
       "5479        0     none\n",
       "5480        0     none\n",
       "5481        0     none\n",
       "5482        0     none\n",
       "5483        0     none\n",
       "5484        0     none\n",
       "5485        0     none\n",
       "5488        0     none\n",
       "5489        0     none\n",
       "5490        0     none\n",
       "5491        0     none\n",
       "5492        0     none\n",
       "5493        0     none"
      ]
     },
     "metadata": {},
     "output_type": "display_data"
    }
   ],
   "source": [
    "##These HCPCS codes don't have a match in the CCS table:\n",
    "subset(df, ccs_code==0)"
   ]
  },
  {
   "cell_type": "code",
   "execution_count": 12,
   "metadata": {
    "collapsed": false
   },
   "outputs": [],
   "source": [
    "# Merge CCS codes into physician data frame:\n",
    "toAppend = df\n",
    "toAppend = toAppend[,-2] ## drop hcpcs description (redundant with other dataframe)\n",
    "\n",
    "#pm = merge(pm, toAppend, by='hcpcs_code') #runs out of memory, either if used on pm or on a subset of pm. Only works with data.Table!"
   ]
  },
  {
   "cell_type": "code",
   "execution_count": 23,
   "metadata": {
    "collapsed": false
   },
   "outputs": [],
   "source": [
    "pm = data.table(pm)\n",
    "setkey(pm, \"hcpcs_code\") \n",
    "pm = merge(pm, toAppend, by='hcpcs_code')"
   ]
  },
  {
   "cell_type": "code",
   "execution_count": 24,
   "metadata": {
    "collapsed": false
   },
   "outputs": [
    {
     "data": {
      "text/html": [
       "<table>\n",
       "<thead><tr><th></th><th scope=col>hcpcs_code</th><th scope=col>npi</th><th scope=col>nppes_provider_last_org_name</th><th scope=col>nppes_provider_first_name</th><th scope=col>nppes_provider_mi</th><th scope=col>nppes_credentials</th><th scope=col>nppes_provider_gender</th><th scope=col>nppes_entity_code</th><th scope=col>nppes_provider_street1</th><th scope=col>nppes_provider_street2</th><th scope=col>...</th><th scope=col>bene_unique_cnt</th><th scope=col>bene_day_srvc_cnt</th><th scope=col>average_medicare_allowed_amt</th><th scope=col>stdev_medicare_allowed_amt</th><th scope=col>average_submitted_chrg_amt</th><th scope=col>stdev_submitted_chrg_amt</th><th scope=col>average_medicare_payment_amt</th><th scope=col>stdev_medicare_payment_amt</th><th scope=col>ccs_code</th><th scope=col>ccs_desc</th></tr></thead>\n",
       "<tbody>\n",
       "\t<tr><th scope=row>1</th><td>00100         </td><td>1396897104    </td><td>RIDGLEY       </td><td>PHILLIP       </td><td>R             </td><td>CRNA          </td><td>M             </td><td>I             </td><td>171 ASHLEY AVE</td><td>              </td><td>...           </td><td>12            </td><td>14            </td><td>125.05928571  </td><td>27.539691217  </td><td>1401.4285714  </td><td>305.13643653  </td><td>100.04857143  </td><td>22.032023076  </td><td>232           </td><td>Anesthesia    </td></tr>\n",
       "\t<tr><th scope=row>2</th><td>00100           </td><td>1508884156      </td><td>FUREY           </td><td>ERIN            </td><td>J               </td><td>MD              </td><td>F               </td><td>I               </td><td>11100 EUCLID AVE</td><td>                </td><td>...             </td><td>12              </td><td>12              </td><td>353.00416667    </td><td>80.615788513    </td><td>2122.5          </td><td>652.5862012     </td><td>282.4025        </td><td>64.492407838    </td><td>232             </td><td>Anesthesia      </td></tr>\n",
       "\t<tr><th scope=row>3</th><td>00100             </td><td>1528032067        </td><td>PLYLER            </td><td>JANICE            </td><td>M                 </td><td>CRNA              </td><td>F                 </td><td>I                 </td><td>107 PLANTATION CIR</td><td>                  </td><td>...               </td><td>14                </td><td>14                </td><td>185.57            </td><td>27.338754805      </td><td>572.92857143      </td><td>84.316126475      </td><td>148.45642857      </td><td>21.87183205       </td><td>232               </td><td>Anesthesia        </td></tr>\n",
       "\t<tr><th scope=row>4</th><td>00100                </td><td>1780646562           </td><td>KLEIN                </td><td>KEVIN                </td><td>W                    </td><td>MD                   </td><td>M                    </td><td>I                    </td><td>5323 HARRY HINES BLVD</td><td>                     </td><td>...                  </td><td>13                   </td><td>13                   </td><td>357.89923077         </td><td>198.10791711         </td><td>2098.4615385         </td><td>965.20899414         </td><td>286.32076923         </td><td>158.48520443         </td><td>232                  </td><td>Anesthesia           </td></tr>\n",
       "\t<tr><th scope=row>5</th><td>00102          </td><td>1700846235     </td><td>DANGELO        </td><td>SCOTT          </td><td>A              </td><td>CRNA           </td><td>M              </td><td>I              </td><td>555 E CHEVES ST</td><td>               </td><td>...            </td><td>17             </td><td>17             </td><td>200.42941176   </td><td>52.47849223    </td><td>1569.7058824   </td><td>827.42597072   </td><td>152.30705882   </td><td>43.448522044   </td><td>232            </td><td>Anesthesia     </td></tr>\n",
       "\t<tr><th scope=row>6</th><td>00103              </td><td>1003019191         </td><td>WARREN             </td><td>DAVID              </td><td>T                  </td><td>M.D.               </td><td>M                  </td><td>I                  </td><td>1108 ROSS CLARK CIR</td><td>                   </td><td>...                </td><td>14                 </td><td>14                 </td><td>90.253571429       </td><td>15.035313008       </td><td>393.53714286       </td><td>229.38057009       </td><td>65.611428571       </td><td>13.137521976       </td><td>232                </td><td>Anesthesia         </td></tr>\n",
       "</tbody>\n",
       "</table>\n"
      ],
      "text/latex": [
       "\\begin{tabular}{r|llllllllllllllllllllllllllllll}\n",
       "  & hcpcs\\_code & npi & nppes\\_provider\\_last\\_org\\_name & nppes\\_provider\\_first\\_name & nppes\\_provider\\_mi & nppes\\_credentials & nppes\\_provider\\_gender & nppes\\_entity\\_code & nppes\\_provider\\_street1 & nppes\\_provider\\_street2 & ... & bene\\_unique\\_cnt & bene\\_day\\_srvc\\_cnt & average\\_medicare\\_allowed\\_amt & stdev\\_medicare\\_allowed\\_amt & average\\_submitted\\_chrg\\_amt & stdev\\_submitted\\_chrg\\_amt & average\\_medicare\\_payment\\_amt & stdev\\_medicare\\_payment\\_amt & ccs\\_code & ccs\\_desc\\\\\n",
       "\\hline\n",
       "\t1 & 00100          & 1396897104     & RIDGLEY        & PHILLIP        & R              & CRNA           & M              & I              & 171 ASHLEY AVE &                & ...            & 12             & 14             & 125.05928571   & 27.539691217   & 1401.4285714   & 305.13643653   & 100.04857143   & 22.032023076   & 232            & Anesthesia    \\\\\n",
       "\t2 & 00100            & 1508884156       & FUREY            & ERIN             & J                & MD               & F                & I                & 11100 EUCLID AVE &                  & ...              & 12               & 12               & 353.00416667     & 80.615788513     & 2122.5           & 652.5862012      & 282.4025         & 64.492407838     & 232              & Anesthesia      \\\\\n",
       "\t3 & 00100              & 1528032067         & PLYLER             & JANICE             & M                  & CRNA               & F                  & I                  & 107 PLANTATION CIR &                    & ...                & 14                 & 14                 & 185.57             & 27.338754805       & 572.92857143       & 84.316126475       & 148.45642857       & 21.87183205        & 232                & Anesthesia        \\\\\n",
       "\t4 & 00100                 & 1780646562            & KLEIN                 & KEVIN                 & W                     & MD                    & M                     & I                     & 5323 HARRY HINES BLVD &                       & ...                   & 13                    & 13                    & 357.89923077          & 198.10791711          & 2098.4615385          & 965.20899414          & 286.32076923          & 158.48520443          & 232                   & Anesthesia           \\\\\n",
       "\t5 & 00102           & 1700846235      & DANGELO         & SCOTT           & A               & CRNA            & M               & I               & 555 E CHEVES ST &                 & ...             & 17              & 17              & 200.42941176    & 52.47849223     & 1569.7058824    & 827.42597072    & 152.30705882    & 43.448522044    & 232             & Anesthesia     \\\\\n",
       "\t6 & 00103               & 1003019191          & WARREN              & DAVID               & T                   & M.D.                & M                   & I                   & 1108 ROSS CLARK CIR &                     & ...                 & 14                  & 14                  & 90.253571429        & 15.035313008        & 393.53714286        & 229.38057009        & 65.611428571        & 13.137521976        & 232                 & Anesthesia         \\\\\n",
       "\\end{tabular}\n"
      ],
      "text/plain": [
       "  hcpcs_code        npi nppes_provider_last_org_name nppes_provider_first_name\n",
       "1      00100 1396897104                      RIDGLEY                   PHILLIP\n",
       "2      00100 1508884156                        FUREY                      ERIN\n",
       "3      00100 1528032067                       PLYLER                    JANICE\n",
       "4      00100 1780646562                        KLEIN                     KEVIN\n",
       "5      00102 1700846235                      DANGELO                     SCOTT\n",
       "6      00103 1003019191                       WARREN                     DAVID\n",
       "  nppes_provider_mi nppes_credentials nppes_provider_gender nppes_entity_code\n",
       "1                 R              CRNA                     M                 I\n",
       "2                 J                MD                     F                 I\n",
       "3                 M              CRNA                     F                 I\n",
       "4                 W                MD                     M                 I\n",
       "5                 A              CRNA                     M                 I\n",
       "6                 T              M.D.                     M                 I\n",
       "  nppes_provider_street1 nppes_provider_street2 ... bene_unique_cnt\n",
       "1         171 ASHLEY AVE                        ...              12\n",
       "2       11100 EUCLID AVE                        ...              12\n",
       "3     107 PLANTATION CIR                        ...              14\n",
       "4  5323 HARRY HINES BLVD                        ...              13\n",
       "5        555 E CHEVES ST                        ...              17\n",
       "6    1108 ROSS CLARK CIR                        ...              14\n",
       "  bene_day_srvc_cnt average_medicare_allowed_amt stdev_medicare_allowed_amt\n",
       "1                14                    125.05929                   27.53969\n",
       "2                12                    353.00417                   80.61579\n",
       "3                14                    185.57000                   27.33875\n",
       "4                13                    357.89923                  198.10792\n",
       "5                17                    200.42941                   52.47849\n",
       "6                14                     90.25357                   15.03531\n",
       "  average_submitted_chrg_amt stdev_submitted_chrg_amt\n",
       "1                  1401.4286                305.13644\n",
       "2                  2122.5000                652.58620\n",
       "3                   572.9286                 84.31613\n",
       "4                  2098.4615                965.20899\n",
       "5                  1569.7059                827.42597\n",
       "6                   393.5371                229.38057\n",
       "  average_medicare_payment_amt stdev_medicare_payment_amt ccs_code   ccs_desc\n",
       "1                    100.04857                   22.03202      232 Anesthesia\n",
       "2                    282.40250                   64.49241      232 Anesthesia\n",
       "3                    148.45643                   21.87183      232 Anesthesia\n",
       "4                    286.32077                  158.48520      232 Anesthesia\n",
       "5                    152.30706                   43.44852      232 Anesthesia\n",
       "6                     65.61143                   13.13752      232 Anesthesia"
      ]
     },
     "metadata": {},
     "output_type": "display_data"
    }
   ],
   "source": [
    "head(pm)"
   ]
  },
  {
   "cell_type": "code",
   "execution_count": 25,
   "metadata": {
    "collapsed": true
   },
   "outputs": [],
   "source": [
    "my_data_file2 = \"procedures2012_with_CCS.RData\"\n",
    "save(pm, file=my_data_file2)"
   ]
  },
  {
   "cell_type": "code",
   "execution_count": null,
   "metadata": {
    "collapsed": true
   },
   "outputs": [],
   "source": []
  }
 ],
 "metadata": {
  "anaconda-cloud": {},
  "kernelspec": {
   "display_name": "R",
   "language": "R",
   "name": "ir"
  },
  "language_info": {
   "codemirror_mode": "r",
   "file_extension": ".r",
   "mimetype": "text/x-r-source",
   "name": "R",
   "pygments_lexer": "r",
   "version": "3.3.1"
  }
 },
 "nbformat": 4,
 "nbformat_minor": 0
}
