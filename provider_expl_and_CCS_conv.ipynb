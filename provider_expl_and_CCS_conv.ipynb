{
 "cells": [
  {
   "cell_type": "markdown",
   "metadata": {},
   "source": [
    "### Medical procedures by physician, Medicare data (2012)\n",
    "Janos Perge, 07/21/2016\n",
    "\n",
    "Purpose:   \n",
    "1) Access Medicare data on the number of performed medical procedures per physician (as a proxi for quality of care).   \n",
    "2) Convert HCPCS (or CPT) procedure codes to CCS codes for further analysis  \n",
    "    \n",
    "Data is a public use file downloadable from CMS:\n",
    "https://www.cms.gov/apps/ama/license.asp?file=http://download.cms.gov/Research-Statistics-Data-and-Systems/Statistics-Trends-and-Reports/Medicare-Provider-Charge-Data/Downloads/Medicare_Provider_Util_Payment_PUF_CY2012_update.zip\n",
    "\n",
    "To run this code, first visit the above url, accept CMS disclaimer, download and unzip file (2GB) and place it in CMS directory (or a location of your choice). Opening and saving file takes about 1 min on my Win10 machine with core i7 and 8GB RAM. \n",
    "\n"
   ]
  },
  {
   "cell_type": "markdown",
   "metadata": {},
   "source": [
    "#### Obtain packages"
   ]
  },
  {
   "cell_type": "code",
   "execution_count": null,
   "metadata": {
    "collapsed": false
   },
   "outputs": [],
   "source": [
    "packageList = c(\"jsonlite\", \"data.table\", \"parallel\",\"foreach\",\"stringr\",\"ggplot2\",\"reshape\",'plyr','rjson')\n",
    "\n",
    "is_installed <- function(mypkg) is.element(mypkg, installed.packages()[,1])\n",
    "\n",
    "load_or_install<-function(package_names)\n",
    "{\n",
    "  for(package_name in package_names)\n",
    "  {\n",
    "    if(!is_installed(package_name))\n",
    "    {\n",
    "      install.packages(package_name,repos=\"http://lib.stat.cmu.edu/R/CRAN\")\n",
    "    }\n",
    "    options(java.parameters = \"-Xmx8g\")\n",
    "    library(package_name,character.only=TRUE,quietly=TRUE,verbose=FALSE)\n",
    "  }\n",
    "}\n",
    "\n",
    "load_or_install(packageList)"
   ]
  },
  {
   "cell_type": "markdown",
   "metadata": {},
   "source": [
    "#### 1. Access data"
   ]
  },
  {
   "cell_type": "code",
   "execution_count": null,
   "metadata": {
    "collapsed": false
   },
   "outputs": [],
   "source": [
    "setwd(\"C:/Users/bubuk/Documents/R/medicare-analysis\")\n",
    "physician_medicare = \"CMS/Medicare_Provider_Util_Payment_PUF_CY2012.txt\" #available data for years 2012,2013,2014\n",
    "my_data_file = \"procedures2012.RData\""
   ]
  },
  {
   "cell_type": "code",
   "execution_count": null,
   "metadata": {
    "collapsed": false
   },
   "outputs": [],
   "source": [
    "#open data from tabular file saved on HD or from Rdatafile:\n",
    "if(file.exists(my_data_file) && !exists(\"pm\")){\n",
    "  load(my_data_file)\n",
    "} else if(!file.exists(my_data_file)) {\n",
    "  pm = read.delim(physician_medicare, stringsAsFactors=FALSE)\n",
    "  pm = pm[2:nrow(pm),]\n",
    "  colnames(pm) = tolower(colnames(pm))\n",
    "\n",
    "  save(pm, file=my_data_file)\n",
    "}"
   ]
  },
  {
   "cell_type": "markdown",
   "metadata": {},
   "source": [
    "#### Explore data frame"
   ]
  },
  {
   "cell_type": "code",
   "execution_count": null,
   "metadata": {
    "collapsed": false,
    "scrolled": true
   },
   "outputs": [],
   "source": [
    "head(pm)"
   ]
  },
  {
   "cell_type": "code",
   "execution_count": null,
   "metadata": {
    "collapsed": false
   },
   "outputs": [],
   "source": [
    "colnames(pm)"
   ]
  },
  {
   "cell_type": "code",
   "execution_count": null,
   "metadata": {
    "collapsed": true
   },
   "outputs": [],
   "source": [
    "descriptor_vars = c(\"npi\", \"nppes_provider_last_org_name\", \"nppes_provider_first_name\", \"nppes_provider_mi\", \n",
    "                    \"nppes_credentials\", \"nppes_provider_gender\", \"nppes_entity_code\", \"nppes_provider_street1\", \n",
    "                    \"nppes_provider_street2\", \"nppes_provider_city\", \"nppes_provider_zip\", \"nppes_provider_state\", \n",
    "                    \"nppes_provider_country\", \"provider_type\", \"medicare_participation_indicator\", \"place_of_service\")\n",
    "\n",
    "payment_vars = c(\"npi\", \"hcpcs_code\", \"line_srvc_cnt\", \"bene_unique_cnt\", \"bene_day_srvc_cnt\", \n",
    "                \"average_medicare_allowed_amt\", \"stdev_medicare_allowed_amt\", \"average_submitted_chrg_amt\", \n",
    "                \"stdev_submitted_chrg_amt\", \"average_medicare_payment_amt\", \"stdev_medicare_payment_amt\")"
   ]
  },
  {
   "cell_type": "code",
   "execution_count": null,
   "metadata": {
    "collapsed": false
   },
   "outputs": [],
   "source": [
    "sel_pm = pm[, payment_vars]\n",
    "sel_pm = data.table(sel_pm)\n",
    "setkey(sel_pm, \"npi\") \n",
    "head(sel_pm)"
   ]
  },
  {
   "cell_type": "code",
   "execution_count": null,
   "metadata": {
    "collapsed": false
   },
   "outputs": [],
   "source": [
    "#coarse measures on payment and patient numbers:\n",
    "phys_summ = sel_pm[\n",
    "  , \n",
    "  list(\n",
    "    service_total=sum(line_srvc_cnt),\n",
    "    ben_total=sum(bene_unique_cnt),\n",
    "    payment=sum(average_medicare_payment_amt * line_srvc_cnt),\n",
    "    charged=sum(average_submitted_chrg_amt * line_srvc_cnt),\n",
    "    allowed=sum(average_medicare_allowed_amt * line_srvc_cnt),\n",
    "    unique_services_per_patient=sum(bene_day_srvc_cnt)/sum(bene_unique_cnt),\n",
    "    duplicates_per_service=sum(line_srvc_cnt)/sum(bene_day_srvc_cnt),\n",
    "    services_per_patient=sum(line_srvc_cnt)/sum(bene_unique_cnt)\n",
    "  ),\n",
    "  by=\"npi\"\n",
    "  ]"
   ]
  },
  {
   "cell_type": "code",
   "execution_count": null,
   "metadata": {
    "collapsed": false
   },
   "outputs": [],
   "source": [
    "head(phys_summ)"
   ]
  },
  {
   "cell_type": "markdown",
   "metadata": {},
   "source": [
    "#### 2. HCPCS/CPT code to CCS conversion"
   ]
  },
  {
   "cell_type": "code",
   "execution_count": null,
   "metadata": {
    "collapsed": false
   },
   "outputs": [],
   "source": [
    "df = pm[, c('hcpcs_code', 'hcpcs_description')]\n",
    "df = df[!duplicated(df$hcpcs_code),]\n",
    "# write.csv(df, file = \"cptlist12.csv\", row.names=FALSE, na=\"\")\n",
    "# df = read.csv(\"cptlist12.csv\")\n",
    "df$ccs_code = 0\n",
    "df$ccs_desc = 'none'\n",
    "df = arrange(df, hcpcs_code)\n",
    "\n",
    "head(df)"
   ]
  },
  {
   "cell_type": "code",
   "execution_count": null,
   "metadata": {
    "collapsed": false
   },
   "outputs": [],
   "source": [
    "table_file = '2016_ccs_services_procedures.csv'\n",
    "ccs_table = read.csv(table_file)\n",
    "ccs_table$Code.Range <- as.character(ccs_table$Code.Range)\n",
    "head(ccs_table)"
   ]
  },
  {
   "cell_type": "code",
   "execution_count": null,
   "metadata": {
    "collapsed": false
   },
   "outputs": [],
   "source": [
    "#create an incremental sequence of CSS codes using Code.Range:\n",
    "get_code_range <- function(inp){    \n",
    "    code_range <- vector(mode=\"numeric\", length=0) #empty \n",
    "    \n",
    "    aaa = unlist(strsplit(inp, \"-\", fixed = TRUE))    \n",
    "    aaa = sub(\"\\'\", \"\", aaa)\n",
    "    \n",
    "    if (!grepl(\"[a-zA-Z]\", aaa[1])){  #if code does not contain letters\n",
    "        aaa = as.numeric(aaa)\n",
    "        code_range = seq.int(aaa[1],aaa[2])\n",
    "        code_range = sprintf(\"%05d\", code_range) # fixed width of five characters with leading zeros\n",
    "        code_range = as.character(code_range)\n",
    "        \n",
    "    } else #if hcpcs code is alphanumeric, with the numeric part as an incremental sequence\n",
    "    {\n",
    "        bbb = substring(aaa[1], seq(1,nchar(aaa[1])), seq(1,nchar(aaa[1]),1)) #break up string to individual characters\n",
    "        letterPos = grep(\"[a-zA-Z]\", bbb, value = FALSE)\n",
    "        letterChar = grep(\"[a-zA-Z]\", bbb, value = TRUE)\n",
    "\n",
    "        numericPart1 = grep(\"[0-9]\", bbb, value = TRUE)\n",
    "        numericPart1 = as.numeric(paste(numericPart1, collapse=\"\"))\n",
    "\n",
    "        bbb = substring(aaa[2], seq(1,nchar(aaa[2])), seq(1,nchar(aaa[2]),1)) \n",
    "        numericPart2 = grep(\"[0-9]\", bbb, value = TRUE)\n",
    "        numericPart2 = as.numeric(paste(numericPart2, collapse=\"\"))\n",
    "\n",
    "        cr  = seq.int(numericPart1,numericPart2)\n",
    "        \n",
    "        if (letterPos==1){\n",
    "            code_range = sprintf(\"%s%04d\", letterChar, cr) # fixed width of four characters with leading zeros\n",
    "        } else\n",
    "        {\n",
    "            code_range = sprintf(\"%04d%s\", cr, letterChar)\n",
    "        }            \n",
    "    }\n",
    "    code_range\n",
    "}"
   ]
  },
  {
   "cell_type": "code",
   "execution_count": null,
   "metadata": {
    "collapsed": false
   },
   "outputs": [],
   "source": [
    "#find corresponding css code and description for each hcpcs code:\n",
    "for (i in 1:nrow(ccs_table)){\n",
    "    codeRange = get_code_range(ccs_table$Code.Range[i])\n",
    "    if(length(codeRange) != 0) {\n",
    "        df$ccs_code[(df$hcpcs_code %in% codeRange * 1)>0] = ccs_table$CCS[i]\n",
    "        df$ccs_desc[(df$hcpcs_code %in% codeRange * 1)>0] = as.character(ccs_table$CCS.Label[i])\n",
    "    }\n",
    "}\n",
    "df = arrange(df, hcpcs_code)\n",
    "df$hcpcs_code = as.character(df$hcpcs_code)\n",
    "head(df)"
   ]
  },
  {
   "cell_type": "code",
   "execution_count": null,
   "metadata": {
    "collapsed": false
   },
   "outputs": [],
   "source": [
    "#matching efficiency:\n",
    "sum(df$ccs_code>0)/nrow(df)"
   ]
  },
  {
   "cell_type": "code",
   "execution_count": null,
   "metadata": {
    "collapsed": false
   },
   "outputs": [],
   "source": [
    "#save conversion table as a csv file:\n",
    "df$hcpcs_code = sprintf(\"%05s\", df$hcpcs_code) # fixed width with leading zeros\n",
    "write.csv(df, file = \"CPT_to_CCS_conversion.csv\", row.names=FALSE, na=\"\")\n",
    "#potential error: .csv file saves numeric hcpcs codes as an arabic number e.g. '102', ommiting zero characters in the beginning.\n",
    "#This would cause mismatches later when mapping fixed-length character arrays such as '00102'. \n",
    "#Need to fix this: what are other ways of forcing write.csv to save as a fixed-length character array?\n",
    "\n",
    "#Currently not as pressing, since R's native data format saves the codes correctly: \n",
    "save(df, file='CPT_to_CSS_Conv_Table.RData')"
   ]
  },
  {
   "cell_type": "code",
   "execution_count": null,
   "metadata": {
    "collapsed": false
   },
   "outputs": [],
   "source": [
    "##These HCPCS codes don't have a match in the CCS table:\n",
    "subset(df, ccs_code==0)"
   ]
  },
  {
   "cell_type": "code",
   "execution_count": null,
   "metadata": {
    "collapsed": false
   },
   "outputs": [],
   "source": [
    "# Merge CCS codes into physician data frame:\n",
    "toAppend = df\n",
    "toAppend = toAppend[,-2] ## drop hcpcs description (redundant with other dataframe)\n",
    "\n",
    "#pm = merge(pm, toAppend, by='hcpcs_code') #runs out of memory, either if used on pm or on a subset of pm. Only works with data.Table!"
   ]
  },
  {
   "cell_type": "code",
   "execution_count": null,
   "metadata": {
    "collapsed": false
   },
   "outputs": [],
   "source": [
    "pm = data.table(pm)\n",
    "setkey(pm, \"hcpcs_code\") \n",
    "pm = merge(pm, toAppend, by='hcpcs_code')"
   ]
  },
  {
   "cell_type": "code",
   "execution_count": null,
   "metadata": {
    "collapsed": false
   },
   "outputs": [],
   "source": [
    "head(pm)"
   ]
  },
  {
   "cell_type": "code",
   "execution_count": null,
   "metadata": {
    "collapsed": true
   },
   "outputs": [],
   "source": [
    "my_data_file2 = \"procedures2012_with_CCS.RData\"\n",
    "save(pm, file=my_data_file2)"
   ]
  },
  {
   "cell_type": "code",
   "execution_count": null,
   "metadata": {
    "collapsed": true
   },
   "outputs": [],
   "source": []
  }
 ],
 "metadata": {
  "anaconda-cloud": {},
  "kernelspec": {
   "display_name": "R",
   "language": "R",
   "name": "ir"
  },
  "language_info": {
   "codemirror_mode": "r",
   "file_extension": ".r",
   "mimetype": "text/x-r-source",
   "name": "R",
   "pygments_lexer": "r",
   "version": "3.3.1"
  }
 },
 "nbformat": 4,
 "nbformat_minor": 0
}
