{
 "cells": [
  {
   "cell_type": "markdown",
   "metadata": {
    "slideshow": {
     "slide_type": "slide"
    }
   },
   "source": [
    "### CPT codes and descriptions (Medicare, 2012-2014)\n",
    "\n",
    "Janos A. Perge, 09/26/2016\n",
    "\n",
    "Purpose:   \n",
    "1) Access data on the number and cost of medical procedures performed by Medicare providers.   \n",
    "2) Obtain CPT procedure codes and their descriptions.\n",
    "3) Repeat over 2012-2014 to get a more complete description list\n",
    "    \n",
    "-Get the Medicare-provider-charge data. This is a publicly available file on medical procedures and the associated cost performed by Medicare providers during year 2012-14. The data is downloadable from CMS:\n",
    "https://www.cms.gov/Research-Statistics-Data-and-Systems/Statistics-Trends-and-Reports/Medicare-Provider-Charge-Data/Physician-and-Other-Supplier.html\n",
    "\n",
    "Visit the url above, accept the CMS disclaimer, download and unzip file (2GB) and place it within the same directory as this script. The data is described in detail in 'Medicare-Physician-and-Other-Supplier-PUF-Methodology.PDF', included in this repository.  "
   ]
  },
  {
   "cell_type": "markdown",
   "metadata": {
    "slideshow": {
     "slide_type": "slide"
    }
   },
   "source": [
    "#### Obtain R-packages"
   ]
  },
  {
   "cell_type": "code",
   "execution_count": 1,
   "metadata": {
    "collapsed": false,
    "slideshow": {
     "slide_type": "subslide"
    }
   },
   "outputs": [],
   "source": [
    "rm(list=ls())\n",
    "\n",
    "packageList = c(\"data.table\",\"stringr\",'plyr')\n",
    "\n",
    "is_installed <- function(mypkg) is.element(mypkg, installed.packages()[,1])\n",
    "\n",
    "load_or_install<-function(package_names)\n",
    "{\n",
    "  for(package_name in package_names)\n",
    "  {\n",
    "    if(!is_installed(package_name))\n",
    "    {\n",
    "      install.packages(package_name,repos=\"http://lib.stat.cmu.edu/R/CRAN\")\n",
    "    }\n",
    "    options(java.parameters = \"-Xmx8g\")\n",
    "    library(package_name,character.only=TRUE,quietly=TRUE,verbose=FALSE)\n",
    "  }\n",
    "}\n",
    "\n",
    "load_or_install(packageList)"
   ]
  },
  {
   "cell_type": "markdown",
   "metadata": {
    "slideshow": {
     "slide_type": "slide"
    }
   },
   "source": [
    "#### Access data"
   ]
  },
  {
   "cell_type": "code",
   "execution_count": 21,
   "metadata": {
    "collapsed": false,
    "slideshow": {
     "slide_type": "skip"
    }
   },
   "outputs": [
    {
     "name": "stdout",
     "output_type": "stream",
     "text": [
      "\r",
      "Read 0.0% of 9316308 rows\r",
      "Read 1.8% of 9316308 rows\r",
      "Read 3.9% of 9316308 rows\r",
      "Read 5.8% of 9316308 rows\r",
      "Read 7.7% of 9316308 rows\r",
      "Read 9.8% of 9316308 rows"
     ]
    },
    {
     "name": "stderr",
     "output_type": "stream",
     "text": [
      "Warning message:\n",
      "In fread(cms_filename): Bumped column 11 to type character on data row 1113710, field contains '96538-9100'. Coercing previously read values in this column from logical, integer or numeric back to character which may not be lossless; e.g., if '00' and '000' occurred before they will now be just '0', and there may be inconsistencies with treatment of ',,' and ',NA,' too (if they occurred in this column before the bump). If this matters please rerun and set 'colClasses' to 'character' for this column. Please note that column type detection uses the first 5 rows, the middle 5 rows and the last 5 rows, so hopefully this message should be very rare. If reporting to datatable-help, please rerun and include the output from verbose=TRUE."
     ]
    },
    {
     "name": "stdout",
     "output_type": "stream",
     "text": [
      "\r",
      "Read 12.0% of 9316308 rows\r",
      "Read 14.5% of 9316308 rows\r",
      "Read 17.1% of 9316308 rows\r",
      "Read 19.6% of 9316308 rows\r",
      "Read 22.2% of 9316308 rows\r",
      "Read 24.9% of 9316308 rows\r",
      "Read 27.6% of 9316308 rows\r",
      "Read 30.2% of 9316308 rows\r",
      "Read 32.6% of 9316308 rows\r",
      "Read 34.0% of 9316308 rows\r",
      "Read 35.0% of 9316308 rows\r",
      "Read 37.0% of 9316308 rows\r",
      "Read 39.0% of 9316308 rows\r",
      "Read 41.2% of 9316308 rows\r",
      "Read 43.7% of 9316308 rows\r",
      "Read 46.0% of 9316308 rows\r",
      "Read 48.6% of 9316308 rows\r",
      "Read 51.2% of 9316308 rows\r",
      "Read 53.8% of 9316308 rows\r",
      "Read 56.2% of 9316308 rows\r",
      "Read 58.7% of 9316308 rows\r",
      "Read 61.2% of 9316308 rows\r",
      "Read 63.4% of 9316308 rows\r",
      "Read 65.9% of 9316308 rows\r",
      "Read 68.2% of 9316308 rows\r",
      "Read 70.4% of 9316308 rows\r",
      "Read 72.9% of 9316308 rows\r",
      "Read 75.4% of 9316308 rows\r",
      "Read 77.8% of 9316308 rows\r",
      "Read 80.3% of 9316308 rows\r",
      "Read 82.8% of 9316308 rows\r",
      "Read 85.1% of 9316308 rows\r",
      "Read 87.6% of 9316308 rows\r",
      "Read 89.9% of 9316308 rows\r",
      "Read 92.2% of 9316308 rows\r",
      "Read 94.6% of 9316308 rows\r",
      "Read 96.8% of 9316308 rows\r",
      "Read 99.1% of 9316308 rows\r",
      "Read 9316308 rows and 26 (of 26) columns from 1.945 GB file in 00:00:59\n"
     ]
    },
    {
     "data": {
      "text/plain": [
       "Time difference of 1.255336 mins"
      ]
     },
     "metadata": {},
     "output_type": "display_data"
    }
   ],
   "source": [
    "cms_filename = \"Medicare_Provider_Util_Payment_PUF_CY2014.txt\" #data is also available on CMS for years 2013 and 2014\n",
    "my_data_file = \"procedures2014.RData\"\n",
    "\n",
    "start = Sys.time()\n",
    "physician_data = data.frame(fread(cms_filename)) #This second way of reading data is ~5 times faster!\n",
    "physician_data = physician_data[2:nrow(physician_data),]\n",
    "colnames(physician_data) = tolower(colnames(physician_data))\n",
    "    \n",
    "Sys.time()-start"
   ]
  },
  {
   "cell_type": "code",
   "execution_count": 22,
   "metadata": {
    "collapsed": false,
    "scrolled": false,
    "slideshow": {
     "slide_type": "slide"
    }
   },
   "outputs": [
    {
     "data": {
      "text/html": [
       "<table>\n",
       "<thead><tr><th></th><th scope=col>npi</th><th scope=col>nppes_provider_last_org_name</th><th scope=col>nppes_provider_first_name</th><th scope=col>nppes_provider_mi</th><th scope=col>nppes_credentials</th><th scope=col>nppes_provider_gender</th><th scope=col>nppes_entity_code</th><th scope=col>nppes_provider_street1</th><th scope=col>nppes_provider_street2</th><th scope=col>nppes_provider_city</th><th scope=col>...</th><th scope=col>hcpcs_code</th><th scope=col>hcpcs_description</th><th scope=col>hcpcs_drug_indicator</th><th scope=col>line_srvc_cnt</th><th scope=col>bene_unique_cnt</th><th scope=col>bene_day_srvc_cnt</th><th scope=col>average_medicare_allowed_amt</th><th scope=col>average_submitted_chrg_amt</th><th scope=col>average_medicare_payment_amt</th><th scope=col>average_medicare_standard_amt</th></tr></thead>\n",
       "<tbody>\n",
       "\t<tr><th scope=row>2</th><td>1003000126                                                   </td><td>ENKESHAFI                                                    </td><td>ARDALAN                                                      </td><td>                                                             </td><td>M.D.                                                         </td><td>M                                                            </td><td>I                                                            </td><td>900 SETON DR                                                 </td><td>                                                             </td><td>CUMBERLAND                                                   </td><td>...                                                          </td><td>99222                                                        </td><td>Initial hospital inpatient care, typically 50 minutes per day</td><td>N                                                            </td><td>357                                                          </td><td>341                                                          </td><td>357                                                          </td><td>141.05                                                       </td><td>416.54621849                                                 </td><td>107.51787115                                                 </td><td>106.73123249                                                 </td></tr>\n",
       "\t<tr><th scope=row>3</th><td>1003000126                                                   </td><td>ENKESHAFI                                                    </td><td>ARDALAN                                                      </td><td>                                                             </td><td>M.D.                                                         </td><td>M                                                            </td><td>I                                                            </td><td>900 SETON DR                                                 </td><td>                                                             </td><td>CUMBERLAND                                                   </td><td>...                                                          </td><td>99223                                                        </td><td>Initial hospital inpatient care, typically 70 minutes per day</td><td>N                                                            </td><td>98                                                           </td><td>98                                                           </td><td>98                                                           </td><td>207.79                                                       </td><td>611                                                          </td><td>152.55122449                                                 </td><td>153.30683673                                                 </td></tr>\n",
       "\t<tr><th scope=row>4</th><td>1003000126                                                      </td><td>ENKESHAFI                                                       </td><td>ARDALAN                                                         </td><td>                                                                </td><td>M.D.                                                            </td><td>M                                                               </td><td>I                                                               </td><td>900 SETON DR                                                    </td><td>                                                                </td><td>CUMBERLAND                                                      </td><td>...                                                             </td><td>99231                                                           </td><td>Subsequent hospital inpatient care, typically 15 minutes per day</td><td>N                                                               </td><td>104                                                             </td><td>65                                                              </td><td>104                                                             </td><td>40.1                                                            </td><td>119                                                             </td><td>30.835384615                                                    </td><td>30.708269231                                                    </td></tr>\n",
       "\t<tr><th scope=row>5</th><td>1003000126                                                      </td><td>ENKESHAFI                                                       </td><td>ARDALAN                                                         </td><td>                                                                </td><td>M.D.                                                            </td><td>M                                                               </td><td>I                                                               </td><td>900 SETON DR                                                    </td><td>                                                                </td><td>CUMBERLAND                                                      </td><td>...                                                             </td><td>99232                                                           </td><td>Subsequent hospital inpatient care, typically 25 minutes per day</td><td>N                                                               </td><td>1418                                                            </td><td>596                                                             </td><td>1418                                                            </td><td>73.66                                                           </td><td>217                                                             </td><td>56.297757405                                                    </td><td>56.098208745                                                    </td></tr>\n",
       "\t<tr><th scope=row>6</th><td>1003000126                                                      </td><td>ENKESHAFI                                                       </td><td>ARDALAN                                                         </td><td>                                                                </td><td>M.D.                                                            </td><td>M                                                               </td><td>I                                                               </td><td>900 SETON DR                                                    </td><td>                                                                </td><td>CUMBERLAND                                                      </td><td>...                                                             </td><td>99233                                                           </td><td>Subsequent hospital inpatient care, typically 35 minutes per day</td><td>N                                                               </td><td>175                                                             </td><td>104                                                             </td><td>175                                                             </td><td>106.12                                                          </td><td>312                                                             </td><td>82.398171429                                                    </td><td>81.612742857                                                    </td></tr>\n",
       "\t<tr><th scope=row>7</th><td>1003000126                                           </td><td>ENKESHAFI                                            </td><td>ARDALAN                                              </td><td>                                                     </td><td>M.D.                                                 </td><td>M                                                    </td><td>I                                                    </td><td>900 SETON DR                                         </td><td>                                                     </td><td>CUMBERLAND                                           </td><td>...                                                  </td><td>99238                                                </td><td>Hospital discharge day management, 30 minutes or less</td><td>N                                                    </td><td>330                                                  </td><td>316                                                  </td><td>330                                                  </td><td>74.14                                                </td><td>217                                                  </td><td>55.681242424                                         </td><td>55.199757576                                         </td></tr>\n",
       "</tbody>\n",
       "</table>\n"
      ],
      "text/latex": [
       "\\begin{tabular}{r|llllllllllllllllllllllllll}\n",
       "  & npi & nppes\\_provider\\_last\\_org\\_name & nppes\\_provider\\_first\\_name & nppes\\_provider\\_mi & nppes\\_credentials & nppes\\_provider\\_gender & nppes\\_entity\\_code & nppes\\_provider\\_street1 & nppes\\_provider\\_street2 & nppes\\_provider\\_city & ... & hcpcs\\_code & hcpcs\\_description & hcpcs\\_drug\\_indicator & line\\_srvc\\_cnt & bene\\_unique\\_cnt & bene\\_day\\_srvc\\_cnt & average\\_medicare\\_allowed\\_amt & average\\_submitted\\_chrg\\_amt & average\\_medicare\\_payment\\_amt & average\\_medicare\\_standard\\_amt\\\\\n",
       "\\hline\n",
       "\t2 & 1003000126                                                    & ENKESHAFI                                                     & ARDALAN                                                       &                                                               & M.D.                                                          & M                                                             & I                                                             & 900 SETON DR                                                  &                                                               & CUMBERLAND                                                    & ...                                                           & 99222                                                         & Initial hospital inpatient care, typically 50 minutes per day & N                                                             & 357                                                           & 341                                                           & 357                                                           & 141.05                                                        & 416.54621849                                                  & 107.51787115                                                  & 106.73123249                                                 \\\\\n",
       "\t3 & 1003000126                                                    & ENKESHAFI                                                     & ARDALAN                                                       &                                                               & M.D.                                                          & M                                                             & I                                                             & 900 SETON DR                                                  &                                                               & CUMBERLAND                                                    & ...                                                           & 99223                                                         & Initial hospital inpatient care, typically 70 minutes per day & N                                                             & 98                                                            & 98                                                            & 98                                                            & 207.79                                                        & 611                                                           & 152.55122449                                                  & 153.30683673                                                 \\\\\n",
       "\t4 & 1003000126                                                       & ENKESHAFI                                                        & ARDALAN                                                          &                                                                  & M.D.                                                             & M                                                                & I                                                                & 900 SETON DR                                                     &                                                                  & CUMBERLAND                                                       & ...                                                              & 99231                                                            & Subsequent hospital inpatient care, typically 15 minutes per day & N                                                                & 104                                                              & 65                                                               & 104                                                              & 40.1                                                             & 119                                                              & 30.835384615                                                     & 30.708269231                                                    \\\\\n",
       "\t5 & 1003000126                                                       & ENKESHAFI                                                        & ARDALAN                                                          &                                                                  & M.D.                                                             & M                                                                & I                                                                & 900 SETON DR                                                     &                                                                  & CUMBERLAND                                                       & ...                                                              & 99232                                                            & Subsequent hospital inpatient care, typically 25 minutes per day & N                                                                & 1418                                                             & 596                                                              & 1418                                                             & 73.66                                                            & 217                                                              & 56.297757405                                                     & 56.098208745                                                    \\\\\n",
       "\t6 & 1003000126                                                       & ENKESHAFI                                                        & ARDALAN                                                          &                                                                  & M.D.                                                             & M                                                                & I                                                                & 900 SETON DR                                                     &                                                                  & CUMBERLAND                                                       & ...                                                              & 99233                                                            & Subsequent hospital inpatient care, typically 35 minutes per day & N                                                                & 175                                                              & 104                                                              & 175                                                              & 106.12                                                           & 312                                                              & 82.398171429                                                     & 81.612742857                                                    \\\\\n",
       "\t7 & 1003000126                                            & ENKESHAFI                                             & ARDALAN                                               &                                                       & M.D.                                                  & M                                                     & I                                                     & 900 SETON DR                                          &                                                       & CUMBERLAND                                            & ...                                                   & 99238                                                 & Hospital discharge day management, 30 minutes or less & N                                                     & 330                                                   & 316                                                   & 330                                                   & 74.14                                                 & 217                                                   & 55.681242424                                          & 55.199757576                                         \\\\\n",
       "\\end{tabular}\n"
      ],
      "text/plain": [
       "         npi nppes_provider_last_org_name nppes_provider_first_name\n",
       "2 1003000126                    ENKESHAFI                   ARDALAN\n",
       "3 1003000126                    ENKESHAFI                   ARDALAN\n",
       "4 1003000126                    ENKESHAFI                   ARDALAN\n",
       "5 1003000126                    ENKESHAFI                   ARDALAN\n",
       "6 1003000126                    ENKESHAFI                   ARDALAN\n",
       "7 1003000126                    ENKESHAFI                   ARDALAN\n",
       "  nppes_provider_mi nppes_credentials nppes_provider_gender nppes_entity_code\n",
       "2                                M.D.                     M                 I\n",
       "3                                M.D.                     M                 I\n",
       "4                                M.D.                     M                 I\n",
       "5                                M.D.                     M                 I\n",
       "6                                M.D.                     M                 I\n",
       "7                                M.D.                     M                 I\n",
       "  nppes_provider_street1 nppes_provider_street2 nppes_provider_city ...\n",
       "2           900 SETON DR                                 CUMBERLAND ...\n",
       "3           900 SETON DR                                 CUMBERLAND ...\n",
       "4           900 SETON DR                                 CUMBERLAND ...\n",
       "5           900 SETON DR                                 CUMBERLAND ...\n",
       "6           900 SETON DR                                 CUMBERLAND ...\n",
       "7           900 SETON DR                                 CUMBERLAND ...\n",
       "  hcpcs_code                                                hcpcs_description\n",
       "2      99222    Initial hospital inpatient care, typically 50 minutes per day\n",
       "3      99223    Initial hospital inpatient care, typically 70 minutes per day\n",
       "4      99231 Subsequent hospital inpatient care, typically 15 minutes per day\n",
       "5      99232 Subsequent hospital inpatient care, typically 25 minutes per day\n",
       "6      99233 Subsequent hospital inpatient care, typically 35 minutes per day\n",
       "7      99238            Hospital discharge day management, 30 minutes or less\n",
       "  hcpcs_drug_indicator line_srvc_cnt bene_unique_cnt bene_day_srvc_cnt\n",
       "2                    N           357             341               357\n",
       "3                    N            98              98                98\n",
       "4                    N           104              65               104\n",
       "5                    N          1418             596              1418\n",
       "6                    N           175             104               175\n",
       "7                    N           330             316               330\n",
       "  average_medicare_allowed_amt average_submitted_chrg_amt\n",
       "2                       141.05                   416.5462\n",
       "3                       207.79                   611.0000\n",
       "4                        40.10                   119.0000\n",
       "5                        73.66                   217.0000\n",
       "6                       106.12                   312.0000\n",
       "7                        74.14                   217.0000\n",
       "  average_medicare_payment_amt average_medicare_standard_amt\n",
       "2                    107.51787                     106.73123\n",
       "3                    152.55122                     153.30684\n",
       "4                     30.83538                      30.70827\n",
       "5                     56.29776                      56.09821\n",
       "6                     82.39817                      81.61274\n",
       "7                     55.68124                      55.19976"
      ]
     },
     "metadata": {},
     "output_type": "display_data"
    }
   ],
   "source": [
    "head(physician_data)"
   ]
  },
  {
   "cell_type": "code",
   "execution_count": 23,
   "metadata": {
    "collapsed": false,
    "slideshow": {
     "slide_type": "slide"
    }
   },
   "outputs": [
    {
     "data": {
      "text/html": [
       "<ol class=list-inline>\n",
       "\t<li>\"npi\"</li>\n",
       "\t<li>\"nppes_provider_last_org_name\"</li>\n",
       "\t<li>\"nppes_provider_first_name\"</li>\n",
       "\t<li>\"nppes_provider_mi\"</li>\n",
       "\t<li>\"nppes_credentials\"</li>\n",
       "\t<li>\"nppes_provider_gender\"</li>\n",
       "\t<li>\"nppes_entity_code\"</li>\n",
       "\t<li>\"nppes_provider_street1\"</li>\n",
       "\t<li>\"nppes_provider_street2\"</li>\n",
       "\t<li>\"nppes_provider_city\"</li>\n",
       "\t<li>\"nppes_provider_zip\"</li>\n",
       "\t<li>\"nppes_provider_state\"</li>\n",
       "\t<li>\"nppes_provider_country\"</li>\n",
       "\t<li>\"provider_type\"</li>\n",
       "\t<li>\"medicare_participation_indicator\"</li>\n",
       "\t<li>\"place_of_service\"</li>\n",
       "\t<li>\"hcpcs_code\"</li>\n",
       "\t<li>\"hcpcs_description\"</li>\n",
       "\t<li>\"hcpcs_drug_indicator\"</li>\n",
       "\t<li>\"line_srvc_cnt\"</li>\n",
       "\t<li>\"bene_unique_cnt\"</li>\n",
       "\t<li>\"bene_day_srvc_cnt\"</li>\n",
       "\t<li>\"average_medicare_allowed_amt\"</li>\n",
       "\t<li>\"average_submitted_chrg_amt\"</li>\n",
       "\t<li>\"average_medicare_payment_amt\"</li>\n",
       "\t<li>\"average_medicare_standard_amt\"</li>\n",
       "</ol>\n"
      ],
      "text/latex": [
       "\\begin{enumerate*}\n",
       "\\item \"npi\"\n",
       "\\item \"nppes\\_provider\\_last\\_org\\_name\"\n",
       "\\item \"nppes\\_provider\\_first\\_name\"\n",
       "\\item \"nppes\\_provider\\_mi\"\n",
       "\\item \"nppes\\_credentials\"\n",
       "\\item \"nppes\\_provider\\_gender\"\n",
       "\\item \"nppes\\_entity\\_code\"\n",
       "\\item \"nppes\\_provider\\_street1\"\n",
       "\\item \"nppes\\_provider\\_street2\"\n",
       "\\item \"nppes\\_provider\\_city\"\n",
       "\\item \"nppes\\_provider\\_zip\"\n",
       "\\item \"nppes\\_provider\\_state\"\n",
       "\\item \"nppes\\_provider\\_country\"\n",
       "\\item \"provider\\_type\"\n",
       "\\item \"medicare\\_participation\\_indicator\"\n",
       "\\item \"place\\_of\\_service\"\n",
       "\\item \"hcpcs\\_code\"\n",
       "\\item \"hcpcs\\_description\"\n",
       "\\item \"hcpcs\\_drug\\_indicator\"\n",
       "\\item \"line\\_srvc\\_cnt\"\n",
       "\\item \"bene\\_unique\\_cnt\"\n",
       "\\item \"bene\\_day\\_srvc\\_cnt\"\n",
       "\\item \"average\\_medicare\\_allowed\\_amt\"\n",
       "\\item \"average\\_submitted\\_chrg\\_amt\"\n",
       "\\item \"average\\_medicare\\_payment\\_amt\"\n",
       "\\item \"average\\_medicare\\_standard\\_amt\"\n",
       "\\end{enumerate*}\n"
      ],
      "text/markdown": [
       "1. \"npi\"\n",
       "2. \"nppes_provider_last_org_name\"\n",
       "3. \"nppes_provider_first_name\"\n",
       "4. \"nppes_provider_mi\"\n",
       "5. \"nppes_credentials\"\n",
       "6. \"nppes_provider_gender\"\n",
       "7. \"nppes_entity_code\"\n",
       "8. \"nppes_provider_street1\"\n",
       "9. \"nppes_provider_street2\"\n",
       "10. \"nppes_provider_city\"\n",
       "11. \"nppes_provider_zip\"\n",
       "12. \"nppes_provider_state\"\n",
       "13. \"nppes_provider_country\"\n",
       "14. \"provider_type\"\n",
       "15. \"medicare_participation_indicator\"\n",
       "16. \"place_of_service\"\n",
       "17. \"hcpcs_code\"\n",
       "18. \"hcpcs_description\"\n",
       "19. \"hcpcs_drug_indicator\"\n",
       "20. \"line_srvc_cnt\"\n",
       "21. \"bene_unique_cnt\"\n",
       "22. \"bene_day_srvc_cnt\"\n",
       "23. \"average_medicare_allowed_amt\"\n",
       "24. \"average_submitted_chrg_amt\"\n",
       "25. \"average_medicare_payment_amt\"\n",
       "26. \"average_medicare_standard_amt\"\n",
       "\n",
       "\n"
      ],
      "text/plain": [
       " [1] \"npi\"                              \"nppes_provider_last_org_name\"    \n",
       " [3] \"nppes_provider_first_name\"        \"nppes_provider_mi\"               \n",
       " [5] \"nppes_credentials\"                \"nppes_provider_gender\"           \n",
       " [7] \"nppes_entity_code\"                \"nppes_provider_street1\"          \n",
       " [9] \"nppes_provider_street2\"           \"nppes_provider_city\"             \n",
       "[11] \"nppes_provider_zip\"               \"nppes_provider_state\"            \n",
       "[13] \"nppes_provider_country\"           \"provider_type\"                   \n",
       "[15] \"medicare_participation_indicator\" \"place_of_service\"                \n",
       "[17] \"hcpcs_code\"                       \"hcpcs_description\"               \n",
       "[19] \"hcpcs_drug_indicator\"             \"line_srvc_cnt\"                   \n",
       "[21] \"bene_unique_cnt\"                  \"bene_day_srvc_cnt\"               \n",
       "[23] \"average_medicare_allowed_amt\"     \"average_submitted_chrg_amt\"      \n",
       "[25] \"average_medicare_payment_amt\"     \"average_medicare_standard_amt\"   "
      ]
     },
     "metadata": {},
     "output_type": "display_data"
    }
   ],
   "source": [
    "colnames(physician_data)"
   ]
  },
  {
   "cell_type": "code",
   "execution_count": 24,
   "metadata": {
    "collapsed": false,
    "slideshow": {
     "slide_type": "skip"
    }
   },
   "outputs": [],
   "source": [
    "#physician data is large and clogs memory. Therefore I take what I need and clear the rest from the workspace:\n",
    "conversion_table = physician_data[, c('hcpcs_code', 'hcpcs_description')]\n",
    "#rm(physician_data)"
   ]
  },
  {
   "cell_type": "code",
   "execution_count": 12,
   "metadata": {
    "collapsed": false,
    "scrolled": true,
    "slideshow": {
     "slide_type": "subslide"
    }
   },
   "outputs": [
    {
     "data": {
      "text/html": [
       "5949"
      ],
      "text/latex": [
       "5949"
      ],
      "text/markdown": [
       "5949"
      ],
      "text/plain": [
       "[1] 5949"
      ]
     },
     "metadata": {},
     "output_type": "display_data"
    },
    {
     "data": {
      "text/html": [
       "<table>\n",
       "<thead><tr><th></th><th scope=col>hcpcs_code</th><th scope=col>hcpcs_description</th></tr></thead>\n",
       "<tbody>\n",
       "\t<tr><th scope=row>1</th><td>00100                                                 </td><td>Anesthesia for procedure on salivary gland with biopsy</td></tr>\n",
       "\t<tr><th scope=row>2</th><td>00102                                                         </td><td>Anesthesia for procedure to repair lip defect present at birth</td></tr>\n",
       "\t<tr><th scope=row>3</th><td>00103                             </td><td>Anesthesia for procedure on eyelid</td></tr>\n",
       "\t<tr><th scope=row>4</th><td>00104                                  </td><td>Anesthesia for electric shock treatment</td></tr>\n",
       "\t<tr><th scope=row>5</th><td>00120                                                 </td><td>Anesthesia for biopsy of external middle and inner ear</td></tr>\n",
       "\t<tr><th scope=row>6</th><td>00126                              </td><td>Anesthesia for incision of ear drum</td></tr>\n",
       "</tbody>\n",
       "</table>\n"
      ],
      "text/latex": [
       "\\begin{tabular}{r|ll}\n",
       "  & hcpcs\\_code & hcpcs\\_description\\\\\n",
       "\\hline\n",
       "\t1 & 00100                                                  & Anesthesia for procedure on salivary gland with biopsy\\\\\n",
       "\t2 & 00102                                                          & Anesthesia for procedure to repair lip defect present at birth\\\\\n",
       "\t3 & 00103                              & Anesthesia for procedure on eyelid\\\\\n",
       "\t4 & 00104                                   & Anesthesia for electric shock treatment\\\\\n",
       "\t5 & 00120                                                  & Anesthesia for biopsy of external middle and inner ear\\\\\n",
       "\t6 & 00126                               & Anesthesia for incision of ear drum\\\\\n",
       "\\end{tabular}\n"
      ],
      "text/plain": [
       "  hcpcs_code                                              hcpcs_description\n",
       "1      00100         Anesthesia for procedure on salivary gland with biopsy\n",
       "2      00102 Anesthesia for procedure to repair lip defect present at birth\n",
       "3      00103                             Anesthesia for procedure on eyelid\n",
       "4      00104                        Anesthesia for electric shock treatment\n",
       "5      00120         Anesthesia for biopsy of external middle and inner ear\n",
       "6      00126                            Anesthesia for incision of ear drum"
      ]
     },
     "metadata": {},
     "output_type": "display_data"
    }
   ],
   "source": [
    "conversion_table12 = conversion_table[!duplicated(conversion_table$hcpcs_code),]\n",
    "conversion_table12 = data.table(conversion_table12)\n",
    "setkey(conversion_table12, hcpcs_code)\n",
    "nrow(conversion_table12)\n",
    "head(conversion_table12)"
   ]
  },
  {
   "cell_type": "code",
   "execution_count": 19,
   "metadata": {
    "collapsed": false
   },
   "outputs": [
    {
     "data": {
      "text/html": [
       "5983"
      ],
      "text/latex": [
       "5983"
      ],
      "text/markdown": [
       "5983"
      ],
      "text/plain": [
       "[1] 5983"
      ]
     },
     "metadata": {},
     "output_type": "display_data"
    },
    {
     "data": {
      "text/html": [
       "<table>\n",
       "<thead><tr><th></th><th scope=col>hcpcs_code</th><th scope=col>hcpcs_description</th></tr></thead>\n",
       "<tbody>\n",
       "\t<tr><th scope=row>1</th><td>00100                                                 </td><td>Anesthesia for procedure on salivary gland with biopsy</td></tr>\n",
       "\t<tr><th scope=row>2</th><td>00103                             </td><td>Anesthesia for procedure on eyelid</td></tr>\n",
       "\t<tr><th scope=row>3</th><td>00104                                  </td><td>Anesthesia for electric shock treatment</td></tr>\n",
       "\t<tr><th scope=row>4</th><td>00120                                                 </td><td>Anesthesia for biopsy of external middle and inner ear</td></tr>\n",
       "\t<tr><th scope=row>5</th><td>00126                              </td><td>Anesthesia for incision of ear drum</td></tr>\n",
       "\t<tr><th scope=row>6</th><td>00140                          </td><td>Anesthesia for procedure on eye</td></tr>\n",
       "</tbody>\n",
       "</table>\n"
      ],
      "text/latex": [
       "\\begin{tabular}{r|ll}\n",
       "  & hcpcs\\_code & hcpcs\\_description\\\\\n",
       "\\hline\n",
       "\t1 & 00100                                                  & Anesthesia for procedure on salivary gland with biopsy\\\\\n",
       "\t2 & 00103                              & Anesthesia for procedure on eyelid\\\\\n",
       "\t3 & 00104                                   & Anesthesia for electric shock treatment\\\\\n",
       "\t4 & 00120                                                  & Anesthesia for biopsy of external middle and inner ear\\\\\n",
       "\t5 & 00126                               & Anesthesia for incision of ear drum\\\\\n",
       "\t6 & 00140                           & Anesthesia for procedure on eye\\\\\n",
       "\\end{tabular}\n"
      ],
      "text/plain": [
       "  hcpcs_code                                      hcpcs_description\n",
       "1      00100 Anesthesia for procedure on salivary gland with biopsy\n",
       "2      00103                     Anesthesia for procedure on eyelid\n",
       "3      00104                Anesthesia for electric shock treatment\n",
       "4      00120 Anesthesia for biopsy of external middle and inner ear\n",
       "5      00126                    Anesthesia for incision of ear drum\n",
       "6      00140                        Anesthesia for procedure on eye"
      ]
     },
     "metadata": {},
     "output_type": "display_data"
    }
   ],
   "source": [
    "conversion_table13 = conversion_table[!duplicated(conversion_table$hcpcs_code),]\n",
    "conversion_table13 = data.table(conversion_table13)\n",
    "setkey(conversion_table13, hcpcs_code)\n",
    "nrow(conversion_table13)\n",
    "head(conversion_table13)"
   ]
  },
  {
   "cell_type": "code",
   "execution_count": 25,
   "metadata": {
    "collapsed": false,
    "scrolled": true
   },
   "outputs": [
    {
     "data": {
      "text/html": [
       "5972"
      ],
      "text/latex": [
       "5972"
      ],
      "text/markdown": [
       "5972"
      ],
      "text/plain": [
       "[1] 5972"
      ]
     },
     "metadata": {},
     "output_type": "display_data"
    },
    {
     "data": {
      "text/html": [
       "<table>\n",
       "<thead><tr><th></th><th scope=col>hcpcs_code</th><th scope=col>hcpcs_description</th></tr></thead>\n",
       "<tbody>\n",
       "\t<tr><th scope=row>1</th><td>00100                                                 </td><td>Anesthesia for procedure on salivary gland with biopsy</td></tr>\n",
       "\t<tr><th scope=row>2</th><td>00103                             </td><td>Anesthesia for procedure on eyelid</td></tr>\n",
       "\t<tr><th scope=row>3</th><td>00104                                  </td><td>Anesthesia for electric shock treatment</td></tr>\n",
       "\t<tr><th scope=row>4</th><td>00120                                                 </td><td>Anesthesia for biopsy of external middle and inner ear</td></tr>\n",
       "\t<tr><th scope=row>5</th><td>00126                              </td><td>Anesthesia for incision of ear drum</td></tr>\n",
       "\t<tr><th scope=row>6</th><td>00140                          </td><td>Anesthesia for procedure on eye</td></tr>\n",
       "</tbody>\n",
       "</table>\n"
      ],
      "text/latex": [
       "\\begin{tabular}{r|ll}\n",
       "  & hcpcs\\_code & hcpcs\\_description\\\\\n",
       "\\hline\n",
       "\t1 & 00100                                                  & Anesthesia for procedure on salivary gland with biopsy\\\\\n",
       "\t2 & 00103                              & Anesthesia for procedure on eyelid\\\\\n",
       "\t3 & 00104                                   & Anesthesia for electric shock treatment\\\\\n",
       "\t4 & 00120                                                  & Anesthesia for biopsy of external middle and inner ear\\\\\n",
       "\t5 & 00126                               & Anesthesia for incision of ear drum\\\\\n",
       "\t6 & 00140                           & Anesthesia for procedure on eye\\\\\n",
       "\\end{tabular}\n"
      ],
      "text/plain": [
       "  hcpcs_code                                      hcpcs_description\n",
       "1      00100 Anesthesia for procedure on salivary gland with biopsy\n",
       "2      00103                     Anesthesia for procedure on eyelid\n",
       "3      00104                Anesthesia for electric shock treatment\n",
       "4      00120 Anesthesia for biopsy of external middle and inner ear\n",
       "5      00126                    Anesthesia for incision of ear drum\n",
       "6      00140                        Anesthesia for procedure on eye"
      ]
     },
     "metadata": {},
     "output_type": "display_data"
    }
   ],
   "source": [
    "conversion_table14 = conversion_table[!duplicated(conversion_table$hcpcs_code),]\n",
    "conversion_table14 = data.table(conversion_table14)\n",
    "setkey(conversion_table14, hcpcs_code)\n",
    "nrow(conversion_table14)\n",
    "head(conversion_table14)"
   ]
  },
  {
   "cell_type": "code",
   "execution_count": 28,
   "metadata": {
    "collapsed": true
   },
   "outputs": [],
   "source": [
    "# combine 3 years of data:\n",
    "cTab <- rbind(conversion_table12,conversion_table13, conversion_table14)\n",
    "cTab = unique(cTab)"
   ]
  },
  {
   "cell_type": "code",
   "execution_count": 29,
   "metadata": {
    "collapsed": false
   },
   "outputs": [
    {
     "data": {
      "text/html": [
       "8118"
      ],
      "text/latex": [
       "8118"
      ],
      "text/markdown": [
       "8118"
      ],
      "text/plain": [
       "[1] 8118"
      ]
     },
     "metadata": {},
     "output_type": "display_data"
    }
   ],
   "source": [
    "nrow(cTab)"
   ]
  },
  {
   "cell_type": "code",
   "execution_count": 30,
   "metadata": {
    "collapsed": false,
    "scrolled": true
   },
   "outputs": [
    {
     "data": {
      "text/html": [
       "<table>\n",
       "<thead><tr><th></th><th scope=col>hcpcs_code</th><th scope=col>hcpcs_description</th></tr></thead>\n",
       "<tbody>\n",
       "\t<tr><th scope=row>1</th><td>00100                                                 </td><td>Anesthesia for procedure on salivary gland with biopsy</td></tr>\n",
       "\t<tr><th scope=row>2</th><td>00102                                                         </td><td>Anesthesia for procedure to repair lip defect present at birth</td></tr>\n",
       "\t<tr><th scope=row>3</th><td>00103                             </td><td>Anesthesia for procedure on eyelid</td></tr>\n",
       "\t<tr><th scope=row>4</th><td>00104                                  </td><td>Anesthesia for electric shock treatment</td></tr>\n",
       "\t<tr><th scope=row>5</th><td>00120                                                 </td><td>Anesthesia for biopsy of external middle and inner ear</td></tr>\n",
       "\t<tr><th scope=row>6</th><td>00126                              </td><td>Anesthesia for incision of ear drum</td></tr>\n",
       "</tbody>\n",
       "</table>\n"
      ],
      "text/latex": [
       "\\begin{tabular}{r|ll}\n",
       "  & hcpcs\\_code & hcpcs\\_description\\\\\n",
       "\\hline\n",
       "\t1 & 00100                                                  & Anesthesia for procedure on salivary gland with biopsy\\\\\n",
       "\t2 & 00102                                                          & Anesthesia for procedure to repair lip defect present at birth\\\\\n",
       "\t3 & 00103                              & Anesthesia for procedure on eyelid\\\\\n",
       "\t4 & 00104                                   & Anesthesia for electric shock treatment\\\\\n",
       "\t5 & 00120                                                  & Anesthesia for biopsy of external middle and inner ear\\\\\n",
       "\t6 & 00126                               & Anesthesia for incision of ear drum\\\\\n",
       "\\end{tabular}\n"
      ],
      "text/plain": [
       "  hcpcs_code                                              hcpcs_description\n",
       "1      00100         Anesthesia for procedure on salivary gland with biopsy\n",
       "2      00102 Anesthesia for procedure to repair lip defect present at birth\n",
       "3      00103                             Anesthesia for procedure on eyelid\n",
       "4      00104                        Anesthesia for electric shock treatment\n",
       "5      00120         Anesthesia for biopsy of external middle and inner ear\n",
       "6      00126                            Anesthesia for incision of ear drum"
      ]
     },
     "metadata": {},
     "output_type": "display_data"
    }
   ],
   "source": [
    "head(cTab)"
   ]
  },
  {
   "cell_type": "code",
   "execution_count": 31,
   "metadata": {
    "collapsed": false
   },
   "outputs": [
    {
     "name": "stdout",
     "output_type": "stream",
     "text": [
      "Classes 'data.table' and 'data.frame':\t8118 obs. of  2 variables:\n",
      " $ hcpcs_code       : chr  \"00100\" \"00102\" \"00103\" \"00104\" ...\n",
      " $ hcpcs_description: chr  \"Anesthesia for procedure on salivary gland with biopsy\" \"Anesthesia for procedure to repair lip defect present at birth\" \"Anesthesia for procedure on eyelid\" \"Anesthesia for electric shock treatment\" ...\n",
      " - attr(*, \".internal.selfref\")=<externalptr> \n"
     ]
    }
   ],
   "source": [
    "str(cTab)"
   ]
  },
  {
   "cell_type": "code",
   "execution_count": 33,
   "metadata": {
    "collapsed": true
   },
   "outputs": [],
   "source": [
    "write.csv(cTab, file = \"CPTCodesAndDesc2012_2014.txt\", row.names=FALSE, na=\"\")\n",
    "save(cTab, file='CPTCodesAndDesc2012_2014.RData')"
   ]
  },
  {
   "cell_type": "code",
   "execution_count": 34,
   "metadata": {
    "collapsed": false
   },
   "outputs": [],
   "source": [
    "rm(physician_data)"
   ]
  },
  {
   "cell_type": "code",
   "execution_count": 35,
   "metadata": {
    "collapsed": true
   },
   "outputs": [],
   "source": [
    "conversion_table = cTab"
   ]
  },
  {
   "cell_type": "markdown",
   "metadata": {
    "slideshow": {
     "slide_type": "slide"
    }
   },
   "source": [
    "#### Spreadsheet #2: HCPCS/CPT code to CCS conversion"
   ]
  },
  {
   "cell_type": "code",
   "execution_count": 36,
   "metadata": {
    "collapsed": false,
    "slideshow": {
     "slide_type": "slide"
    }
   },
   "outputs": [
    {
     "data": {
      "text/html": [
       "<table>\n",
       "<thead><tr><th></th><th scope=col>Code.Range</th><th scope=col>CCS</th><th scope=col>CCS.Label</th></tr></thead>\n",
       "<tbody>\n",
       "\t<tr><th scope=row>1</th><td>'0001T-0002T'                               </td><td>52                                          </td><td>Aortic resection, replacement or anastomosis</td></tr>\n",
       "\t<tr><th scope=row>2</th><td>'0003T-0003T'                             </td><td>130                                       </td><td>Other diagnostic procedures, female organs</td></tr>\n",
       "\t<tr><th scope=row>3</th><td>'0005T-0006T'                                  </td><td>59                                             </td><td>Other OR procedures on vessels of head and neck</td></tr>\n",
       "\t<tr><th scope=row>4</th><td>'0007T-0007T'        </td><td>211                  </td><td>Therapeutic radiology</td></tr>\n",
       "\t<tr><th scope=row>5</th><td>'0008T-0008T'                               </td><td>93                                          </td><td>Other non-OR upper GI therapeutic procedures</td></tr>\n",
       "\t<tr><th scope=row>6</th><td>'0009T-0009T'                      </td><td>125                                </td><td>Other excision of cervix and uterus</td></tr>\n",
       "</tbody>\n",
       "</table>\n"
      ],
      "text/latex": [
       "\\begin{tabular}{r|lll}\n",
       "  & Code.Range & CCS & CCS.Label\\\\\n",
       "\\hline\n",
       "\t1 & '0001T-0002T'                                & 52                                           & Aortic resection, replacement or anastomosis\\\\\n",
       "\t2 & '0003T-0003T'                              & 130                                        & Other diagnostic procedures, female organs\\\\\n",
       "\t3 & '0005T-0006T'                                   & 59                                              & Other OR procedures on vessels of head and neck\\\\\n",
       "\t4 & '0007T-0007T'         & 211                   & Therapeutic radiology\\\\\n",
       "\t5 & '0008T-0008T'                                & 93                                           & Other non-OR upper GI therapeutic procedures\\\\\n",
       "\t6 & '0009T-0009T'                       & 125                                 & Other excision of cervix and uterus\\\\\n",
       "\\end{tabular}\n"
      ],
      "text/plain": [
       "     Code.Range CCS                                       CCS.Label\n",
       "1 '0001T-0002T'  52    Aortic resection, replacement or anastomosis\n",
       "2 '0003T-0003T' 130      Other diagnostic procedures, female organs\n",
       "3 '0005T-0006T'  59 Other OR procedures on vessels of head and neck\n",
       "4 '0007T-0007T' 211                           Therapeutic radiology\n",
       "5 '0008T-0008T'  93    Other non-OR upper GI therapeutic procedures\n",
       "6 '0009T-0009T' 125             Other excision of cervix and uterus"
      ]
     },
     "metadata": {},
     "output_type": "display_data"
    }
   ],
   "source": [
    "ccs_file = '2016_ccs_services_procedures.csv'\n",
    "ccs_table = data.table(read.csv(ccs_file))\n",
    "ccs_table$Code.Range <- as.character(ccs_table$Code.Range)\n",
    "setkey(ccs_table,Code.Range,CCS,CCS.Label)\n",
    "head(ccs_table)"
   ]
  },
  {
   "cell_type": "code",
   "execution_count": 37,
   "metadata": {
    "collapsed": true,
    "slideshow": {
     "slide_type": "notes"
    }
   },
   "outputs": [],
   "source": [
    "# combine the above two tables"
   ]
  },
  {
   "cell_type": "code",
   "execution_count": 38,
   "metadata": {
    "collapsed": false,
    "slideshow": {
     "slide_type": "subslide"
    }
   },
   "outputs": [],
   "source": [
    "#create an incremental sequence of CSS codes from Code.Range:\n",
    "get_code_range <- function(inp,ccscode,ccsdesc){\n",
    "    \n",
    "    code_range <- vector(mode=\"numeric\", length=0) #empty \n",
    "    \n",
    "    aaa = unlist(strsplit(inp, \"-\", fixed = TRUE))    \n",
    "    aaa = sub(\"\\'\", \"\", aaa)\n",
    "    \n",
    "    if (!grepl(\"[a-zA-Z]\", aaa[1])){  #if code does not contain letters\n",
    "        aaa = as.numeric(aaa)\n",
    "        code_range = seq.int(aaa[1],aaa[2])\n",
    "        code_range = sprintf(\"%05d\", code_range) # fixed width of five characters with leading zeros\n",
    "        code_range = as.character(code_range)\n",
    "        \n",
    "    } else #if hcpcs code is alphanumeric, with the numeric part as an incremental sequence\n",
    "    {\n",
    "        bbb = substring(aaa[1], seq(1,nchar(aaa[1])), seq(1,nchar(aaa[1]),1)) #break up string to individual characters\n",
    "        letterPos = grep(\"[a-zA-Z]\", bbb, value = FALSE)\n",
    "        letterChar = grep(\"[a-zA-Z]\", bbb, value = TRUE)\n",
    "\n",
    "        numericPart1 = grep(\"[0-9]\", bbb, value = TRUE)\n",
    "        numericPart1 = as.numeric(paste(numericPart1, collapse=\"\"))\n",
    "\n",
    "        bbb = substring(aaa[2], seq(1,nchar(aaa[2])), seq(1,nchar(aaa[2]),1)) \n",
    "        numericPart2 = grep(\"[0-9]\", bbb, value = TRUE)\n",
    "        numericPart2 = as.numeric(paste(numericPart2, collapse=\"\"))\n",
    "\n",
    "        cr  = seq.int(numericPart1,numericPart2)\n",
    "        \n",
    "        if (letterPos==1){\n",
    "            code_range = sprintf(\"%s%04d\", letterChar, cr) # fixed width of four characters with leading zeros\n",
    "        } else\n",
    "        {\n",
    "            code_range = sprintf(\"%04d%s\", cr, letterChar)\n",
    "        }            \n",
    "    }\n",
    "    out = data.frame(hcpcs_code=code_range, ccs_code = ccscode, ccs_desc = ccsdesc)\n",
    "}"
   ]
  },
  {
   "cell_type": "code",
   "execution_count": 39,
   "metadata": {
    "collapsed": true
   },
   "outputs": [],
   "source": [
    "# Expand CCS table, i.e. list every HCPCS code specified within the Code.Range\n",
    "expanded_ccs = with(ccs_table, Map(get_code_range, Code.Range, CCS, CCS.Label))\n",
    "expanded_ccs = rbind.fill(expanded_ccs)\n",
    "expanded_ccs = data.table(expanded_ccs) \n",
    "setkey(expanded_ccs,hcpcs_code)"
   ]
  },
  {
   "cell_type": "code",
   "execution_count": 40,
   "metadata": {
    "collapsed": true,
    "slideshow": {
     "slide_type": "slide"
    }
   },
   "outputs": [],
   "source": [
    "conversion_tab = merge(conversion_table,expanded_ccs, by='hcpcs_code', all.x=TRUE) #left join\n",
    "conversion_table = merge(conversion_table,expanded_ccs, by='hcpcs_code') #inner join"
   ]
  },
  {
   "cell_type": "code",
   "execution_count": 41,
   "metadata": {
    "collapsed": false,
    "slideshow": {
     "slide_type": "slide"
    }
   },
   "outputs": [
    {
     "data": {
      "text/html": [
       "<table>\n",
       "<thead><tr><th></th><th scope=col>hcpcs_code</th><th scope=col>hcpcs_description</th><th scope=col>ccs_code</th><th scope=col>ccs_desc</th></tr></thead>\n",
       "<tbody>\n",
       "\t<tr><th scope=row>1</th><td>00100                                                 </td><td>Anesthesia for procedure on salivary gland with biopsy</td><td>232                                                   </td><td>Anesthesia                                            </td></tr>\n",
       "\t<tr><th scope=row>2</th><td>00102                                                         </td><td>Anesthesia for procedure to repair lip defect present at birth</td><td>232                                                           </td><td>Anesthesia                                                    </td></tr>\n",
       "\t<tr><th scope=row>3</th><td>00103                             </td><td>Anesthesia for procedure on eyelid</td><td>232                               </td><td>Anesthesia                        </td></tr>\n",
       "\t<tr><th scope=row>4</th><td>00104                                  </td><td>Anesthesia for electric shock treatment</td><td>232                                    </td><td>Anesthesia                             </td></tr>\n",
       "\t<tr><th scope=row>5</th><td>00120                                                 </td><td>Anesthesia for biopsy of external middle and inner ear</td><td>232                                                   </td><td>Anesthesia                                            </td></tr>\n",
       "\t<tr><th scope=row>6</th><td>00126                              </td><td>Anesthesia for incision of ear drum</td><td>232                                </td><td>Anesthesia                         </td></tr>\n",
       "</tbody>\n",
       "</table>\n"
      ],
      "text/latex": [
       "\\begin{tabular}{r|llll}\n",
       "  & hcpcs\\_code & hcpcs\\_description & ccs\\_code & ccs\\_desc\\\\\n",
       "\\hline\n",
       "\t1 & 00100                                                  & Anesthesia for procedure on salivary gland with biopsy & 232                                                    & Anesthesia                                            \\\\\n",
       "\t2 & 00102                                                          & Anesthesia for procedure to repair lip defect present at birth & 232                                                            & Anesthesia                                                    \\\\\n",
       "\t3 & 00103                              & Anesthesia for procedure on eyelid & 232                                & Anesthesia                        \\\\\n",
       "\t4 & 00104                                   & Anesthesia for electric shock treatment & 232                                     & Anesthesia                             \\\\\n",
       "\t5 & 00120                                                  & Anesthesia for biopsy of external middle and inner ear & 232                                                    & Anesthesia                                            \\\\\n",
       "\t6 & 00126                               & Anesthesia for incision of ear drum & 232                                 & Anesthesia                         \\\\\n",
       "\\end{tabular}\n"
      ],
      "text/plain": [
       "  hcpcs_code                                              hcpcs_description\n",
       "1      00100         Anesthesia for procedure on salivary gland with biopsy\n",
       "2      00102 Anesthesia for procedure to repair lip defect present at birth\n",
       "3      00103                             Anesthesia for procedure on eyelid\n",
       "4      00104                        Anesthesia for electric shock treatment\n",
       "5      00120         Anesthesia for biopsy of external middle and inner ear\n",
       "6      00126                            Anesthesia for incision of ear drum\n",
       "  ccs_code   ccs_desc\n",
       "1      232 Anesthesia\n",
       "2      232 Anesthesia\n",
       "3      232 Anesthesia\n",
       "4      232 Anesthesia\n",
       "5      232 Anesthesia\n",
       "6      232 Anesthesia"
      ]
     },
     "metadata": {},
     "output_type": "display_data"
    }
   ],
   "source": [
    "head(conversion_tab)"
   ]
  },
  {
   "cell_type": "code",
   "execution_count": 42,
   "metadata": {
    "collapsed": false
   },
   "outputs": [
    {
     "data": {
      "text/html": [
       "<table>\n",
       "<thead><tr><th></th><th scope=col>hcpcs_code</th><th scope=col>hcpcs_description</th><th scope=col>ccs_code</th><th scope=col>ccs_desc</th></tr></thead>\n",
       "<tbody>\n",
       "\t<tr><th scope=row>1</th><td>0015F                   </td><td>Melan follow-up complete</td><td>NA                      </td><td>NA                      </td></tr>\n",
       "\t<tr><th scope=row>2</th><td>D7140                                                                       </td><td>Extraction, erupted tooth or exposed root (elevation and/or forceps removal)</td><td>NA                                                                          </td><td>NA                                                                          </td></tr>\n",
       "\t<tr><th scope=row>3</th><td>D9940                     </td><td>Occlusal guards, by report</td><td>NA                        </td><td>NA                        </td></tr>\n",
       "\t<tr><th scope=row>4</th><td>G9001                             </td><td>Coordinated care fee, initial rate</td><td>NA                                </td><td>NA                                </td></tr>\n",
       "\t<tr><th scope=row>5</th><td>G9002                                 </td><td>Coordinated care fee, maintenance rate</td><td>NA                                    </td><td>NA                                    </td></tr>\n",
       "\t<tr><th scope=row>6</th><td>G9003                                            </td><td>Coordinated care fee, risk adjusted high, initial</td><td>NA                                               </td><td>NA                                               </td></tr>\n",
       "\t<tr><th scope=row>7</th><td>G9005                                          </td><td>Coordinated care fee, risk adjusted maintenance</td><td>NA                                             </td><td>NA                                             </td></tr>\n",
       "\t<tr><th scope=row>8</th><td>G9008                                                              </td><td>Coordinated care fee, physician coordinated care oversight services</td><td>NA                                                                 </td><td>NA                                                                 </td></tr>\n",
       "\t<tr><th scope=row>9</th><td>G9009                                                   </td><td>Coordinated care fee, risk adjusted maintenance, level 3</td><td>NA                                                      </td><td>NA                                                      </td></tr>\n",
       "\t<tr><th scope=row>10</th><td>G9010                                                   </td><td>Coordinated care fee, risk adjusted maintenance, level 4</td><td>NA                                                      </td><td>NA                                                      </td></tr>\n",
       "\t<tr><th scope=row>11</th><td>G9148               </td><td>Medical home level 1</td><td>NA                  </td><td>NA                  </td></tr>\n",
       "\t<tr><th scope=row>12</th><td>G9148                                                          </td><td>National committee for quality assurance - level i medical home</td><td>NA                                                             </td><td>NA                                                             </td></tr>\n",
       "\t<tr><th scope=row>13</th><td>G9148                                                          </td><td>National committee for quality assurance - level 1 medical home</td><td>NA                                                             </td><td>NA                                                             </td></tr>\n",
       "\t<tr><th scope=row>14</th><td>G9149                </td><td>Medical home level ii</td><td>NA                   </td><td>NA                   </td></tr>\n",
       "\t<tr><th scope=row>15</th><td>G9149                                                          </td><td>National committee for quality assurance - level 2 medical home</td><td>NA                                                             </td><td>NA                                                             </td></tr>\n",
       "\t<tr><th scope=row>16</th><td>G9150                 </td><td>Medical home level iii</td><td>NA                    </td><td>NA                    </td></tr>\n",
       "\t<tr><th scope=row>17</th><td>G9150                                                          </td><td>National committee for quality assurance - level 3 medical home</td><td>NA                                                             </td><td>NA                                                             </td></tr>\n",
       "\t<tr><th scope=row>18</th><td>G9151           </td><td>Mapcp demo state</td><td>NA              </td><td>NA              </td></tr>\n",
       "\t<tr><th scope=row>19</th><td>G9151                                        </td><td>Mapcp demonstration - state provided services</td><td>NA                                           </td><td>NA                                           </td></tr>\n",
       "\t<tr><th scope=row>20</th><td>G9152               </td><td>Mapcp demo community</td><td>NA                  </td><td>NA                  </td></tr>\n",
       "\t<tr><th scope=row>21</th><td>G9152                                       </td><td>Mapcp demonstration - community health teams</td><td>NA                                          </td><td>NA                                          </td></tr>\n",
       "\t<tr><th scope=row>22</th><td>G9153               </td><td>Mapcp demo physician</td><td>NA                  </td><td>NA                  </td></tr>\n",
       "\t<tr><th scope=row>23</th><td>G9153                                         </td><td>Mapcp demonstration - physician incentive pool</td><td>NA                                            </td><td>NA                                            </td></tr>\n",
       "\t<tr><th scope=row>24</th><td>G9187                                                                                                                                                                                                                                                           </td><td>Bundled payments for care improvement initiative home visit for patient assessment performed by a qualified health care professional for individuals not considered homebound including, but not limited to, assessment of safety, falls, clinical status, fluid</td><td>NA                                                                                                                                                                                                                                                              </td><td>NA                                                                                                                                                                                                                                                              </td></tr>\n",
       "\t<tr><th scope=row>25</th><td>Q2033                       </td><td>Influenza vaccine, (flublok)</td><td>NA                          </td><td>NA                          </td></tr>\n",
       "\t<tr><th scope=row>26</th><td>Q2033                                                                                 </td><td>Influenza vaccine, recombinant hemagglutinin antigens, for intramuscular use (flublok)</td><td>NA                                                                                    </td><td>NA                                                                                    </td></tr>\n",
       "\t<tr><th scope=row>27</th><td>Q2051               </td><td>Zoldedronic acid 1mg</td><td>NA                  </td><td>NA                  </td></tr>\n",
       "</tbody>\n",
       "</table>\n"
      ],
      "text/latex": [
       "\\begin{tabular}{r|llll}\n",
       "  & hcpcs\\_code & hcpcs\\_description & ccs\\_code & ccs\\_desc\\\\\n",
       "\\hline\n",
       "\t1 & 0015F                    & Melan follow-up complete & NA                       & NA                      \\\\\n",
       "\t2 & D7140                                                                        & Extraction, erupted tooth or exposed root (elevation and/or forceps removal) & NA                                                                           & NA                                                                          \\\\\n",
       "\t3 & D9940                      & Occlusal guards, by report & NA                         & NA                        \\\\\n",
       "\t4 & G9001                              & Coordinated care fee, initial rate & NA                                 & NA                                \\\\\n",
       "\t5 & G9002                                  & Coordinated care fee, maintenance rate & NA                                     & NA                                    \\\\\n",
       "\t6 & G9003                                             & Coordinated care fee, risk adjusted high, initial & NA                                                & NA                                               \\\\\n",
       "\t7 & G9005                                           & Coordinated care fee, risk adjusted maintenance & NA                                              & NA                                             \\\\\n",
       "\t8 & G9008                                                               & Coordinated care fee, physician coordinated care oversight services & NA                                                                  & NA                                                                 \\\\\n",
       "\t9 & G9009                                                    & Coordinated care fee, risk adjusted maintenance, level 3 & NA                                                       & NA                                                      \\\\\n",
       "\t10 & G9010                                                    & Coordinated care fee, risk adjusted maintenance, level 4 & NA                                                       & NA                                                      \\\\\n",
       "\t11 & G9148                & Medical home level 1 & NA                   & NA                  \\\\\n",
       "\t12 & G9148                                                           & National committee for quality assurance - level i medical home & NA                                                              & NA                                                             \\\\\n",
       "\t13 & G9148                                                           & National committee for quality assurance - level 1 medical home & NA                                                              & NA                                                             \\\\\n",
       "\t14 & G9149                 & Medical home level ii & NA                    & NA                   \\\\\n",
       "\t15 & G9149                                                           & National committee for quality assurance - level 2 medical home & NA                                                              & NA                                                             \\\\\n",
       "\t16 & G9150                  & Medical home level iii & NA                     & NA                    \\\\\n",
       "\t17 & G9150                                                           & National committee for quality assurance - level 3 medical home & NA                                                              & NA                                                             \\\\\n",
       "\t18 & G9151            & Mapcp demo state & NA               & NA              \\\\\n",
       "\t19 & G9151                                         & Mapcp demonstration - state provided services & NA                                            & NA                                           \\\\\n",
       "\t20 & G9152                & Mapcp demo community & NA                   & NA                  \\\\\n",
       "\t21 & G9152                                        & Mapcp demonstration - community health teams & NA                                           & NA                                          \\\\\n",
       "\t22 & G9153                & Mapcp demo physician & NA                   & NA                  \\\\\n",
       "\t23 & G9153                                          & Mapcp demonstration - physician incentive pool & NA                                             & NA                                            \\\\\n",
       "\t24 & G9187                                                                                                                                                                                                                                                            & Bundled payments for care improvement initiative home visit for patient assessment performed by a qualified health care professional for individuals not considered homebound including, but not limited to, assessment of safety, falls, clinical status, fluid & NA                                                                                                                                                                                                                                                               & NA                                                                                                                                                                                                                                                              \\\\\n",
       "\t25 & Q2033                        & Influenza vaccine, (flublok) & NA                           & NA                          \\\\\n",
       "\t26 & Q2033                                                                                  & Influenza vaccine, recombinant hemagglutinin antigens, for intramuscular use (flublok) & NA                                                                                     & NA                                                                                    \\\\\n",
       "\t27 & Q2051                & Zoldedronic acid 1mg & NA                   & NA                  \\\\\n",
       "\\end{tabular}\n"
      ],
      "text/plain": [
       "   hcpcs_code\n",
       "1       0015F\n",
       "2       D7140\n",
       "3       D9940\n",
       "4       G9001\n",
       "5       G9002\n",
       "6       G9003\n",
       "7       G9005\n",
       "8       G9008\n",
       "9       G9009\n",
       "10      G9010\n",
       "11      G9148\n",
       "12      G9148\n",
       "13      G9148\n",
       "14      G9149\n",
       "15      G9149\n",
       "16      G9150\n",
       "17      G9150\n",
       "18      G9151\n",
       "19      G9151\n",
       "20      G9152\n",
       "21      G9152\n",
       "22      G9153\n",
       "23      G9153\n",
       "24      G9187\n",
       "25      Q2033\n",
       "26      Q2033\n",
       "27      Q2051\n",
       "                                                                                                                                                                                                                                                  hcpcs_description\n",
       "1                                                                                                                                                                                                                                          Melan follow-up complete\n",
       "2                                                                                                                                                                                      Extraction, erupted tooth or exposed root (elevation and/or forceps removal)\n",
       "3                                                                                                                                                                                                                                        Occlusal guards, by report\n",
       "4                                                                                                                                                                                                                                Coordinated care fee, initial rate\n",
       "5                                                                                                                                                                                                                            Coordinated care fee, maintenance rate\n",
       "6                                                                                                                                                                                                                 Coordinated care fee, risk adjusted high, initial\n",
       "7                                                                                                                                                                                                                   Coordinated care fee, risk adjusted maintenance\n",
       "8                                                                                                                                                                                               Coordinated care fee, physician coordinated care oversight services\n",
       "9                                                                                                                                                                                                          Coordinated care fee, risk adjusted maintenance, level 3\n",
       "10                                                                                                                                                                                                         Coordinated care fee, risk adjusted maintenance, level 4\n",
       "11                                                                                                                                                                                                                                             Medical home level 1\n",
       "12                                                                                                                                                                                                  National committee for quality assurance - level i medical home\n",
       "13                                                                                                                                                                                                  National committee for quality assurance - level 1 medical home\n",
       "14                                                                                                                                                                                                                                            Medical home level ii\n",
       "15                                                                                                                                                                                                  National committee for quality assurance - level 2 medical home\n",
       "16                                                                                                                                                                                                                                           Medical home level iii\n",
       "17                                                                                                                                                                                                  National committee for quality assurance - level 3 medical home\n",
       "18                                                                                                                                                                                                                                                 Mapcp demo state\n",
       "19                                                                                                                                                                                                                    Mapcp demonstration - state provided services\n",
       "20                                                                                                                                                                                                                                             Mapcp demo community\n",
       "21                                                                                                                                                                                                                     Mapcp demonstration - community health teams\n",
       "22                                                                                                                                                                                                                                             Mapcp demo physician\n",
       "23                                                                                                                                                                                                                   Mapcp demonstration - physician incentive pool\n",
       "24 Bundled payments for care improvement initiative home visit for patient assessment performed by a qualified health care professional for individuals not considered homebound including, but not limited to, assessment of safety, falls, clinical status, fluid\n",
       "25                                                                                                                                                                                                                                     Influenza vaccine, (flublok)\n",
       "26                                                                                                                                                                           Influenza vaccine, recombinant hemagglutinin antigens, for intramuscular use (flublok)\n",
       "27                                                                                                                                                                                                                                             Zoldedronic acid 1mg\n",
       "   ccs_code ccs_desc\n",
       "1        NA     <NA>\n",
       "2        NA     <NA>\n",
       "3        NA     <NA>\n",
       "4        NA     <NA>\n",
       "5        NA     <NA>\n",
       "6        NA     <NA>\n",
       "7        NA     <NA>\n",
       "8        NA     <NA>\n",
       "9        NA     <NA>\n",
       "10       NA     <NA>\n",
       "11       NA     <NA>\n",
       "12       NA     <NA>\n",
       "13       NA     <NA>\n",
       "14       NA     <NA>\n",
       "15       NA     <NA>\n",
       "16       NA     <NA>\n",
       "17       NA     <NA>\n",
       "18       NA     <NA>\n",
       "19       NA     <NA>\n",
       "20       NA     <NA>\n",
       "21       NA     <NA>\n",
       "22       NA     <NA>\n",
       "23       NA     <NA>\n",
       "24       NA     <NA>\n",
       "25       NA     <NA>\n",
       "26       NA     <NA>\n",
       "27       NA     <NA>"
      ]
     },
     "metadata": {},
     "output_type": "display_data"
    }
   ],
   "source": [
    "##These HCPCS codes don't have a match in the CCS table:\n",
    "noMatch <- conversion_tab[is.na(ccs_code) | is.na(ccs_desc)]\n",
    "noMatch"
   ]
  },
  {
   "cell_type": "code",
   "execution_count": 43,
   "metadata": {
    "collapsed": false
   },
   "outputs": [
    {
     "data": {
      "text/html": [
       "0.996674057649667"
      ],
      "text/latex": [
       "0.996674057649667"
      ],
      "text/markdown": [
       "0.996674057649667"
      ],
      "text/plain": [
       "[1] 0.9966741"
      ]
     },
     "metadata": {},
     "output_type": "display_data"
    }
   ],
   "source": [
    "#matching efficiency:\n",
    "sum(!is.na(conversion_tab$ccs_code))/nrow(conversion_tab)"
   ]
  },
  {
   "cell_type": "markdown",
   "metadata": {
    "collapsed": true,
    "slideshow": {
     "slide_type": "slide"
    }
   },
   "source": [
    "#### Save results"
   ]
  },
  {
   "cell_type": "code",
   "execution_count": 46,
   "metadata": {
    "collapsed": false,
    "slideshow": {
     "slide_type": "slide"
    }
   },
   "outputs": [
    {
     "data": {
      "text/plain": [
       "Time difference of 0.09332418 secs"
      ]
     },
     "metadata": {},
     "output_type": "display_data"
    }
   ],
   "source": [
    "#csv files:\n",
    "start = Sys.time()\n",
    "# write.csv(conversion_table, file = \"CPT_to_CCS_conversion.csv\", row.names=FALSE, na=\"\")\n",
    "\n",
    "#Note that write.csv saves numeric hcpcs codes as an arabic number e.g. '102', omiting zero characters in the beginning.\n",
    "#This would cause mismatches later when mapping fixed-length character arrays such as '00102'. \n",
    "#However, R's native data format saves the codes with leading zeros.\n",
    "\n",
    "#R.data file:\n",
    "save(conversion_tab, file='HCPCStoCCSConvTable2012_2014.RData')\n",
    "write.csv(cTab, file = \"HCPCStoCCSConvTable2012_2014.txt\", row.names=FALSE, na=\"\")\n",
    "\n",
    "Sys.time()-start"
   ]
  },
  {
   "cell_type": "code",
   "execution_count": 25,
   "metadata": {
    "collapsed": false,
    "slideshow": {
     "slide_type": "skip"
    }
   },
   "outputs": [],
   "source": [
    "#rm(list=ls())"
   ]
  },
  {
   "cell_type": "code",
   "execution_count": null,
   "metadata": {
    "collapsed": true,
    "slideshow": {
     "slide_type": "skip"
    }
   },
   "outputs": [],
   "source": []
  },
  {
   "cell_type": "code",
   "execution_count": null,
   "metadata": {
    "collapsed": false,
    "slideshow": {
     "slide_type": "skip"
    }
   },
   "outputs": [],
   "source": []
  },
  {
   "cell_type": "code",
   "execution_count": null,
   "metadata": {
    "collapsed": true,
    "slideshow": {
     "slide_type": "skip"
    }
   },
   "outputs": [],
   "source": []
  }
 ],
 "metadata": {
  "anaconda-cloud": {},
  "kernelspec": {
   "display_name": "R",
   "language": "R",
   "name": "ir"
  },
  "language_info": {
   "codemirror_mode": "r",
   "file_extension": ".r",
   "mimetype": "text/x-r-source",
   "name": "R",
   "pygments_lexer": "r",
   "version": "3.3.1"
  }
 },
 "nbformat": 4,
 "nbformat_minor": 0
}
