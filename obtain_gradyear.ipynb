{
 "cells": [
  {
   "cell_type": "markdown",
   "metadata": {},
   "source": [
    "#### Obtain graduation year from a different CMS data source\n",
    "\n",
    "-Visit and download Physician_Compare_National_Downloadable_File.csv from:\n",
    "https://data.medicare.gov/data/physician-compare   \n",
    "(Zipped file 'download csv flat files (revised) now')  \n",
    "-Place csv file within the same folder as this script  \n",
    "-Run this script"
   ]
  },
  {
   "cell_type": "code",
   "execution_count": null,
   "metadata": {
    "collapsed": true
   },
   "outputs": [],
   "source": [
    "library(data.table)"
   ]
  },
  {
   "cell_type": "code",
   "execution_count": null,
   "metadata": {
    "collapsed": false,
    "scrolled": true
   },
   "outputs": [],
   "source": [
    "npi_file = 'Physician_Compare_National_Downloadable_File.csv'\n",
    "npi_frame = data.frame(fread(npi_file))\n",
    "colnames(npi_frame) = tolower(colnames(npi_frame))\n",
    "\n",
    "head(npi_frame)"
   ]
  },
  {
   "cell_type": "code",
   "execution_count": null,
   "metadata": {
    "collapsed": true
   },
   "outputs": [],
   "source": [
    "vars_tokeep1 = c(\"npi\", \"last.name\", \"first.name\", \"gender\", \"credential\", \n",
    "                \"medical.school.name\", \"graduation.year\", \"primary.specialty\", \n",
    "                \"secondary.specialty.1\", \"secondary.specialty.2\", \"secondary.specialty.3\",\n",
    "                \"secondary.specialty.4\", \"all.secondary.specialties\")\n",
    "\n",
    "vars_tokeep2 = c(\"npi\",\"medical.school.name\", \"graduation.year\", \"primary.specialty\", \n",
    "                \"secondary.specialty.1\", \"secondary.specialty.2\", \"secondary.specialty.3\",\n",
    "                \"secondary.specialty.4\", \"all.secondary.specialties\")\n",
    "vars_tokeep3 = c(\"npi\",\"medical.school.name\", \"graduation.year\")\n",
    "\n",
    "npi_frame = npi_frame[,vars_tokeep3]"
   ]
  },
  {
   "cell_type": "code",
   "execution_count": null,
   "metadata": {
    "collapsed": true
   },
   "outputs": [],
   "source": [
    "npi_frame = data.table(npi_frame)\n",
    "setkey(npi_frame, npi)\n",
    "npi_frame = unique(npi_frame)"
   ]
  },
  {
   "cell_type": "code",
   "execution_count": null,
   "metadata": {
    "collapsed": true
   },
   "outputs": [],
   "source": [
    "write.csv(npi_frame, file = \"physician_grad_year.csv\", row.names=FALSE, na=\"\")"
   ]
  },
  {
   "cell_type": "code",
   "execution_count": null,
   "metadata": {
    "collapsed": true
   },
   "outputs": [],
   "source": []
  },
  {
   "cell_type": "code",
   "execution_count": null,
   "metadata": {
    "collapsed": true
   },
   "outputs": [],
   "source": []
  },
  {
   "cell_type": "code",
   "execution_count": null,
   "metadata": {
    "collapsed": true
   },
   "outputs": [],
   "source": []
  }
 ],
 "metadata": {
  "kernelspec": {
   "display_name": "R",
   "language": "R",
   "name": "ir"
  },
  "language_info": {
   "codemirror_mode": "r",
   "file_extension": ".r",
   "mimetype": "text/x-r-source",
   "name": "R",
   "pygments_lexer": "r",
   "version": "3.3.1"
  }
 },
 "nbformat": 4,
 "nbformat_minor": 0
}
