{
 "cells": [
  {
   "cell_type": "markdown",
   "metadata": {},
   "source": [
    "### Medical procedures by physician, Medicare data (2012)\n",
    "Janos Perge, 07/21/2016\n",
    "\n",
    "Purpose:   \n",
    "1) Access Medicare data on the number of performed medical procedures per physician (as a proxi for quality of care).   \n",
    "2) Convert HCPCS (or CPT) procedure codes to CCS codes for further analysis  \n",
    "3) Save data in three spreadsheets: #1-Provider information, #2-CPT-to-CCS conversion table and #3-Number of performed procedures per provider, broken down to different CCS categories (244 different procedure types)\n",
    "    \n",
    "Before running this code, first visit the url below, accept CMS disclaimer, download and unzip file (2GB) and place it within the same directory as this script. Running this code first time took XXXX min on my Win10 machine with core i7 and 8GB RAM.   \n",
    "\n",
    "Data is a public use file downloadable from CMS:\n",
    "https://www.cms.gov/apps/ama/license.asp?file=http://download.cms.gov/Research-Statistics-Data-and-Systems/Statistics-Trends-and-Reports/Medicare-Provider-Charge-Data/Downloads/Medicare_Provider_Util_Payment_PUF_CY2012_update.zip\n"
   ]
  },
  {
   "cell_type": "markdown",
   "metadata": {},
   "source": [
    "#### Obtain packages"
   ]
  },
  {
   "cell_type": "code",
   "execution_count": 1,
   "metadata": {
    "collapsed": false
   },
   "outputs": [],
   "source": [
    "packageList = c(\"data.table\",\"stringr\",'plyr')\n",
    "\n",
    "is_installed <- function(mypkg) is.element(mypkg, installed.packages()[,1])\n",
    "\n",
    "load_or_install<-function(package_names)\n",
    "{\n",
    "  for(package_name in package_names)\n",
    "  {\n",
    "    if(!is_installed(package_name))\n",
    "    {\n",
    "      install.packages(package_name,repos=\"http://lib.stat.cmu.edu/R/CRAN\")\n",
    "    }\n",
    "    options(java.parameters = \"-Xmx8g\")\n",
    "    library(package_name,character.only=TRUE,quietly=TRUE,verbose=FALSE)\n",
    "  }\n",
    "}\n",
    "\n",
    "load_or_install(packageList)"
   ]
  },
  {
   "cell_type": "markdown",
   "metadata": {},
   "source": [
    "#### Access data"
   ]
  },
  {
   "cell_type": "code",
   "execution_count": 2,
   "metadata": {
    "collapsed": false
   },
   "outputs": [],
   "source": [
    "cms_filename = \"Medicare_Provider_Util_Payment_PUF_CY2012.txt\" #available data for years 2012,2013,2014\n",
    "my_data_file = \"procedures2012.RData\""
   ]
  },
  {
   "cell_type": "code",
   "execution_count": 64,
   "metadata": {
    "collapsed": false
   },
   "outputs": [
    {
     "data": {
      "text/plain": [
       "Time difference of 48.12935 secs"
      ]
     },
     "metadata": {},
     "output_type": "display_data"
    }
   ],
   "source": [
    "start = Sys.time()\n",
    "#open data from tabular file saved on HD or from Rdatafile:\n",
    "if(file.exists(my_data_file) && !exists(\"physician_data\")){\n",
    "  load(my_data_file)\n",
    "} else if(!file.exists(my_data_file)) {\n",
    "  physician_data = read.delim(physician_medicare, stringsAsFactors=FALSE)\n",
    "  physician_data = physician_data[2:nrow(physician_data),]\n",
    "  colnames(physician_data) = tolower(colnames(physician_data))\n",
    "\n",
    "  save(physician_data, file=my_data_file)\n",
    "}\n",
    "#physician_data = data.table(physician_data)\n",
    "    \n",
    "Sys.time()-start"
   ]
  },
  {
   "cell_type": "markdown",
   "metadata": {},
   "source": [
    "#### Explore data frame"
   ]
  },
  {
   "cell_type": "code",
   "execution_count": 4,
   "metadata": {
    "collapsed": false,
    "scrolled": true
   },
   "outputs": [
    {
     "data": {
      "text/html": [
       "<table>\n",
       "<thead><tr><th></th><th scope=col>npi</th><th scope=col>nppes_provider_last_org_name</th><th scope=col>nppes_provider_first_name</th><th scope=col>nppes_provider_mi</th><th scope=col>nppes_credentials</th><th scope=col>nppes_provider_gender</th><th scope=col>nppes_entity_code</th><th scope=col>nppes_provider_street1</th><th scope=col>nppes_provider_street2</th><th scope=col>nppes_provider_city</th><th scope=col>...</th><th scope=col>hcpcs_drug_indicator</th><th scope=col>line_srvc_cnt</th><th scope=col>bene_unique_cnt</th><th scope=col>bene_day_srvc_cnt</th><th scope=col>average_medicare_allowed_amt</th><th scope=col>stdev_medicare_allowed_amt</th><th scope=col>average_submitted_chrg_amt</th><th scope=col>stdev_submitted_chrg_amt</th><th scope=col>average_medicare_payment_amt</th><th scope=col>stdev_medicare_payment_amt</th></tr></thead>\n",
       "<tbody>\n",
       "\t<tr><th scope=row>2</th><td>1003000126  </td><td>ENKESHAFI   </td><td>ARDALAN     </td><td>            </td><td>M.D.        </td><td>M           </td><td>I           </td><td>900 SETON DR</td><td>            </td><td>CUMBERLAND  </td><td>...         </td><td>N           </td><td>115         </td><td>112         </td><td>115         </td><td>135.25      </td><td>0           </td><td>199         </td><td>0           </td><td>108.11565217</td><td>0.9005883395</td></tr>\n",
       "\t<tr><th scope=row>3</th><td>1003000126  </td><td>ENKESHAFI   </td><td>ARDALAN     </td><td>            </td><td>M.D.        </td><td>M           </td><td>I           </td><td>900 SETON DR</td><td>            </td><td>CUMBERLAND  </td><td>...         </td><td>N           </td><td>93          </td><td>88          </td><td>93          </td><td>198.59      </td><td>0           </td><td>291         </td><td>9.5916630466</td><td>158.87      </td><td>0           </td></tr>\n",
       "\t<tr><th scope=row>4</th><td>1003000126  </td><td>ENKESHAFI   </td><td>ARDALAN     </td><td>            </td><td>M.D.        </td><td>M           </td><td>I           </td><td>900 SETON DR</td><td>            </td><td>CUMBERLAND  </td><td>...         </td><td>N           </td><td>111         </td><td>83          </td><td>111         </td><td>38.75       </td><td>0           </td><td>58          </td><td>0           </td><td>30.720720721</td><td>2.9291057922</td></tr>\n",
       "\t<tr><th scope=row>5</th><td>1003000126  </td><td>ENKESHAFI   </td><td>ARDALAN     </td><td>            </td><td>M.D.        </td><td>M           </td><td>I           </td><td>900 SETON DR</td><td>            </td><td>CUMBERLAND  </td><td>...         </td><td>N           </td><td>544         </td><td>295         </td><td>544         </td><td>70.95       </td><td>0           </td><td>105         </td><td>0           </td><td>56.655661765</td><td>2.4313271619</td></tr>\n",
       "\t<tr><th scope=row>6</th><td>1003000126  </td><td>ENKESHAFI   </td><td>ARDALAN     </td><td>            </td><td>M.D.        </td><td>M           </td><td>I           </td><td>900 SETON DR</td><td>            </td><td>CUMBERLAND  </td><td>...         </td><td>N           </td><td>75          </td><td>55          </td><td>75          </td><td>101.74      </td><td>0           </td><td>150         </td><td>0           </td><td>81.39       </td><td>0           </td></tr>\n",
       "\t<tr><th scope=row>7</th><td>1003000126  </td><td>ENKESHAFI   </td><td>ARDALAN     </td><td>            </td><td>M.D.        </td><td>M           </td><td>I           </td><td>900 SETON DR</td><td>            </td><td>CUMBERLAND  </td><td>...         </td><td>N           </td><td>95          </td><td>95          </td><td>95          </td><td>71.06       </td><td>0           </td><td>104         </td><td>0           </td><td>55.768842105</td><td>7.4155003896</td></tr>\n",
       "</tbody>\n",
       "</table>\n"
      ],
      "text/latex": [
       "\\begin{tabular}{r|llllllllllllllllllllllllllll}\n",
       "  & npi & nppes\\_provider\\_last\\_org\\_name & nppes\\_provider\\_first\\_name & nppes\\_provider\\_mi & nppes\\_credentials & nppes\\_provider\\_gender & nppes\\_entity\\_code & nppes\\_provider\\_street1 & nppes\\_provider\\_street2 & nppes\\_provider\\_city & ... & hcpcs\\_drug\\_indicator & line\\_srvc\\_cnt & bene\\_unique\\_cnt & bene\\_day\\_srvc\\_cnt & average\\_medicare\\_allowed\\_amt & stdev\\_medicare\\_allowed\\_amt & average\\_submitted\\_chrg\\_amt & stdev\\_submitted\\_chrg\\_amt & average\\_medicare\\_payment\\_amt & stdev\\_medicare\\_payment\\_amt\\\\\n",
       "\\hline\n",
       "\t2 & 1003000126   & ENKESHAFI    & ARDALAN      &              & M.D.         & M            & I            & 900 SETON DR &              & CUMBERLAND   & ...          & N            & 115          & 112          & 115          & 135.25       & 0            & 199          & 0            & 108.11565217 & 0.9005883395\\\\\n",
       "\t3 & 1003000126   & ENKESHAFI    & ARDALAN      &              & M.D.         & M            & I            & 900 SETON DR &              & CUMBERLAND   & ...          & N            & 93           & 88           & 93           & 198.59       & 0            & 291          & 9.5916630466 & 158.87       & 0           \\\\\n",
       "\t4 & 1003000126   & ENKESHAFI    & ARDALAN      &              & M.D.         & M            & I            & 900 SETON DR &              & CUMBERLAND   & ...          & N            & 111          & 83           & 111          & 38.75        & 0            & 58           & 0            & 30.720720721 & 2.9291057922\\\\\n",
       "\t5 & 1003000126   & ENKESHAFI    & ARDALAN      &              & M.D.         & M            & I            & 900 SETON DR &              & CUMBERLAND   & ...          & N            & 544          & 295          & 544          & 70.95        & 0            & 105          & 0            & 56.655661765 & 2.4313271619\\\\\n",
       "\t6 & 1003000126   & ENKESHAFI    & ARDALAN      &              & M.D.         & M            & I            & 900 SETON DR &              & CUMBERLAND   & ...          & N            & 75           & 55           & 75           & 101.74       & 0            & 150          & 0            & 81.39        & 0           \\\\\n",
       "\t7 & 1003000126   & ENKESHAFI    & ARDALAN      &              & M.D.         & M            & I            & 900 SETON DR &              & CUMBERLAND   & ...          & N            & 95           & 95           & 95           & 71.06        & 0            & 104          & 0            & 55.768842105 & 7.4155003896\\\\\n",
       "\\end{tabular}\n"
      ],
      "text/plain": [
       "         npi nppes_provider_last_org_name nppes_provider_first_name\n",
       "2 1003000126                    ENKESHAFI                   ARDALAN\n",
       "3 1003000126                    ENKESHAFI                   ARDALAN\n",
       "4 1003000126                    ENKESHAFI                   ARDALAN\n",
       "5 1003000126                    ENKESHAFI                   ARDALAN\n",
       "6 1003000126                    ENKESHAFI                   ARDALAN\n",
       "7 1003000126                    ENKESHAFI                   ARDALAN\n",
       "  nppes_provider_mi nppes_credentials nppes_provider_gender nppes_entity_code\n",
       "2                                M.D.                     M                 I\n",
       "3                                M.D.                     M                 I\n",
       "4                                M.D.                     M                 I\n",
       "5                                M.D.                     M                 I\n",
       "6                                M.D.                     M                 I\n",
       "7                                M.D.                     M                 I\n",
       "  nppes_provider_street1 nppes_provider_street2 nppes_provider_city ...\n",
       "2           900 SETON DR                                 CUMBERLAND ...\n",
       "3           900 SETON DR                                 CUMBERLAND ...\n",
       "4           900 SETON DR                                 CUMBERLAND ...\n",
       "5           900 SETON DR                                 CUMBERLAND ...\n",
       "6           900 SETON DR                                 CUMBERLAND ...\n",
       "7           900 SETON DR                                 CUMBERLAND ...\n",
       "  hcpcs_drug_indicator line_srvc_cnt bene_unique_cnt bene_day_srvc_cnt\n",
       "2                    N           115             112               115\n",
       "3                    N            93              88                93\n",
       "4                    N           111              83               111\n",
       "5                    N           544             295               544\n",
       "6                    N            75              55                75\n",
       "7                    N            95              95                95\n",
       "  average_medicare_allowed_amt stdev_medicare_allowed_amt\n",
       "2                       135.25                          0\n",
       "3                       198.59                          0\n",
       "4                        38.75                          0\n",
       "5                        70.95                          0\n",
       "6                       101.74                          0\n",
       "7                        71.06                          0\n",
       "  average_submitted_chrg_amt stdev_submitted_chrg_amt\n",
       "2                        199                 0.000000\n",
       "3                        291                 9.591663\n",
       "4                         58                 0.000000\n",
       "5                        105                 0.000000\n",
       "6                        150                 0.000000\n",
       "7                        104                 0.000000\n",
       "  average_medicare_payment_amt stdev_medicare_payment_amt\n",
       "2                    108.11565                  0.9005883\n",
       "3                    158.87000                  0.0000000\n",
       "4                     30.72072                  2.9291058\n",
       "5                     56.65566                  2.4313272\n",
       "6                     81.39000                  0.0000000\n",
       "7                     55.76884                  7.4155004"
      ]
     },
     "metadata": {},
     "output_type": "display_data"
    }
   ],
   "source": [
    "head(physician_data)"
   ]
  },
  {
   "cell_type": "code",
   "execution_count": 5,
   "metadata": {
    "collapsed": false
   },
   "outputs": [
    {
     "data": {
      "text/html": [
       "<ol class=list-inline>\n",
       "\t<li>\"npi\"</li>\n",
       "\t<li>\"nppes_provider_last_org_name\"</li>\n",
       "\t<li>\"nppes_provider_first_name\"</li>\n",
       "\t<li>\"nppes_provider_mi\"</li>\n",
       "\t<li>\"nppes_credentials\"</li>\n",
       "\t<li>\"nppes_provider_gender\"</li>\n",
       "\t<li>\"nppes_entity_code\"</li>\n",
       "\t<li>\"nppes_provider_street1\"</li>\n",
       "\t<li>\"nppes_provider_street2\"</li>\n",
       "\t<li>\"nppes_provider_city\"</li>\n",
       "\t<li>\"nppes_provider_zip\"</li>\n",
       "\t<li>\"nppes_provider_state\"</li>\n",
       "\t<li>\"nppes_provider_country\"</li>\n",
       "\t<li>\"provider_type\"</li>\n",
       "\t<li>\"medicare_participation_indicator\"</li>\n",
       "\t<li>\"place_of_service\"</li>\n",
       "\t<li>\"hcpcs_code\"</li>\n",
       "\t<li>\"hcpcs_description\"</li>\n",
       "\t<li>\"hcpcs_drug_indicator\"</li>\n",
       "\t<li>\"line_srvc_cnt\"</li>\n",
       "\t<li>\"bene_unique_cnt\"</li>\n",
       "\t<li>\"bene_day_srvc_cnt\"</li>\n",
       "\t<li>\"average_medicare_allowed_amt\"</li>\n",
       "\t<li>\"stdev_medicare_allowed_amt\"</li>\n",
       "\t<li>\"average_submitted_chrg_amt\"</li>\n",
       "\t<li>\"stdev_submitted_chrg_amt\"</li>\n",
       "\t<li>\"average_medicare_payment_amt\"</li>\n",
       "\t<li>\"stdev_medicare_payment_amt\"</li>\n",
       "</ol>\n"
      ],
      "text/latex": [
       "\\begin{enumerate*}\n",
       "\\item \"npi\"\n",
       "\\item \"nppes\\_provider\\_last\\_org\\_name\"\n",
       "\\item \"nppes\\_provider\\_first\\_name\"\n",
       "\\item \"nppes\\_provider\\_mi\"\n",
       "\\item \"nppes\\_credentials\"\n",
       "\\item \"nppes\\_provider\\_gender\"\n",
       "\\item \"nppes\\_entity\\_code\"\n",
       "\\item \"nppes\\_provider\\_street1\"\n",
       "\\item \"nppes\\_provider\\_street2\"\n",
       "\\item \"nppes\\_provider\\_city\"\n",
       "\\item \"nppes\\_provider\\_zip\"\n",
       "\\item \"nppes\\_provider\\_state\"\n",
       "\\item \"nppes\\_provider\\_country\"\n",
       "\\item \"provider\\_type\"\n",
       "\\item \"medicare\\_participation\\_indicator\"\n",
       "\\item \"place\\_of\\_service\"\n",
       "\\item \"hcpcs\\_code\"\n",
       "\\item \"hcpcs\\_description\"\n",
       "\\item \"hcpcs\\_drug\\_indicator\"\n",
       "\\item \"line\\_srvc\\_cnt\"\n",
       "\\item \"bene\\_unique\\_cnt\"\n",
       "\\item \"bene\\_day\\_srvc\\_cnt\"\n",
       "\\item \"average\\_medicare\\_allowed\\_amt\"\n",
       "\\item \"stdev\\_medicare\\_allowed\\_amt\"\n",
       "\\item \"average\\_submitted\\_chrg\\_amt\"\n",
       "\\item \"stdev\\_submitted\\_chrg\\_amt\"\n",
       "\\item \"average\\_medicare\\_payment\\_amt\"\n",
       "\\item \"stdev\\_medicare\\_payment\\_amt\"\n",
       "\\end{enumerate*}\n"
      ],
      "text/markdown": [
       "1. \"npi\"\n",
       "2. \"nppes_provider_last_org_name\"\n",
       "3. \"nppes_provider_first_name\"\n",
       "4. \"nppes_provider_mi\"\n",
       "5. \"nppes_credentials\"\n",
       "6. \"nppes_provider_gender\"\n",
       "7. \"nppes_entity_code\"\n",
       "8. \"nppes_provider_street1\"\n",
       "9. \"nppes_provider_street2\"\n",
       "10. \"nppes_provider_city\"\n",
       "11. \"nppes_provider_zip\"\n",
       "12. \"nppes_provider_state\"\n",
       "13. \"nppes_provider_country\"\n",
       "14. \"provider_type\"\n",
       "15. \"medicare_participation_indicator\"\n",
       "16. \"place_of_service\"\n",
       "17. \"hcpcs_code\"\n",
       "18. \"hcpcs_description\"\n",
       "19. \"hcpcs_drug_indicator\"\n",
       "20. \"line_srvc_cnt\"\n",
       "21. \"bene_unique_cnt\"\n",
       "22. \"bene_day_srvc_cnt\"\n",
       "23. \"average_medicare_allowed_amt\"\n",
       "24. \"stdev_medicare_allowed_amt\"\n",
       "25. \"average_submitted_chrg_amt\"\n",
       "26. \"stdev_submitted_chrg_amt\"\n",
       "27. \"average_medicare_payment_amt\"\n",
       "28. \"stdev_medicare_payment_amt\"\n",
       "\n",
       "\n"
      ],
      "text/plain": [
       " [1] \"npi\"                              \"nppes_provider_last_org_name\"    \n",
       " [3] \"nppes_provider_first_name\"        \"nppes_provider_mi\"               \n",
       " [5] \"nppes_credentials\"                \"nppes_provider_gender\"           \n",
       " [7] \"nppes_entity_code\"                \"nppes_provider_street1\"          \n",
       " [9] \"nppes_provider_street2\"           \"nppes_provider_city\"             \n",
       "[11] \"nppes_provider_zip\"               \"nppes_provider_state\"            \n",
       "[13] \"nppes_provider_country\"           \"provider_type\"                   \n",
       "[15] \"medicare_participation_indicator\" \"place_of_service\"                \n",
       "[17] \"hcpcs_code\"                       \"hcpcs_description\"               \n",
       "[19] \"hcpcs_drug_indicator\"             \"line_srvc_cnt\"                   \n",
       "[21] \"bene_unique_cnt\"                  \"bene_day_srvc_cnt\"               \n",
       "[23] \"average_medicare_allowed_amt\"     \"stdev_medicare_allowed_amt\"      \n",
       "[25] \"average_submitted_chrg_amt\"       \"stdev_submitted_chrg_amt\"        \n",
       "[27] \"average_medicare_payment_amt\"     \"stdev_medicare_payment_amt\"      "
      ]
     },
     "metadata": {},
     "output_type": "display_data"
    }
   ],
   "source": [
    "colnames(physician_data)"
   ]
  },
  {
   "cell_type": "code",
   "execution_count": 65,
   "metadata": {
    "collapsed": true
   },
   "outputs": [],
   "source": [
    "#physician data is large and clogs memory. Therefore I take what I need and clear the rest from the workspace:\n",
    "descriptor_vars = c(\"npi\", \"nppes_provider_last_org_name\", \"nppes_provider_first_name\", \"nppes_provider_mi\", \n",
    "                    \"nppes_credentials\", \"nppes_provider_gender\", \"nppes_entity_code\", \"nppes_provider_street1\", \n",
    "                    \"nppes_provider_street2\", \"nppes_provider_city\", \"nppes_provider_zip\", \"nppes_provider_state\", \n",
    "                    \"nppes_provider_country\", \"provider_type\", \"medicare_participation_indicator\", \"place_of_service\")\n",
    "\n",
    "physician_info   = physician_data[, descriptor_vars]\n",
    "doctor_procedure = physician_data[, c('npi', 'hcpcs_code','line_srvc_cnt' )]\n",
    "conversion_table = physician_data[, c('hcpcs_code', 'hcpcs_description')]\n",
    "#rm(physician_data)"
   ]
  },
  {
   "cell_type": "markdown",
   "metadata": {},
   "source": [
    "#### Spreadsheet #1: Doctor's parameters such as NPI, Name, state, gender, etc..."
   ]
  },
  {
   "cell_type": "code",
   "execution_count": 66,
   "metadata": {
    "collapsed": false
   },
   "outputs": [],
   "source": [
    "physician_info = physician_info[!duplicated(physician_info$npi),]  # no time saving here by converting to a data.table \n",
    "#write.csv(physician_info, file = \"physician_info.csv\", row.names=FALSE, na=\"\")"
   ]
  },
  {
   "cell_type": "markdown",
   "metadata": {},
   "source": [
    "#### Spreadsheet #2: HCPCS/CPT code to CCS conversion"
   ]
  },
  {
   "cell_type": "code",
   "execution_count": 36,
   "metadata": {
    "collapsed": false
   },
   "outputs": [
    {
     "data": {
      "text/html": [
       "<table>\n",
       "<thead><tr><th></th><th scope=col>hcpcs_code</th><th scope=col>hcpcs_description</th></tr></thead>\n",
       "<tbody>\n",
       "\t<tr><th scope=row>1</th><td>00100                                                 </td><td>Anesthesia for procedure on salivary gland with biopsy</td></tr>\n",
       "\t<tr><th scope=row>2</th><td>00102                                                         </td><td>Anesthesia for procedure to repair lip defect present at birth</td></tr>\n",
       "\t<tr><th scope=row>3</th><td>00103                             </td><td>Anesthesia for procedure on eyelid</td></tr>\n",
       "\t<tr><th scope=row>4</th><td>00104                                  </td><td>Anesthesia for electric shock treatment</td></tr>\n",
       "\t<tr><th scope=row>5</th><td>00120                                                 </td><td>Anesthesia for biopsy of external middle and inner ear</td></tr>\n",
       "\t<tr><th scope=row>6</th><td>00126                              </td><td>Anesthesia for incision of ear drum</td></tr>\n",
       "</tbody>\n",
       "</table>\n"
      ],
      "text/latex": [
       "\\begin{tabular}{r|ll}\n",
       "  & hcpcs\\_code & hcpcs\\_description\\\\\n",
       "\\hline\n",
       "\t1 & 00100                                                  & Anesthesia for procedure on salivary gland with biopsy\\\\\n",
       "\t2 & 00102                                                          & Anesthesia for procedure to repair lip defect present at birth\\\\\n",
       "\t3 & 00103                              & Anesthesia for procedure on eyelid\\\\\n",
       "\t4 & 00104                                   & Anesthesia for electric shock treatment\\\\\n",
       "\t5 & 00120                                                  & Anesthesia for biopsy of external middle and inner ear\\\\\n",
       "\t6 & 00126                               & Anesthesia for incision of ear drum\\\\\n",
       "\\end{tabular}\n"
      ],
      "text/plain": [
       "  hcpcs_code                                              hcpcs_description\n",
       "1      00100         Anesthesia for procedure on salivary gland with biopsy\n",
       "2      00102 Anesthesia for procedure to repair lip defect present at birth\n",
       "3      00103                             Anesthesia for procedure on eyelid\n",
       "4      00104                        Anesthesia for electric shock treatment\n",
       "5      00120         Anesthesia for biopsy of external middle and inner ear\n",
       "6      00126                            Anesthesia for incision of ear drum"
      ]
     },
     "metadata": {},
     "output_type": "display_data"
    }
   ],
   "source": [
    "conversion_table = conversion_table[!duplicated(conversion_table$hcpcs_code),]\n",
    "# conversion_table$ccs_code = 0\n",
    "# conversion_table$ccs_desc = 'none'\n",
    "conversion_table = data.table(conversion_table)\n",
    "setkey(conversion_table, hcpcs_code)\n",
    "head(conversion_table)"
   ]
  },
  {
   "cell_type": "code",
   "execution_count": 70,
   "metadata": {
    "collapsed": false
   },
   "outputs": [
    {
     "data": {
      "text/html": [
       "<table>\n",
       "<thead><tr><th></th><th scope=col>Code.Range</th><th scope=col>CCS</th><th scope=col>CCS.Label</th></tr></thead>\n",
       "<tbody>\n",
       "\t<tr><th scope=row>1</th><td>'0001T-0002T'                               </td><td>52                                          </td><td>Aortic resection, replacement or anastomosis</td></tr>\n",
       "\t<tr><th scope=row>2</th><td>'0003T-0003T'                             </td><td>130                                       </td><td>Other diagnostic procedures, female organs</td></tr>\n",
       "\t<tr><th scope=row>3</th><td>'0005T-0006T'                                  </td><td>59                                             </td><td>Other OR procedures on vessels of head and neck</td></tr>\n",
       "\t<tr><th scope=row>4</th><td>'0007T-0007T'        </td><td>211                  </td><td>Therapeutic radiology</td></tr>\n",
       "\t<tr><th scope=row>5</th><td>'0008T-0008T'                               </td><td>93                                          </td><td>Other non-OR upper GI therapeutic procedures</td></tr>\n",
       "\t<tr><th scope=row>6</th><td>'0009T-0009T'                      </td><td>125                                </td><td>Other excision of cervix and uterus</td></tr>\n",
       "</tbody>\n",
       "</table>\n"
      ],
      "text/latex": [
       "\\begin{tabular}{r|lll}\n",
       "  & Code.Range & CCS & CCS.Label\\\\\n",
       "\\hline\n",
       "\t1 & '0001T-0002T'                                & 52                                           & Aortic resection, replacement or anastomosis\\\\\n",
       "\t2 & '0003T-0003T'                              & 130                                        & Other diagnostic procedures, female organs\\\\\n",
       "\t3 & '0005T-0006T'                                   & 59                                              & Other OR procedures on vessels of head and neck\\\\\n",
       "\t4 & '0007T-0007T'         & 211                   & Therapeutic radiology\\\\\n",
       "\t5 & '0008T-0008T'                                & 93                                           & Other non-OR upper GI therapeutic procedures\\\\\n",
       "\t6 & '0009T-0009T'                       & 125                                 & Other excision of cervix and uterus\\\\\n",
       "\\end{tabular}\n"
      ],
      "text/plain": [
       "     Code.Range CCS                                       CCS.Label\n",
       "1 '0001T-0002T'  52    Aortic resection, replacement or anastomosis\n",
       "2 '0003T-0003T' 130      Other diagnostic procedures, female organs\n",
       "3 '0005T-0006T'  59 Other OR procedures on vessels of head and neck\n",
       "4 '0007T-0007T' 211                           Therapeutic radiology\n",
       "5 '0008T-0008T'  93    Other non-OR upper GI therapeutic procedures\n",
       "6 '0009T-0009T' 125             Other excision of cervix and uterus"
      ]
     },
     "metadata": {},
     "output_type": "display_data"
    }
   ],
   "source": [
    "ccs_file = '2016_ccs_services_procedures.csv'\n",
    "ccs_table = data.table(read.csv(ccs_file))\n",
    "ccs_table$Code.Range <- as.character(ccs_table$Code.Range)\n",
    "setkey(ccs_table,Code.Range,CCS,CCS.Label)\n",
    "head(ccs_table)"
   ]
  },
  {
   "cell_type": "code",
   "execution_count": 17,
   "metadata": {
    "collapsed": true
   },
   "outputs": [],
   "source": [
    "# combine the above two tables"
   ]
  },
  {
   "cell_type": "code",
   "execution_count": 68,
   "metadata": {
    "collapsed": false
   },
   "outputs": [],
   "source": [
    "#create an incremental sequence of CSS codes from Code.Range:\n",
    "get_code_range <- function(inp,ccscode,ccsdesc){\n",
    "    \n",
    "    code_range <- vector(mode=\"numeric\", length=0) #empty \n",
    "    \n",
    "    aaa = unlist(strsplit(inp, \"-\", fixed = TRUE))    \n",
    "    aaa = sub(\"\\'\", \"\", aaa)\n",
    "    \n",
    "    if (!grepl(\"[a-zA-Z]\", aaa[1])){  #if code does not contain letters\n",
    "        aaa = as.numeric(aaa)\n",
    "        code_range = seq.int(aaa[1],aaa[2])\n",
    "        code_range = sprintf(\"%05d\", code_range) # fixed width of five characters with leading zeros\n",
    "        code_range = as.character(code_range)\n",
    "        \n",
    "    } else #if hcpcs code is alphanumeric, with the numeric part as an incremental sequence\n",
    "    {\n",
    "        bbb = substring(aaa[1], seq(1,nchar(aaa[1])), seq(1,nchar(aaa[1]),1)) #break up string to individual characters\n",
    "        letterPos = grep(\"[a-zA-Z]\", bbb, value = FALSE)\n",
    "        letterChar = grep(\"[a-zA-Z]\", bbb, value = TRUE)\n",
    "\n",
    "        numericPart1 = grep(\"[0-9]\", bbb, value = TRUE)\n",
    "        numericPart1 = as.numeric(paste(numericPart1, collapse=\"\"))\n",
    "\n",
    "        bbb = substring(aaa[2], seq(1,nchar(aaa[2])), seq(1,nchar(aaa[2]),1)) \n",
    "        numericPart2 = grep(\"[0-9]\", bbb, value = TRUE)\n",
    "        numericPart2 = as.numeric(paste(numericPart2, collapse=\"\"))\n",
    "\n",
    "        cr  = seq.int(numericPart1,numericPart2)\n",
    "        \n",
    "        if (letterPos==1){\n",
    "            code_range = sprintf(\"%s%04d\", letterChar, cr) # fixed width of four characters with leading zeros\n",
    "        } else\n",
    "        {\n",
    "            code_range = sprintf(\"%04d%s\", cr, letterChar)\n",
    "        }            \n",
    "    }\n",
    "    out = data.frame(hcpcs_code=code_range, ccs = ccscode, css_desc = ccsdesc)\n",
    "}"
   ]
  },
  {
   "cell_type": "code",
   "execution_count": 72,
   "metadata": {
    "collapsed": true
   },
   "outputs": [],
   "source": [
    "#create an incremental sequence of CSS codes from Code.Range:\n",
    "get_code_rangeBu <- function(inp){\n",
    "    \n",
    "    code_range <- vector(mode=\"numeric\", length=0) #empty \n",
    "    \n",
    "    aaa = unlist(strsplit(inp, \"-\", fixed = TRUE))    \n",
    "    aaa = sub(\"\\'\", \"\", aaa)\n",
    "    \n",
    "    if (!grepl(\"[a-zA-Z]\", aaa[1])){  #if code does not contain letters\n",
    "        aaa = as.numeric(aaa)\n",
    "        code_range = seq.int(aaa[1],aaa[2])\n",
    "        code_range = sprintf(\"%05d\", code_range) # fixed width of five characters with leading zeros\n",
    "        code_range = as.character(code_range)\n",
    "        \n",
    "    } else #if hcpcs code is alphanumeric, with the numeric part as an incremental sequence\n",
    "    {\n",
    "        bbb = substring(aaa[1], seq(1,nchar(aaa[1])), seq(1,nchar(aaa[1]),1)) #break up string to individual characters\n",
    "        letterPos = grep(\"[a-zA-Z]\", bbb, value = FALSE)\n",
    "        letterChar = grep(\"[a-zA-Z]\", bbb, value = TRUE)\n",
    "\n",
    "        numericPart1 = grep(\"[0-9]\", bbb, value = TRUE)\n",
    "        numericPart1 = as.numeric(paste(numericPart1, collapse=\"\"))\n",
    "\n",
    "        bbb = substring(aaa[2], seq(1,nchar(aaa[2])), seq(1,nchar(aaa[2]),1)) \n",
    "        numericPart2 = grep(\"[0-9]\", bbb, value = TRUE)\n",
    "        numericPart2 = as.numeric(paste(numericPart2, collapse=\"\"))\n",
    "\n",
    "        cr  = seq.int(numericPart1,numericPart2)\n",
    "        \n",
    "        if (letterPos==1){\n",
    "            code_range = sprintf(\"%s%04d\", letterChar, cr) # fixed width of four characters with leading zeros\n",
    "        } else\n",
    "        {\n",
    "            code_range = sprintf(\"%04d%s\", cr, letterChar)\n",
    "        }            \n",
    "    }\n",
    "}"
   ]
  },
  {
   "cell_type": "code",
   "execution_count": 71,
   "metadata": {
    "collapsed": false
   },
   "outputs": [
    {
     "data": {
      "text/html": [
       "<table>\n",
       "<thead><tr><th></th><th scope=col>nrow</th><th scope=col>hcpcs_code</th><th scope=col>ccs</th><th scope=col>css_desc</th></tr></thead>\n",
       "<tbody>\n",
       "\t<tr><th scope=row>1</th><td>1                                           </td><td>0001T                                       </td><td>52                                          </td><td>Aortic resection, replacement or anastomosis</td></tr>\n",
       "\t<tr><th scope=row>2</th><td>1                                           </td><td>0002T                                       </td><td>52                                          </td><td>Aortic resection, replacement or anastomosis</td></tr>\n",
       "\t<tr><th scope=row>3</th><td>2                                         </td><td>0001T                                     </td><td>130                                       </td><td>Other diagnostic procedures, female organs</td></tr>\n",
       "\t<tr><th scope=row>4</th><td>3                                              </td><td>0001T                                          </td><td>59                                             </td><td>Other OR procedures on vessels of head and neck</td></tr>\n",
       "\t<tr><th scope=row>5</th><td>3                                              </td><td>0002T                                          </td><td>59                                             </td><td>Other OR procedures on vessels of head and neck</td></tr>\n",
       "\t<tr><th scope=row>6</th><td>4                    </td><td>0001T                </td><td>211                  </td><td>Therapeutic radiology</td></tr>\n",
       "</tbody>\n",
       "</table>\n"
      ],
      "text/latex": [
       "\\begin{tabular}{r|llll}\n",
       "  & nrow & hcpcs\\_code & ccs & css\\_desc\\\\\n",
       "\\hline\n",
       "\t1 & 1                                            & 0001T                                        & 52                                           & Aortic resection, replacement or anastomosis\\\\\n",
       "\t2 & 1                                            & 0002T                                        & 52                                           & Aortic resection, replacement or anastomosis\\\\\n",
       "\t3 & 2                                          & 0001T                                      & 130                                        & Other diagnostic procedures, female organs\\\\\n",
       "\t4 & 3                                               & 0001T                                           & 59                                              & Other OR procedures on vessels of head and neck\\\\\n",
       "\t5 & 3                                               & 0002T                                           & 59                                              & Other OR procedures on vessels of head and neck\\\\\n",
       "\t6 & 4                     & 0001T                 & 211                   & Therapeutic radiology\\\\\n",
       "\\end{tabular}\n"
      ],
      "text/plain": [
       "  nrow hcpcs_code ccs                                        css_desc\n",
       "1    1      0001T  52    Aortic resection, replacement or anastomosis\n",
       "2    1      0002T  52    Aortic resection, replacement or anastomosis\n",
       "3    2      0001T 130      Other diagnostic procedures, female organs\n",
       "4    3      0001T  59 Other OR procedures on vessels of head and neck\n",
       "5    3      0002T  59 Other OR procedures on vessels of head and neck\n",
       "6    4      0001T 211                           Therapeutic radiology"
      ]
     },
     "metadata": {},
     "output_type": "display_data"
    }
   ],
   "source": [
    "# Expand CCS table, i.e. print every HCPCS code specified within the Code.Range\n",
    "expanded_ccs = ccs_table[, get_code_range(Code.Range, CCS, CCS.Label), by = 1:nrow(ccs_table)]\n",
    "head(expanded_ccs)"
   ]
  },
  {
   "cell_type": "code",
   "execution_count": 38,
   "metadata": {
    "collapsed": true
   },
   "outputs": [],
   "source": [
    "# Expand CCS table, i.e. print every HCPCS code specified within the Code.Range\n",
    "expanded_ccs = with(ccs_table, Map(get_code_range, Code.Range, CCS, CCS.Label))\n",
    "expanded_ccs = rbind.fill(expanded_ccs)\n",
    "expanded_ccs = data.table(expanded_ccs) \n",
    "setkey(expanded_ccs,hcpcs_code)"
   ]
  },
  {
   "cell_type": "code",
   "execution_count": 1,
   "metadata": {
    "collapsed": false
   },
   "outputs": [
    {
     "ename": "ERROR",
     "evalue": "Error in head(expanded_ccs): object 'expanded_ccs' not found\n",
     "output_type": "error",
     "traceback": [
      "Error in head(expanded_ccs): object 'expanded_ccs' not found\nTraceback:\n",
      "1. head(expanded_ccs)"
     ]
    }
   ],
   "source": [
    "head(expanded_ccs)"
   ]
  },
  {
   "cell_type": "code",
   "execution_count": 40,
   "metadata": {
    "collapsed": false,
    "scrolled": true
   },
   "outputs": [],
   "source": [
    "conversion_table = merge(conversion_table,expanded_ccs, by='hcpcs_code')"
   ]
  },
  {
   "cell_type": "code",
   "execution_count": null,
   "metadata": {
    "collapsed": false,
    "scrolled": true
   },
   "outputs": [],
   "source": [
    "head(conversion_table)"
   ]
  },
  {
   "cell_type": "code",
   "execution_count": 33,
   "metadata": {
    "collapsed": false
   },
   "outputs": [],
   "source": [
    "rm('expanded_codes', 'expanded_ccs', 'conversion_table', 'conv_table')"
   ]
  },
  {
   "cell_type": "code",
   "execution_count": null,
   "metadata": {
    "collapsed": false
   },
   "outputs": [],
   "source": [
    "#find corresponding css code and description for each hcpcs code:\n",
    "for (i in 1:nrow(ccs_table)){\n",
    "    codeRange = get_code_rangeBu(ccs_table$Code.Range[i])\n",
    "    if(length(codeRange) != 0) {\n",
    "        conversion_table$ccs_code[(conversion_table$hcpcs_code %in% codeRange * 1)>0] = ccs_table$CCS[i]\n",
    "        conversion_table$ccs_desc[(conversion_table$hcpcs_code %in% codeRange * 1)>0] = as.character(ccs_table$CCS.Label[i])\n",
    "    }\n",
    "}\n",
    "conversion_table = arrange(conversion_table, hcpcs_code)\n",
    "conversion_table$hcpcs_code = as.character(conversion_table$hcpcs_code)\n",
    "conversion_table = data.table(conversion_table)\n",
    "head(conversion_table)"
   ]
  },
  {
   "cell_type": "code",
   "execution_count": null,
   "metadata": {
    "collapsed": false
   },
   "outputs": [],
   "source": [
    "#matching efficiency:\n",
    "sum(conversion_table$ccs_code>0)/nrow(conversion_table)\n",
    "\n",
    "##These HCPCS codes don't have a match in the CCS table:\n",
    "subset(conversion_table, ccs_code==0)"
   ]
  },
  {
   "cell_type": "code",
   "execution_count": null,
   "metadata": {
    "collapsed": false
   },
   "outputs": [],
   "source": [
    "#save conversion table as a csv file:\n",
    "write.csv(conversion_table, file = \"CPT_to_CCS_conversion.csv\", row.names=FALSE, na=\"\")\n",
    "save(conversion_table, file='CPT_to_CSS_Conv_Table.RData')\n",
    "#Note that write.csv saves numeric hcpcs codes as an arabic number e.g. '102', omiting zero characters in the beginning.\n",
    "#This would cause mismatches later when mapping fixed-length character arrays such as '00102'. \n",
    "#However, R's native data format saves the codes with leading zeros."
   ]
  },
  {
   "cell_type": "markdown",
   "metadata": {},
   "source": [
    "#### Spreadsheet #3: Provider vs Procedure count.  \n",
    "Rows: provider (npi as an ID), columns: CCS code.  \n",
    "cells in the final matrix (npi_vs_css) correspond to total procedure counts for a given provider and given CCS category"
   ]
  },
  {
   "cell_type": "code",
   "execution_count": null,
   "metadata": {
    "collapsed": false
   },
   "outputs": [],
   "source": [
    "# Merge CCS codes into physician data frame:\n",
    "toAppend = conversion_table[, .(hcpcs_code ,ccs_code)]\n",
    "setkey(toAppend,hcpcs_code)"
   ]
  },
  {
   "cell_type": "code",
   "execution_count": null,
   "metadata": {
    "collapsed": false
   },
   "outputs": [],
   "source": [
    "head(toAppend)"
   ]
  },
  {
   "cell_type": "code",
   "execution_count": null,
   "metadata": {
    "collapsed": false
   },
   "outputs": [],
   "source": [
    "doctor_procedure = data.table(doctor_procedure)\n",
    "setkey(doctor_procedure, \"hcpcs_code\")\n",
    "doctor_procedure = merge(doctor_procedure, toAppend, by='hcpcs_code')"
   ]
  },
  {
   "cell_type": "code",
   "execution_count": null,
   "metadata": {
    "collapsed": false
   },
   "outputs": [],
   "source": [
    "head(doctor_procedure)"
   ]
  },
  {
   "cell_type": "code",
   "execution_count": null,
   "metadata": {
    "collapsed": false
   },
   "outputs": [],
   "source": [
    "start = Sys.time()\n",
    "\n",
    "setkey(doctor_procedure, \"npi\",\"ccs_code\")\n",
    "npi_vs_css = doctor_procedure[, .(proc_count = sum(line_srvc_cnt)), by = .(npi,ccs_code)] #pool similar procedures (with identical ccs codes)\n",
    "setkey(npi_vs_css, \"npi\",\"ccs_code\")\n",
    "npi_vs_css= dcast(npi_vs_css, npi ~ ccs_code) #convert data.table from long to wide format (i.e. npi vs. ccs table)\n",
    "\n",
    "Sys.time()-start"
   ]
  },
  {
   "cell_type": "code",
   "execution_count": null,
   "metadata": {
    "collapsed": false
   },
   "outputs": [],
   "source": [
    "head(npi_vs_css)"
   ]
  },
  {
   "cell_type": "code",
   "execution_count": null,
   "metadata": {
    "collapsed": false
   },
   "outputs": [],
   "source": [
    "#write.csv(npi_vs_css, file = \"provider_vs_procedures2012.csv\", row.names=FALSE, na=\"\")\n",
    "save(npi_vs_css, file=\"provider_vs_procedures2012.RData\")"
   ]
  },
  {
   "cell_type": "code",
   "execution_count": null,
   "metadata": {
    "collapsed": true
   },
   "outputs": [],
   "source": []
  },
  {
   "cell_type": "code",
   "execution_count": null,
   "metadata": {
    "collapsed": true
   },
   "outputs": [],
   "source": []
  }
 ],
 "metadata": {
  "anaconda-cloud": {},
  "kernelspec": {
   "display_name": "R",
   "language": "R",
   "name": "ir"
  },
  "language_info": {
   "codemirror_mode": "r",
   "file_extension": ".r",
   "mimetype": "text/x-r-source",
   "name": "R",
   "pygments_lexer": "r",
   "version": "3.3.1"
  }
 },
 "nbformat": 4,
 "nbformat_minor": 0
}
