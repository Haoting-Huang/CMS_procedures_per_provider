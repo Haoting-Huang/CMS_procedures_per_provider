{
 "cells": [
  {
   "cell_type": "markdown",
   "metadata": {},
   "source": [
    "### Medical procedures by physician, Medicare data (2012)\n",
    "Janos Perge, 07/25/2016\n",
    "\n",
    "Purpose:   \n",
    "1) Access Medicare data on the number of performed medical procedures per physician (as a proxi for quality of care).   \n",
    "2) Convert HCPCS (or CPT) procedure codes to CCS codes for further analysis  \n",
    "3) Save data in three spreadsheets: #1-Provider information, #2-CPT-to-CCS conversion table and #3-Number of performed procedures per provider, broken down to different CCS categories (244 different procedure types)\n",
    "    \n",
    "Before running this code:  \n",
    "-Get the data. This is a public use file downloadable from CMS:\n",
    "https://www.cms.gov/apps/ama/license.asp?file=http://download.cms.gov/Research-Statistics-Data-and-Systems/Statistics-Trends-and-Reports/Medicare-Provider-Charge-Data/Downloads/Medicare_Provider_Util_Payment_PUF_CY2012_update.zip\n",
    "Visit the url above, accept CMS disclaimer, download and unzip file (2GB) and place it within the same directory as this script.\n",
    "\n",
    "-I assume you run this script in RStudio. If running base-R, you should manually set the working directory to the data-containing folder, or uncomment lines X-Y. \n",
    "\n",
    "-Note that most of the runtime is spent on opening 2GB of data and dumping it into RAM (~5min on my Win10 machine with core i7 and 8GB RAM) or writing the results to disc (~1.5 min). The actual processing time of the data on my machine took ~40sec. If you need to run this code repeatedly, uncomment line \"save(physician_data, file=my_data_file)\", to save the entire CMS spreadsheet into an .RData file. This is smaller and faster to read than the original data file.  \n",
    "\n",
    "Data is described in detail in 'Medicare-Physician-and-Other-Supplier-PUF-Methodology.PDF'.  \n",
    "Further information on the Code conversion can be found here:  \n",
    "https://www.hcup-us.ahrq.gov/toolssoftware/ccs_svcsproc/ccssvcproc.jsp#info"
   ]
  },
  {
   "cell_type": "markdown",
   "metadata": {},
   "source": [
    "#### Set working directory and obtain packages"
   ]
  },
  {
   "cell_type": "code",
   "execution_count": 96,
   "metadata": {
    "collapsed": false
   },
   "outputs": [],
   "source": [
    "rm(list=ls())\n",
    "\n",
    "##Set working directory:\n",
    "##If running this script in RStudio:\n",
    "#setwd(dirname(rstudioapi::getActiveDocumentContext()$path))\n",
    "\n",
    "##if running this in base R, try:\n",
    "# File <- \"procedures_by_provider.R\"\n",
    "# Files <- list.files(path=file.path(\"~\"),recursive=T,include.dirs=T)\n",
    "# Path.file <- names(unlist(sapply(Files,grep,pattern=File))[1])\n",
    "# Dir.wd <- dirname(Path.file)\n",
    "# setwd(Dir.wd)\n",
    "\n",
    "packageList = c(\"data.table\",\"stringr\",'plyr')\n",
    "\n",
    "is_installed <- function(mypkg) is.element(mypkg, installed.packages()[,1])\n",
    "\n",
    "load_or_install<-function(package_names)\n",
    "{\n",
    "  for(package_name in package_names)\n",
    "  {\n",
    "    if(!is_installed(package_name))\n",
    "    {\n",
    "      install.packages(package_name,repos=\"http://lib.stat.cmu.edu/R/CRAN\")\n",
    "    }\n",
    "    options(java.parameters = \"-Xmx8g\")\n",
    "    library(package_name,character.only=TRUE,quietly=TRUE,verbose=FALSE)\n",
    "  }\n",
    "}\n",
    "\n",
    "load_or_install(packageList)"
   ]
  },
  {
   "cell_type": "markdown",
   "metadata": {},
   "source": [
    "#### Access data"
   ]
  },
  {
   "cell_type": "code",
   "execution_count": 86,
   "metadata": {
    "collapsed": false
   },
   "outputs": [
    {
     "data": {
      "text/plain": [
       "Time difference of 50.45854 secs"
      ]
     },
     "metadata": {},
     "output_type": "display_data"
    }
   ],
   "source": [
    "cms_filename = \"Medicare_Provider_Util_Payment_PUF_CY2012.txt\" #available data for years 2012,2013,2014\n",
    "my_data_file = \"procedures2012.RData\"\n",
    "\n",
    "start = Sys.time()\n",
    "#open data from tabular file saved on HD or from Rdatafile:\n",
    "if(file.exists(my_data_file) && !exists(\"physician_data\")){\n",
    "  load(my_data_file)\n",
    "} else if(!file.exists(my_data_file)) {\n",
    "  #physician_data = read.delim(cms_filename, stringsAsFactors=FALSE)\n",
    "  physician_data = data.frame(fread(cms_filename)) #This second way of reading data is ~5 times faster!\n",
    "  physician_data = physician_data[2:nrow(physician_data),]\n",
    "  colnames(physician_data) = tolower(colnames(physician_data))\n",
    "\n",
    "  # save(physician_data, file=my_data_file)\n",
    "}\n",
    "#physician_data = data.table(physician_data)\n",
    "    \n",
    "Sys.time()-start"
   ]
  },
  {
   "cell_type": "code",
   "execution_count": 92,
   "metadata": {
    "collapsed": false,
    "scrolled": false
   },
   "outputs": [
    {
     "data": {
      "text/html": [
       "<table>\n",
       "<thead><tr><th></th><th scope=col>npi</th><th scope=col>nppes_provider_last_org_name</th><th scope=col>nppes_provider_first_name</th><th scope=col>nppes_provider_mi</th><th scope=col>nppes_credentials</th><th scope=col>nppes_provider_gender</th><th scope=col>nppes_entity_code</th><th scope=col>nppes_provider_street1</th><th scope=col>nppes_provider_street2</th><th scope=col>nppes_provider_city</th><th scope=col>...</th><th scope=col>hcpcs_drug_indicator</th><th scope=col>line_srvc_cnt</th><th scope=col>bene_unique_cnt</th><th scope=col>bene_day_srvc_cnt</th><th scope=col>average_medicare_allowed_amt</th><th scope=col>stdev_medicare_allowed_amt</th><th scope=col>average_submitted_chrg_amt</th><th scope=col>stdev_submitted_chrg_amt</th><th scope=col>average_medicare_payment_amt</th><th scope=col>stdev_medicare_payment_amt</th></tr></thead>\n",
       "<tbody>\n",
       "\t<tr><th scope=row>2</th><td>1003000126  </td><td>ENKESHAFI   </td><td>ARDALAN     </td><td>            </td><td>M.D.        </td><td>M           </td><td>I           </td><td>900 SETON DR</td><td>            </td><td>CUMBERLAND  </td><td>...         </td><td>N           </td><td>115         </td><td>112         </td><td>115         </td><td>135.25      </td><td>0           </td><td>199         </td><td>0           </td><td>108.11565217</td><td>0.9005883395</td></tr>\n",
       "\t<tr><th scope=row>3</th><td>1003000126  </td><td>ENKESHAFI   </td><td>ARDALAN     </td><td>            </td><td>M.D.        </td><td>M           </td><td>I           </td><td>900 SETON DR</td><td>            </td><td>CUMBERLAND  </td><td>...         </td><td>N           </td><td>93          </td><td>88          </td><td>93          </td><td>198.59      </td><td>0           </td><td>291         </td><td>9.5916630466</td><td>158.87      </td><td>0           </td></tr>\n",
       "\t<tr><th scope=row>4</th><td>1003000126  </td><td>ENKESHAFI   </td><td>ARDALAN     </td><td>            </td><td>M.D.        </td><td>M           </td><td>I           </td><td>900 SETON DR</td><td>            </td><td>CUMBERLAND  </td><td>...         </td><td>N           </td><td>111         </td><td>83          </td><td>111         </td><td>38.75       </td><td>0           </td><td>58          </td><td>0           </td><td>30.720720721</td><td>2.9291057922</td></tr>\n",
       "\t<tr><th scope=row>5</th><td>1003000126  </td><td>ENKESHAFI   </td><td>ARDALAN     </td><td>            </td><td>M.D.        </td><td>M           </td><td>I           </td><td>900 SETON DR</td><td>            </td><td>CUMBERLAND  </td><td>...         </td><td>N           </td><td>544         </td><td>295         </td><td>544         </td><td>70.95       </td><td>0           </td><td>105         </td><td>0           </td><td>56.655661765</td><td>2.4313271619</td></tr>\n",
       "\t<tr><th scope=row>6</th><td>1003000126  </td><td>ENKESHAFI   </td><td>ARDALAN     </td><td>            </td><td>M.D.        </td><td>M           </td><td>I           </td><td>900 SETON DR</td><td>            </td><td>CUMBERLAND  </td><td>...         </td><td>N           </td><td>75          </td><td>55          </td><td>75          </td><td>101.74      </td><td>0           </td><td>150         </td><td>0           </td><td>81.39       </td><td>0           </td></tr>\n",
       "\t<tr><th scope=row>7</th><td>1003000126  </td><td>ENKESHAFI   </td><td>ARDALAN     </td><td>            </td><td>M.D.        </td><td>M           </td><td>I           </td><td>900 SETON DR</td><td>            </td><td>CUMBERLAND  </td><td>...         </td><td>N           </td><td>95          </td><td>95          </td><td>95          </td><td>71.06       </td><td>0           </td><td>104         </td><td>0           </td><td>55.768842105</td><td>7.4155003896</td></tr>\n",
       "</tbody>\n",
       "</table>\n"
      ],
      "text/latex": [
       "\\begin{tabular}{r|llllllllllllllllllllllllllll}\n",
       "  & npi & nppes\\_provider\\_last\\_org\\_name & nppes\\_provider\\_first\\_name & nppes\\_provider\\_mi & nppes\\_credentials & nppes\\_provider\\_gender & nppes\\_entity\\_code & nppes\\_provider\\_street1 & nppes\\_provider\\_street2 & nppes\\_provider\\_city & ... & hcpcs\\_drug\\_indicator & line\\_srvc\\_cnt & bene\\_unique\\_cnt & bene\\_day\\_srvc\\_cnt & average\\_medicare\\_allowed\\_amt & stdev\\_medicare\\_allowed\\_amt & average\\_submitted\\_chrg\\_amt & stdev\\_submitted\\_chrg\\_amt & average\\_medicare\\_payment\\_amt & stdev\\_medicare\\_payment\\_amt\\\\\n",
       "\\hline\n",
       "\t2 & 1003000126   & ENKESHAFI    & ARDALAN      &              & M.D.         & M            & I            & 900 SETON DR &              & CUMBERLAND   & ...          & N            & 115          & 112          & 115          & 135.25       & 0            & 199          & 0            & 108.11565217 & 0.9005883395\\\\\n",
       "\t3 & 1003000126   & ENKESHAFI    & ARDALAN      &              & M.D.         & M            & I            & 900 SETON DR &              & CUMBERLAND   & ...          & N            & 93           & 88           & 93           & 198.59       & 0            & 291          & 9.5916630466 & 158.87       & 0           \\\\\n",
       "\t4 & 1003000126   & ENKESHAFI    & ARDALAN      &              & M.D.         & M            & I            & 900 SETON DR &              & CUMBERLAND   & ...          & N            & 111          & 83           & 111          & 38.75        & 0            & 58           & 0            & 30.720720721 & 2.9291057922\\\\\n",
       "\t5 & 1003000126   & ENKESHAFI    & ARDALAN      &              & M.D.         & M            & I            & 900 SETON DR &              & CUMBERLAND   & ...          & N            & 544          & 295          & 544          & 70.95        & 0            & 105          & 0            & 56.655661765 & 2.4313271619\\\\\n",
       "\t6 & 1003000126   & ENKESHAFI    & ARDALAN      &              & M.D.         & M            & I            & 900 SETON DR &              & CUMBERLAND   & ...          & N            & 75           & 55           & 75           & 101.74       & 0            & 150          & 0            & 81.39        & 0           \\\\\n",
       "\t7 & 1003000126   & ENKESHAFI    & ARDALAN      &              & M.D.         & M            & I            & 900 SETON DR &              & CUMBERLAND   & ...          & N            & 95           & 95           & 95           & 71.06        & 0            & 104          & 0            & 55.768842105 & 7.4155003896\\\\\n",
       "\\end{tabular}\n"
      ],
      "text/plain": [
       "         npi nppes_provider_last_org_name nppes_provider_first_name\n",
       "2 1003000126                    ENKESHAFI                   ARDALAN\n",
       "3 1003000126                    ENKESHAFI                   ARDALAN\n",
       "4 1003000126                    ENKESHAFI                   ARDALAN\n",
       "5 1003000126                    ENKESHAFI                   ARDALAN\n",
       "6 1003000126                    ENKESHAFI                   ARDALAN\n",
       "7 1003000126                    ENKESHAFI                   ARDALAN\n",
       "  nppes_provider_mi nppes_credentials nppes_provider_gender nppes_entity_code\n",
       "2                                M.D.                     M                 I\n",
       "3                                M.D.                     M                 I\n",
       "4                                M.D.                     M                 I\n",
       "5                                M.D.                     M                 I\n",
       "6                                M.D.                     M                 I\n",
       "7                                M.D.                     M                 I\n",
       "  nppes_provider_street1 nppes_provider_street2 nppes_provider_city ...\n",
       "2           900 SETON DR                                 CUMBERLAND ...\n",
       "3           900 SETON DR                                 CUMBERLAND ...\n",
       "4           900 SETON DR                                 CUMBERLAND ...\n",
       "5           900 SETON DR                                 CUMBERLAND ...\n",
       "6           900 SETON DR                                 CUMBERLAND ...\n",
       "7           900 SETON DR                                 CUMBERLAND ...\n",
       "  hcpcs_drug_indicator line_srvc_cnt bene_unique_cnt bene_day_srvc_cnt\n",
       "2                    N           115             112               115\n",
       "3                    N            93              88                93\n",
       "4                    N           111              83               111\n",
       "5                    N           544             295               544\n",
       "6                    N            75              55                75\n",
       "7                    N            95              95                95\n",
       "  average_medicare_allowed_amt stdev_medicare_allowed_amt\n",
       "2                       135.25                          0\n",
       "3                       198.59                          0\n",
       "4                        38.75                          0\n",
       "5                        70.95                          0\n",
       "6                       101.74                          0\n",
       "7                        71.06                          0\n",
       "  average_submitted_chrg_amt stdev_submitted_chrg_amt\n",
       "2                        199                 0.000000\n",
       "3                        291                 9.591663\n",
       "4                         58                 0.000000\n",
       "5                        105                 0.000000\n",
       "6                        150                 0.000000\n",
       "7                        104                 0.000000\n",
       "  average_medicare_payment_amt stdev_medicare_payment_amt\n",
       "2                    108.11565                  0.9005883\n",
       "3                    158.87000                  0.0000000\n",
       "4                     30.72072                  2.9291058\n",
       "5                     56.65566                  2.4313272\n",
       "6                     81.39000                  0.0000000\n",
       "7                     55.76884                  7.4155004"
      ]
     },
     "metadata": {},
     "output_type": "display_data"
    }
   ],
   "source": [
    "head(physician_data)"
   ]
  },
  {
   "cell_type": "code",
   "execution_count": 93,
   "metadata": {
    "collapsed": false
   },
   "outputs": [
    {
     "data": {
      "text/html": [
       "<ol class=list-inline>\n",
       "\t<li>\"npi\"</li>\n",
       "\t<li>\"nppes_provider_last_org_name\"</li>\n",
       "\t<li>\"nppes_provider_first_name\"</li>\n",
       "\t<li>\"nppes_provider_mi\"</li>\n",
       "\t<li>\"nppes_credentials\"</li>\n",
       "\t<li>\"nppes_provider_gender\"</li>\n",
       "\t<li>\"nppes_entity_code\"</li>\n",
       "\t<li>\"nppes_provider_street1\"</li>\n",
       "\t<li>\"nppes_provider_street2\"</li>\n",
       "\t<li>\"nppes_provider_city\"</li>\n",
       "\t<li>\"nppes_provider_zip\"</li>\n",
       "\t<li>\"nppes_provider_state\"</li>\n",
       "\t<li>\"nppes_provider_country\"</li>\n",
       "\t<li>\"provider_type\"</li>\n",
       "\t<li>\"medicare_participation_indicator\"</li>\n",
       "\t<li>\"place_of_service\"</li>\n",
       "\t<li>\"hcpcs_code\"</li>\n",
       "\t<li>\"hcpcs_description\"</li>\n",
       "\t<li>\"hcpcs_drug_indicator\"</li>\n",
       "\t<li>\"line_srvc_cnt\"</li>\n",
       "\t<li>\"bene_unique_cnt\"</li>\n",
       "\t<li>\"bene_day_srvc_cnt\"</li>\n",
       "\t<li>\"average_medicare_allowed_amt\"</li>\n",
       "\t<li>\"stdev_medicare_allowed_amt\"</li>\n",
       "\t<li>\"average_submitted_chrg_amt\"</li>\n",
       "\t<li>\"stdev_submitted_chrg_amt\"</li>\n",
       "\t<li>\"average_medicare_payment_amt\"</li>\n",
       "\t<li>\"stdev_medicare_payment_amt\"</li>\n",
       "</ol>\n"
      ],
      "text/latex": [
       "\\begin{enumerate*}\n",
       "\\item \"npi\"\n",
       "\\item \"nppes\\_provider\\_last\\_org\\_name\"\n",
       "\\item \"nppes\\_provider\\_first\\_name\"\n",
       "\\item \"nppes\\_provider\\_mi\"\n",
       "\\item \"nppes\\_credentials\"\n",
       "\\item \"nppes\\_provider\\_gender\"\n",
       "\\item \"nppes\\_entity\\_code\"\n",
       "\\item \"nppes\\_provider\\_street1\"\n",
       "\\item \"nppes\\_provider\\_street2\"\n",
       "\\item \"nppes\\_provider\\_city\"\n",
       "\\item \"nppes\\_provider\\_zip\"\n",
       "\\item \"nppes\\_provider\\_state\"\n",
       "\\item \"nppes\\_provider\\_country\"\n",
       "\\item \"provider\\_type\"\n",
       "\\item \"medicare\\_participation\\_indicator\"\n",
       "\\item \"place\\_of\\_service\"\n",
       "\\item \"hcpcs\\_code\"\n",
       "\\item \"hcpcs\\_description\"\n",
       "\\item \"hcpcs\\_drug\\_indicator\"\n",
       "\\item \"line\\_srvc\\_cnt\"\n",
       "\\item \"bene\\_unique\\_cnt\"\n",
       "\\item \"bene\\_day\\_srvc\\_cnt\"\n",
       "\\item \"average\\_medicare\\_allowed\\_amt\"\n",
       "\\item \"stdev\\_medicare\\_allowed\\_amt\"\n",
       "\\item \"average\\_submitted\\_chrg\\_amt\"\n",
       "\\item \"stdev\\_submitted\\_chrg\\_amt\"\n",
       "\\item \"average\\_medicare\\_payment\\_amt\"\n",
       "\\item \"stdev\\_medicare\\_payment\\_amt\"\n",
       "\\end{enumerate*}\n"
      ],
      "text/markdown": [
       "1. \"npi\"\n",
       "2. \"nppes_provider_last_org_name\"\n",
       "3. \"nppes_provider_first_name\"\n",
       "4. \"nppes_provider_mi\"\n",
       "5. \"nppes_credentials\"\n",
       "6. \"nppes_provider_gender\"\n",
       "7. \"nppes_entity_code\"\n",
       "8. \"nppes_provider_street1\"\n",
       "9. \"nppes_provider_street2\"\n",
       "10. \"nppes_provider_city\"\n",
       "11. \"nppes_provider_zip\"\n",
       "12. \"nppes_provider_state\"\n",
       "13. \"nppes_provider_country\"\n",
       "14. \"provider_type\"\n",
       "15. \"medicare_participation_indicator\"\n",
       "16. \"place_of_service\"\n",
       "17. \"hcpcs_code\"\n",
       "18. \"hcpcs_description\"\n",
       "19. \"hcpcs_drug_indicator\"\n",
       "20. \"line_srvc_cnt\"\n",
       "21. \"bene_unique_cnt\"\n",
       "22. \"bene_day_srvc_cnt\"\n",
       "23. \"average_medicare_allowed_amt\"\n",
       "24. \"stdev_medicare_allowed_amt\"\n",
       "25. \"average_submitted_chrg_amt\"\n",
       "26. \"stdev_submitted_chrg_amt\"\n",
       "27. \"average_medicare_payment_amt\"\n",
       "28. \"stdev_medicare_payment_amt\"\n",
       "\n",
       "\n"
      ],
      "text/plain": [
       " [1] \"npi\"                              \"nppes_provider_last_org_name\"    \n",
       " [3] \"nppes_provider_first_name\"        \"nppes_provider_mi\"               \n",
       " [5] \"nppes_credentials\"                \"nppes_provider_gender\"           \n",
       " [7] \"nppes_entity_code\"                \"nppes_provider_street1\"          \n",
       " [9] \"nppes_provider_street2\"           \"nppes_provider_city\"             \n",
       "[11] \"nppes_provider_zip\"               \"nppes_provider_state\"            \n",
       "[13] \"nppes_provider_country\"           \"provider_type\"                   \n",
       "[15] \"medicare_participation_indicator\" \"place_of_service\"                \n",
       "[17] \"hcpcs_code\"                       \"hcpcs_description\"               \n",
       "[19] \"hcpcs_drug_indicator\"             \"line_srvc_cnt\"                   \n",
       "[21] \"bene_unique_cnt\"                  \"bene_day_srvc_cnt\"               \n",
       "[23] \"average_medicare_allowed_amt\"     \"stdev_medicare_allowed_amt\"      \n",
       "[25] \"average_submitted_chrg_amt\"       \"stdev_submitted_chrg_amt\"        \n",
       "[27] \"average_medicare_payment_amt\"     \"stdev_medicare_payment_amt\"      "
      ]
     },
     "metadata": {},
     "output_type": "display_data"
    }
   ],
   "source": [
    "colnames(physician_data)"
   ]
  },
  {
   "cell_type": "code",
   "execution_count": 94,
   "metadata": {
    "collapsed": false
   },
   "outputs": [],
   "source": [
    "#physician data is large and clogs memory. Therefore I take what I need and clear the rest from the workspace:\n",
    "descriptor_vars = c(\"npi\", \"nppes_provider_last_org_name\", \"nppes_provider_first_name\", \"nppes_provider_mi\", \n",
    "                    \"nppes_credentials\", \"nppes_provider_gender\", \"nppes_entity_code\", \"nppes_provider_street1\", \n",
    "                    \"nppes_provider_street2\", \"nppes_provider_city\", \"nppes_provider_zip\", \"nppes_provider_state\", \n",
    "                    \"nppes_provider_country\", \"provider_type\", \"medicare_participation_indicator\", \"place_of_service\")\n",
    "\n",
    "physician_info   = physician_data[, descriptor_vars]\n",
    "doctor_procedure = physician_data[, c('npi', 'hcpcs_code','line_srvc_cnt' )]\n",
    "conversion_table = physician_data[, c('hcpcs_code', 'hcpcs_description')]\n",
    "#rm(physician_data)"
   ]
  },
  {
   "cell_type": "markdown",
   "metadata": {},
   "source": [
    "#### Spreadsheet #1: Doctor's parameters such as NPI, Name, state, gender, etc..."
   ]
  },
  {
   "cell_type": "code",
   "execution_count": 95,
   "metadata": {
    "collapsed": false
   },
   "outputs": [],
   "source": [
    "physician_info = physician_info[!duplicated(physician_info$npi),]  # no time saved by converting to a data.table "
   ]
  },
  {
   "cell_type": "markdown",
   "metadata": {},
   "source": [
    "#### Spreadsheet #2: HCPCS/CPT code to CCS conversion"
   ]
  },
  {
   "cell_type": "code",
   "execution_count": 66,
   "metadata": {
    "collapsed": true
   },
   "outputs": [],
   "source": [
    "conversion_table = conversion_table[!duplicated(conversion_table$hcpcs_code),]\n",
    "conversion_table = data.table(conversion_table)\n",
    "setkey(conversion_table, hcpcs_code)"
   ]
  },
  {
   "cell_type": "code",
   "execution_count": 67,
   "metadata": {
    "collapsed": false
   },
   "outputs": [
    {
     "data": {
      "text/html": [
       "<table>\n",
       "<thead><tr><th></th><th scope=col>hcpcs_code</th><th scope=col>hcpcs_description</th></tr></thead>\n",
       "<tbody>\n",
       "\t<tr><th scope=row>1</th><td>00100                                                 </td><td>Anesthesia for procedure on salivary gland with biopsy</td></tr>\n",
       "\t<tr><th scope=row>2</th><td>00102                                                         </td><td>Anesthesia for procedure to repair lip defect present at birth</td></tr>\n",
       "\t<tr><th scope=row>3</th><td>00103                             </td><td>Anesthesia for procedure on eyelid</td></tr>\n",
       "\t<tr><th scope=row>4</th><td>00104                                  </td><td>Anesthesia for electric shock treatment</td></tr>\n",
       "\t<tr><th scope=row>5</th><td>00120                                                 </td><td>Anesthesia for biopsy of external middle and inner ear</td></tr>\n",
       "\t<tr><th scope=row>6</th><td>00126                              </td><td>Anesthesia for incision of ear drum</td></tr>\n",
       "</tbody>\n",
       "</table>\n"
      ],
      "text/latex": [
       "\\begin{tabular}{r|ll}\n",
       "  & hcpcs\\_code & hcpcs\\_description\\\\\n",
       "\\hline\n",
       "\t1 & 00100                                                  & Anesthesia for procedure on salivary gland with biopsy\\\\\n",
       "\t2 & 00102                                                          & Anesthesia for procedure to repair lip defect present at birth\\\\\n",
       "\t3 & 00103                              & Anesthesia for procedure on eyelid\\\\\n",
       "\t4 & 00104                                   & Anesthesia for electric shock treatment\\\\\n",
       "\t5 & 00120                                                  & Anesthesia for biopsy of external middle and inner ear\\\\\n",
       "\t6 & 00126                               & Anesthesia for incision of ear drum\\\\\n",
       "\\end{tabular}\n"
      ],
      "text/plain": [
       "  hcpcs_code                                              hcpcs_description\n",
       "1      00100         Anesthesia for procedure on salivary gland with biopsy\n",
       "2      00102 Anesthesia for procedure to repair lip defect present at birth\n",
       "3      00103                             Anesthesia for procedure on eyelid\n",
       "4      00104                        Anesthesia for electric shock treatment\n",
       "5      00120         Anesthesia for biopsy of external middle and inner ear\n",
       "6      00126                            Anesthesia for incision of ear drum"
      ]
     },
     "metadata": {},
     "output_type": "display_data"
    }
   ],
   "source": [
    "head(conversion_table)"
   ]
  },
  {
   "cell_type": "code",
   "execution_count": 68,
   "metadata": {
    "collapsed": false
   },
   "outputs": [
    {
     "data": {
      "text/html": [
       "<table>\n",
       "<thead><tr><th></th><th scope=col>Code.Range</th><th scope=col>CCS</th><th scope=col>CCS.Label</th></tr></thead>\n",
       "<tbody>\n",
       "\t<tr><th scope=row>1</th><td>'0001T-0002T'                               </td><td>52                                          </td><td>Aortic resection, replacement or anastomosis</td></tr>\n",
       "\t<tr><th scope=row>2</th><td>'0003T-0003T'                             </td><td>130                                       </td><td>Other diagnostic procedures, female organs</td></tr>\n",
       "\t<tr><th scope=row>3</th><td>'0005T-0006T'                                  </td><td>59                                             </td><td>Other OR procedures on vessels of head and neck</td></tr>\n",
       "\t<tr><th scope=row>4</th><td>'0007T-0007T'        </td><td>211                  </td><td>Therapeutic radiology</td></tr>\n",
       "\t<tr><th scope=row>5</th><td>'0008T-0008T'                               </td><td>93                                          </td><td>Other non-OR upper GI therapeutic procedures</td></tr>\n",
       "\t<tr><th scope=row>6</th><td>'0009T-0009T'                      </td><td>125                                </td><td>Other excision of cervix and uterus</td></tr>\n",
       "</tbody>\n",
       "</table>\n"
      ],
      "text/latex": [
       "\\begin{tabular}{r|lll}\n",
       "  & Code.Range & CCS & CCS.Label\\\\\n",
       "\\hline\n",
       "\t1 & '0001T-0002T'                                & 52                                           & Aortic resection, replacement or anastomosis\\\\\n",
       "\t2 & '0003T-0003T'                              & 130                                        & Other diagnostic procedures, female organs\\\\\n",
       "\t3 & '0005T-0006T'                                   & 59                                              & Other OR procedures on vessels of head and neck\\\\\n",
       "\t4 & '0007T-0007T'         & 211                   & Therapeutic radiology\\\\\n",
       "\t5 & '0008T-0008T'                                & 93                                           & Other non-OR upper GI therapeutic procedures\\\\\n",
       "\t6 & '0009T-0009T'                       & 125                                 & Other excision of cervix and uterus\\\\\n",
       "\\end{tabular}\n"
      ],
      "text/plain": [
       "     Code.Range CCS                                       CCS.Label\n",
       "1 '0001T-0002T'  52    Aortic resection, replacement or anastomosis\n",
       "2 '0003T-0003T' 130      Other diagnostic procedures, female organs\n",
       "3 '0005T-0006T'  59 Other OR procedures on vessels of head and neck\n",
       "4 '0007T-0007T' 211                           Therapeutic radiology\n",
       "5 '0008T-0008T'  93    Other non-OR upper GI therapeutic procedures\n",
       "6 '0009T-0009T' 125             Other excision of cervix and uterus"
      ]
     },
     "metadata": {},
     "output_type": "display_data"
    }
   ],
   "source": [
    "ccs_file = '2016_ccs_services_procedures.csv'\n",
    "ccs_table = data.table(read.csv(ccs_file))\n",
    "ccs_table$Code.Range <- as.character(ccs_table$Code.Range)\n",
    "setkey(ccs_table,Code.Range,CCS,CCS.Label)\n",
    "head(ccs_table)"
   ]
  },
  {
   "cell_type": "code",
   "execution_count": 69,
   "metadata": {
    "collapsed": true
   },
   "outputs": [],
   "source": [
    "# combine the above two tables"
   ]
  },
  {
   "cell_type": "code",
   "execution_count": 70,
   "metadata": {
    "collapsed": false
   },
   "outputs": [],
   "source": [
    "#create an incremental sequence of CSS codes from Code.Range:\n",
    "get_code_range <- function(inp,ccscode,ccsdesc){\n",
    "    \n",
    "    code_range <- vector(mode=\"numeric\", length=0) #empty \n",
    "    \n",
    "    aaa = unlist(strsplit(inp, \"-\", fixed = TRUE))    \n",
    "    aaa = sub(\"\\'\", \"\", aaa)\n",
    "    \n",
    "    if (!grepl(\"[a-zA-Z]\", aaa[1])){  #if code does not contain letters\n",
    "        aaa = as.numeric(aaa)\n",
    "        code_range = seq.int(aaa[1],aaa[2])\n",
    "        code_range = sprintf(\"%05d\", code_range) # fixed width of five characters with leading zeros\n",
    "        code_range = as.character(code_range)\n",
    "        \n",
    "    } else #if hcpcs code is alphanumeric, with the numeric part as an incremental sequence\n",
    "    {\n",
    "        bbb = substring(aaa[1], seq(1,nchar(aaa[1])), seq(1,nchar(aaa[1]),1)) #break up string to individual characters\n",
    "        letterPos = grep(\"[a-zA-Z]\", bbb, value = FALSE)\n",
    "        letterChar = grep(\"[a-zA-Z]\", bbb, value = TRUE)\n",
    "\n",
    "        numericPart1 = grep(\"[0-9]\", bbb, value = TRUE)\n",
    "        numericPart1 = as.numeric(paste(numericPart1, collapse=\"\"))\n",
    "\n",
    "        bbb = substring(aaa[2], seq(1,nchar(aaa[2])), seq(1,nchar(aaa[2]),1)) \n",
    "        numericPart2 = grep(\"[0-9]\", bbb, value = TRUE)\n",
    "        numericPart2 = as.numeric(paste(numericPart2, collapse=\"\"))\n",
    "\n",
    "        cr  = seq.int(numericPart1,numericPart2)\n",
    "        \n",
    "        if (letterPos==1){\n",
    "            code_range = sprintf(\"%s%04d\", letterChar, cr) # fixed width of four characters with leading zeros\n",
    "        } else\n",
    "        {\n",
    "            code_range = sprintf(\"%04d%s\", cr, letterChar)\n",
    "        }            \n",
    "    }\n",
    "    out = data.frame(hcpcs_code=code_range, ccs_code = ccscode, css_desc = ccsdesc)\n",
    "}"
   ]
  },
  {
   "cell_type": "code",
   "execution_count": 71,
   "metadata": {
    "collapsed": true
   },
   "outputs": [],
   "source": [
    "# Expand CCS table, i.e. list every HCPCS code specified within the Code.Range\n",
    "expanded_ccs = with(ccs_table, Map(get_code_range, Code.Range, CCS, CCS.Label))\n",
    "expanded_ccs = rbind.fill(expanded_ccs)\n",
    "expanded_ccs = data.table(expanded_ccs) \n",
    "setkey(expanded_ccs,hcpcs_code)\n",
    "conversion_table = merge(conversion_table,expanded_ccs, by='hcpcs_code')"
   ]
  },
  {
   "cell_type": "code",
   "execution_count": 72,
   "metadata": {
    "collapsed": false
   },
   "outputs": [
    {
     "data": {
      "text/html": [
       "<table>\n",
       "<thead><tr><th></th><th scope=col>hcpcs_code</th><th scope=col>hcpcs_description</th><th scope=col>ccs_code</th><th scope=col>css_desc</th></tr></thead>\n",
       "<tbody>\n",
       "\t<tr><th scope=row>1</th><td>00100                                                 </td><td>Anesthesia for procedure on salivary gland with biopsy</td><td>232                                                   </td><td>Anesthesia                                            </td></tr>\n",
       "\t<tr><th scope=row>2</th><td>00102                                                         </td><td>Anesthesia for procedure to repair lip defect present at birth</td><td>232                                                           </td><td>Anesthesia                                                    </td></tr>\n",
       "\t<tr><th scope=row>3</th><td>00103                             </td><td>Anesthesia for procedure on eyelid</td><td>232                               </td><td>Anesthesia                        </td></tr>\n",
       "\t<tr><th scope=row>4</th><td>00104                                  </td><td>Anesthesia for electric shock treatment</td><td>232                                    </td><td>Anesthesia                             </td></tr>\n",
       "\t<tr><th scope=row>5</th><td>00120                                                 </td><td>Anesthesia for biopsy of external middle and inner ear</td><td>232                                                   </td><td>Anesthesia                                            </td></tr>\n",
       "\t<tr><th scope=row>6</th><td>00126                              </td><td>Anesthesia for incision of ear drum</td><td>232                                </td><td>Anesthesia                         </td></tr>\n",
       "</tbody>\n",
       "</table>\n"
      ],
      "text/latex": [
       "\\begin{tabular}{r|llll}\n",
       "  & hcpcs\\_code & hcpcs\\_description & ccs\\_code & css\\_desc\\\\\n",
       "\\hline\n",
       "\t1 & 00100                                                  & Anesthesia for procedure on salivary gland with biopsy & 232                                                    & Anesthesia                                            \\\\\n",
       "\t2 & 00102                                                          & Anesthesia for procedure to repair lip defect present at birth & 232                                                            & Anesthesia                                                    \\\\\n",
       "\t3 & 00103                              & Anesthesia for procedure on eyelid & 232                                & Anesthesia                        \\\\\n",
       "\t4 & 00104                                   & Anesthesia for electric shock treatment & 232                                     & Anesthesia                             \\\\\n",
       "\t5 & 00120                                                  & Anesthesia for biopsy of external middle and inner ear & 232                                                    & Anesthesia                                            \\\\\n",
       "\t6 & 00126                               & Anesthesia for incision of ear drum & 232                                 & Anesthesia                         \\\\\n",
       "\\end{tabular}\n"
      ],
      "text/plain": [
       "  hcpcs_code                                              hcpcs_description\n",
       "1      00100         Anesthesia for procedure on salivary gland with biopsy\n",
       "2      00102 Anesthesia for procedure to repair lip defect present at birth\n",
       "3      00103                             Anesthesia for procedure on eyelid\n",
       "4      00104                        Anesthesia for electric shock treatment\n",
       "5      00120         Anesthesia for biopsy of external middle and inner ear\n",
       "6      00126                            Anesthesia for incision of ear drum\n",
       "  ccs_code   css_desc\n",
       "1      232 Anesthesia\n",
       "2      232 Anesthesia\n",
       "3      232 Anesthesia\n",
       "4      232 Anesthesia\n",
       "5      232 Anesthesia\n",
       "6      232 Anesthesia"
      ]
     },
     "metadata": {},
     "output_type": "display_data"
    }
   ],
   "source": [
    "head(conversion_table)"
   ]
  },
  {
   "cell_type": "markdown",
   "metadata": {},
   "source": [
    "#### Spreadsheet #3: Provider vs Procedure count.  \n",
    "Rows: provider (npi as an ID), columns: CCS code.  \n",
    "cells in the final matrix (npi_vs_css) correspond to total procedure counts for a given provider and given CCS category"
   ]
  },
  {
   "cell_type": "code",
   "execution_count": 73,
   "metadata": {
    "collapsed": false
   },
   "outputs": [],
   "source": [
    "# Merge CCS codes into physician data frame:\n",
    "toAppend = conversion_table[, .(hcpcs_code ,ccs_code)]\n",
    "setkey(toAppend,hcpcs_code)"
   ]
  },
  {
   "cell_type": "code",
   "execution_count": 74,
   "metadata": {
    "collapsed": false
   },
   "outputs": [
    {
     "data": {
      "text/html": [
       "<table>\n",
       "<thead><tr><th></th><th scope=col>hcpcs_code</th><th scope=col>ccs_code</th></tr></thead>\n",
       "<tbody>\n",
       "\t<tr><th scope=row>1</th><td>00100</td><td>232  </td></tr>\n",
       "\t<tr><th scope=row>2</th><td>00102</td><td>232  </td></tr>\n",
       "\t<tr><th scope=row>3</th><td>00103</td><td>232  </td></tr>\n",
       "\t<tr><th scope=row>4</th><td>00104</td><td>232  </td></tr>\n",
       "\t<tr><th scope=row>5</th><td>00120</td><td>232  </td></tr>\n",
       "\t<tr><th scope=row>6</th><td>00126</td><td>232  </td></tr>\n",
       "</tbody>\n",
       "</table>\n"
      ],
      "text/latex": [
       "\\begin{tabular}{r|ll}\n",
       "  & hcpcs\\_code & ccs\\_code\\\\\n",
       "\\hline\n",
       "\t1 & 00100 & 232  \\\\\n",
       "\t2 & 00102 & 232  \\\\\n",
       "\t3 & 00103 & 232  \\\\\n",
       "\t4 & 00104 & 232  \\\\\n",
       "\t5 & 00120 & 232  \\\\\n",
       "\t6 & 00126 & 232  \\\\\n",
       "\\end{tabular}\n"
      ],
      "text/plain": [
       "  hcpcs_code ccs_code\n",
       "1      00100      232\n",
       "2      00102      232\n",
       "3      00103      232\n",
       "4      00104      232\n",
       "5      00120      232\n",
       "6      00126      232"
      ]
     },
     "metadata": {},
     "output_type": "display_data"
    }
   ],
   "source": [
    "head(toAppend)"
   ]
  },
  {
   "cell_type": "code",
   "execution_count": 75,
   "metadata": {
    "collapsed": false
   },
   "outputs": [],
   "source": [
    "doctor_procedure = data.table(doctor_procedure)\n",
    "setkey(doctor_procedure, \"hcpcs_code\")\n",
    "doctor_procedure = merge(doctor_procedure, toAppend, by='hcpcs_code')"
   ]
  },
  {
   "cell_type": "code",
   "execution_count": 76,
   "metadata": {
    "collapsed": false
   },
   "outputs": [
    {
     "data": {
      "text/html": [
       "<table>\n",
       "<thead><tr><th></th><th scope=col>hcpcs_code</th><th scope=col>npi</th><th scope=col>line_srvc_cnt</th><th scope=col>ccs_code</th></tr></thead>\n",
       "<tbody>\n",
       "\t<tr><th scope=row>1</th><td>00100     </td><td>1396897104</td><td>14        </td><td>232       </td></tr>\n",
       "\t<tr><th scope=row>2</th><td>00100     </td><td>1508884156</td><td>12        </td><td>232       </td></tr>\n",
       "\t<tr><th scope=row>3</th><td>00100     </td><td>1528032067</td><td>14        </td><td>232       </td></tr>\n",
       "\t<tr><th scope=row>4</th><td>00100     </td><td>1780646562</td><td>13        </td><td>232       </td></tr>\n",
       "\t<tr><th scope=row>5</th><td>00102     </td><td>1700846235</td><td>17        </td><td>232       </td></tr>\n",
       "\t<tr><th scope=row>6</th><td>00103     </td><td>1003019191</td><td>14        </td><td>232       </td></tr>\n",
       "</tbody>\n",
       "</table>\n"
      ],
      "text/latex": [
       "\\begin{tabular}{r|llll}\n",
       "  & hcpcs\\_code & npi & line\\_srvc\\_cnt & ccs\\_code\\\\\n",
       "\\hline\n",
       "\t1 & 00100      & 1396897104 & 14         & 232       \\\\\n",
       "\t2 & 00100      & 1508884156 & 12         & 232       \\\\\n",
       "\t3 & 00100      & 1528032067 & 14         & 232       \\\\\n",
       "\t4 & 00100      & 1780646562 & 13         & 232       \\\\\n",
       "\t5 & 00102      & 1700846235 & 17         & 232       \\\\\n",
       "\t6 & 00103      & 1003019191 & 14         & 232       \\\\\n",
       "\\end{tabular}\n"
      ],
      "text/plain": [
       "  hcpcs_code        npi line_srvc_cnt ccs_code\n",
       "1      00100 1396897104            14      232\n",
       "2      00100 1508884156            12      232\n",
       "3      00100 1528032067            14      232\n",
       "4      00100 1780646562            13      232\n",
       "5      00102 1700846235            17      232\n",
       "6      00103 1003019191            14      232"
      ]
     },
     "metadata": {},
     "output_type": "display_data"
    }
   ],
   "source": [
    "head(doctor_procedure)"
   ]
  },
  {
   "cell_type": "code",
   "execution_count": 77,
   "metadata": {
    "collapsed": false
   },
   "outputs": [
    {
     "name": "stderr",
     "output_type": "stream",
     "text": [
      "Using 'proc_count' as value column. Use 'value.var' to override\n"
     ]
    }
   ],
   "source": [
    "setkey(doctor_procedure, \"npi\",\"ccs_code\")\n",
    "npi_vs_css = doctor_procedure[, .(proc_count = sum(line_srvc_cnt)), by = .(npi,ccs_code)] #pool similar procedures (with identical ccs codes)\n",
    "setkey(npi_vs_css, \"npi\",\"ccs_code\")\n",
    "npi_vs_css= dcast(npi_vs_css, npi ~ ccs_code) #convert data.table from long to wide format (i.e. npi vs. ccs table)"
   ]
  },
  {
   "cell_type": "code",
   "execution_count": 78,
   "metadata": {
    "collapsed": false
   },
   "outputs": [
    {
     "data": {
      "text/html": [
       "<table>\n",
       "<thead><tr><th></th><th scope=col>npi</th><th scope=col>1</th><th scope=col>2</th><th scope=col>3</th><th scope=col>4</th><th scope=col>5</th><th scope=col>6</th><th scope=col>7</th><th scope=col>8</th><th scope=col>9</th><th scope=col>...</th><th scope=col>233</th><th scope=col>234</th><th scope=col>235</th><th scope=col>237</th><th scope=col>239</th><th scope=col>240</th><th scope=col>241</th><th scope=col>242</th><th scope=col>243</th><th scope=col>244</th></tr></thead>\n",
       "<tbody>\n",
       "\t<tr><th scope=row>1</th><td>1003000126</td><td>NA        </td><td>NA        </td><td>NA        </td><td>NA        </td><td>NA        </td><td>NA        </td><td>NA        </td><td>NA        </td><td>NA        </td><td>...       </td><td>NA        </td><td>NA        </td><td>NA        </td><td>NA        </td><td>NA        </td><td>NA        </td><td>NA        </td><td>NA        </td><td>NA        </td><td>NA        </td></tr>\n",
       "\t<tr><th scope=row>2</th><td>1003000134</td><td>NA        </td><td>NA        </td><td>NA        </td><td>NA        </td><td>NA        </td><td>NA        </td><td>NA        </td><td>NA        </td><td>NA        </td><td>...       </td><td>NA        </td><td>7673      </td><td>NA        </td><td>NA        </td><td>NA        </td><td>NA        </td><td>NA        </td><td>NA        </td><td>NA        </td><td>NA        </td></tr>\n",
       "\t<tr><th scope=row>3</th><td>1003000142</td><td>NA        </td><td>NA        </td><td>NA        </td><td>NA        </td><td>NA        </td><td>NA        </td><td>NA        </td><td>NA        </td><td>NA        </td><td>...       </td><td>NA        </td><td>NA        </td><td>NA        </td><td>NA        </td><td>NA        </td><td>NA        </td><td>NA        </td><td>NA        </td><td>NA        </td><td>NA        </td></tr>\n",
       "\t<tr><th scope=row>4</th><td>1003000381</td><td>NA        </td><td>NA        </td><td>NA        </td><td>NA        </td><td>NA        </td><td>NA        </td><td>NA        </td><td>NA        </td><td>NA        </td><td>...       </td><td>NA        </td><td>NA        </td><td>NA        </td><td>NA        </td><td>NA        </td><td>NA        </td><td>NA        </td><td>NA        </td><td>NA        </td><td>NA        </td></tr>\n",
       "\t<tr><th scope=row>5</th><td>1003000407</td><td>NA        </td><td>NA        </td><td>NA        </td><td>NA        </td><td>NA        </td><td>NA        </td><td>NA        </td><td>NA        </td><td>NA        </td><td>...       </td><td>NA        </td><td>NA        </td><td>NA        </td><td>NA        </td><td>NA        </td><td>NA        </td><td>NA        </td><td>NA        </td><td>NA        </td><td>NA        </td></tr>\n",
       "\t<tr><th scope=row>6</th><td>1003000423</td><td>NA        </td><td>NA        </td><td>NA        </td><td>NA        </td><td>NA        </td><td>NA        </td><td>NA        </td><td>NA        </td><td>NA        </td><td>...       </td><td>NA        </td><td>11        </td><td>NA        </td><td>NA        </td><td>NA        </td><td>NA        </td><td>NA        </td><td>NA        </td><td>NA        </td><td>NA        </td></tr>\n",
       "</tbody>\n",
       "</table>\n"
      ],
      "text/latex": [
       "\\begin{tabular}{r|llllllllllllllllllllllllllllllllllllllllllllllllllllllllllllllllllllllllllllllllllllllllllllllllllllllllllllllllllllllllllllllllllllllllllllllllllllllllllllllllllllllllllllllllllllllllllllllllllllllllllllllllllllllllllllllllllll}\n",
       "  & npi & 1 & 2 & 3 & 4 & 5 & 6 & 7 & 8 & 9 & ... & 233 & 234 & 235 & 237 & 239 & 240 & 241 & 242 & 243 & 244\\\\\n",
       "\\hline\n",
       "\t1 & 1003000126 & NA         & NA         & NA         & NA         & NA         & NA         & NA         & NA         & NA         & ...        & NA         & NA         & NA         & NA         & NA         & NA         & NA         & NA         & NA         & NA        \\\\\n",
       "\t2 & 1003000134 & NA         & NA         & NA         & NA         & NA         & NA         & NA         & NA         & NA         & ...        & NA         & 7673       & NA         & NA         & NA         & NA         & NA         & NA         & NA         & NA        \\\\\n",
       "\t3 & 1003000142 & NA         & NA         & NA         & NA         & NA         & NA         & NA         & NA         & NA         & ...        & NA         & NA         & NA         & NA         & NA         & NA         & NA         & NA         & NA         & NA        \\\\\n",
       "\t4 & 1003000381 & NA         & NA         & NA         & NA         & NA         & NA         & NA         & NA         & NA         & ...        & NA         & NA         & NA         & NA         & NA         & NA         & NA         & NA         & NA         & NA        \\\\\n",
       "\t5 & 1003000407 & NA         & NA         & NA         & NA         & NA         & NA         & NA         & NA         & NA         & ...        & NA         & NA         & NA         & NA         & NA         & NA         & NA         & NA         & NA         & NA        \\\\\n",
       "\t6 & 1003000423 & NA         & NA         & NA         & NA         & NA         & NA         & NA         & NA         & NA         & ...        & NA         & 11         & NA         & NA         & NA         & NA         & NA         & NA         & NA         & NA        \\\\\n",
       "\\end{tabular}\n"
      ],
      "text/plain": [
       "         npi  1  2  3  4  5  6  7  8  9 ... 233  234 235 237 239 240 241 242\n",
       "1 1003000126 NA NA NA NA NA NA NA NA NA ...  NA   NA  NA  NA  NA  NA  NA  NA\n",
       "2 1003000134 NA NA NA NA NA NA NA NA NA ...  NA 7673  NA  NA  NA  NA  NA  NA\n",
       "3 1003000142 NA NA NA NA NA NA NA NA NA ...  NA   NA  NA  NA  NA  NA  NA  NA\n",
       "4 1003000381 NA NA NA NA NA NA NA NA NA ...  NA   NA  NA  NA  NA  NA  NA  NA\n",
       "5 1003000407 NA NA NA NA NA NA NA NA NA ...  NA   NA  NA  NA  NA  NA  NA  NA\n",
       "6 1003000423 NA NA NA NA NA NA NA NA NA ...  NA   11  NA  NA  NA  NA  NA  NA\n",
       "  243 244\n",
       "1  NA  NA\n",
       "2  NA  NA\n",
       "3  NA  NA\n",
       "4  NA  NA\n",
       "5  NA  NA\n",
       "6  NA  NA"
      ]
     },
     "metadata": {},
     "output_type": "display_data"
    }
   ],
   "source": [
    "head(npi_vs_css)"
   ]
  },
  {
   "cell_type": "markdown",
   "metadata": {
    "collapsed": true
   },
   "source": [
    "#### Save results"
   ]
  },
  {
   "cell_type": "code",
   "execution_count": 20,
   "metadata": {
    "collapsed": false
   },
   "outputs": [
    {
     "data": {
      "text/plain": [
       "Time difference of 24.39235 secs"
      ]
     },
     "metadata": {},
     "output_type": "display_data"
    }
   ],
   "source": [
    "#csv files:\n",
    "start = Sys.time()\n",
    "# write.csv(physician_info, file = \"physician_info.csv\", row.names=FALSE, na=\"\")\n",
    "# write.csv(conversion_table, file = \"CPT_to_CCS_conversion.csv\", row.names=FALSE, na=\"\")\n",
    "# write.csv(npi_vs_css, file = \"provider_vs_procedures2012.csv\", row.names=FALSE, na=\"\")\n",
    "\n",
    "#Note that write.csv saves numeric hcpcs codes as an arabic number e.g. '102', omiting zero characters in the beginning.\n",
    "#This would cause mismatches later when mapping fixed-length character arrays such as '00102'. \n",
    "#However, R's native data format saves the codes with leading zeros.\n",
    "\n",
    "#R.data file:\n",
    "save(physician_info, conversion_table, npi_vs_css, file='provider_vs_procedures2012.RData')\n",
    "\n",
    "Sys.time()-start"
   ]
  },
  {
   "cell_type": "code",
   "execution_count": null,
   "metadata": {
    "collapsed": false
   },
   "outputs": [],
   "source": []
  },
  {
   "cell_type": "code",
   "execution_count": null,
   "metadata": {
    "collapsed": true
   },
   "outputs": [],
   "source": []
  },
  {
   "cell_type": "code",
   "execution_count": 21,
   "metadata": {
    "collapsed": true
   },
   "outputs": [],
   "source": [
    "rm(list = ls())"
   ]
  },
  {
   "cell_type": "code",
   "execution_count": null,
   "metadata": {
    "collapsed": true
   },
   "outputs": [],
   "source": []
  }
 ],
 "metadata": {
  "anaconda-cloud": {},
  "kernelspec": {
   "display_name": "R",
   "language": "R",
   "name": "ir"
  },
  "language_info": {
   "codemirror_mode": "r",
   "file_extension": ".r",
   "mimetype": "text/x-r-source",
   "name": "R",
   "pygments_lexer": "r",
   "version": "3.3.1"
  }
 },
 "nbformat": 4,
 "nbformat_minor": 0
}
