{
 "cells": [
  {
   "cell_type": "markdown",
   "metadata": {
    "slideshow": {
     "slide_type": "slide"
    }
   },
   "source": [
    "### Explore medical procedures and costs in healthcare claims data (Medicare, 2012)\n",
    "### Part 1: Obtaining and arranging data\n",
    "\n",
    "Janos A. Perge, 08/11/2016\n",
    "\n",
    "Purpose:   \n",
    "1) Access data on the number and cost of medical procedures performed by Medicare providers.   \n",
    "2) Convert HCPCS (or CPT) procedure codes to CCS codes for further analysis.  \n",
    "3) Save data in three spreadsheets: #1-Provider information, #2-CPT-to-CCS conversion table and #3-Number of performed procedures per provider, broken down to different CCS categories (244 different procedure types).   \n",
    "4) Explore and visualize this saved data set by running 'visualize_procedures.ipynb'.\n",
    "    \n",
    "To run this analysis:  \n",
    "-Clone this github repository on your hard drive (git@github.com:jperge/CMS_procedures_per_provider.git)\n",
    "\n",
    "-Get the Medicare-provider-charge data. This is a publicly available file on medical procedures and the associated cost performed by Medicare providers during year 2012. The data is downloadable from CMS:\n",
    "https://www.cms.gov/apps/ama/license.asp?file=http://download.cms.gov/Research-Statistics-Data-and-Systems/Statistics-Trends-and-Reports/Medicare-Provider-Charge-Data/Downloads/Medicare_Provider_Util_Payment_PUF_CY2012_update.zip\n",
    "Visit the url above, accept the CMS disclaimer, download and unzip file (2GB) and place it within the same directory as this script. The data is described in detail in 'Medicare-Physician-and-Other-Supplier-PUF-Methodology.PDF', included in this repository.  \n",
    "\n",
    "-All analyzis is written in R. If you are using RStudio, make sure to manually set the working directory to this source file location (under Session/Set Working Directory/To Source File Location\n",
    "\n",
    "-Note that most of the runtime is spent on opening 2GB of data and dumping it into RAM (~1min on my Win10 machine with core i7 and 8GB RAM) or writing the results to disc (~1 min). The actual processing time of the data on my machine took ~40sec. If you need to run this code repeatedly, uncomment line \"save(physician_data, file=my_data_file)\", which will save the entire CMS spreadsheet into an .RData file. This file is smaller and faster to read than the original data file.  \n",
    "\n",
    "To simplify (or compress) the roughly 9000 procedure codes into 244 categories, I convert HCPCS (or CPT) codes to CCS codes using a conversion table available by HCUP (https://www.hcup-us.ahrq.gov). This table is already downloaded in this repository (2016_ccs_services_procedures.csv), but is also available online with further information on the conversion:  \n",
    "https://www.hcup-us.ahrq.gov/toolssoftware/ccs_svcsproc/ccssvcproc.jsp#info\n",
    "\n",
    "To obtain information on the provider's graduation year, I use a different data source from CMS (https://data.medicare.gov/data/physician-compare) and merge it into this data set using NPI as a cross link. The extracted graduation years are already included in this repository (physician_grad_year.csv). However, if you wish to repeat the process, the source code is in 'obtain_gradyear.ipynb'.\n",
    "\n",
    "Big thanks to Vik Paruchuri for providing example code which got me started on this CMS data set!  (http://www.vikparuchuri.com/blog/exploring-us-healthcare-data/). Further analyses on this data set can be also found on Propublica (https://www.propublica.org/series/examining-medicare)."
   ]
  },
  {
   "cell_type": "markdown",
   "metadata": {
    "slideshow": {
     "slide_type": "slide"
    }
   },
   "source": [
    "#### Obtain R-packages"
   ]
  },
  {
   "cell_type": "code",
   "execution_count": 1,
   "metadata": {
    "collapsed": false,
    "slideshow": {
     "slide_type": "subslide"
    }
   },
   "outputs": [],
   "source": [
    "rm(list=ls())\n",
    "\n",
    "##Set working directory:\n",
    "##If running this script in RStudio:\n",
    "#setwd(dirname(rstudioapi::getActiveDocumentContext()$path))\n",
    "\n",
    "##if running this in base R, try:\n",
    "# File <- \"procedures_by_provider.R\"\n",
    "# Files <- list.files(path=file.path(\"~\"),recursive=T,include.dirs=T)\n",
    "# Path.file <- names(unlist(sapply(Files,grep,pattern=File))[1])\n",
    "# Dir.wd <- dirname(Path.file)\n",
    "# setwd(Dir.wd)\n",
    "\n",
    "packageList = c(\"data.table\",\"stringr\",'plyr')\n",
    "\n",
    "is_installed <- function(mypkg) is.element(mypkg, installed.packages()[,1])\n",
    "\n",
    "load_or_install<-function(package_names)\n",
    "{\n",
    "  for(package_name in package_names)\n",
    "  {\n",
    "    if(!is_installed(package_name))\n",
    "    {\n",
    "      install.packages(package_name,repos=\"http://lib.stat.cmu.edu/R/CRAN\")\n",
    "    }\n",
    "    options(java.parameters = \"-Xmx8g\")\n",
    "    library(package_name,character.only=TRUE,quietly=TRUE,verbose=FALSE)\n",
    "  }\n",
    "}\n",
    "\n",
    "load_or_install(packageList)"
   ]
  },
  {
   "cell_type": "markdown",
   "metadata": {
    "slideshow": {
     "slide_type": "slide"
    }
   },
   "source": [
    "#### Access data"
   ]
  },
  {
   "cell_type": "code",
   "execution_count": 15,
   "metadata": {
    "collapsed": false,
    "slideshow": {
     "slide_type": "skip"
    }
   },
   "outputs": [
    {
     "data": {
      "text/plain": [
       "Time difference of 47.75952 secs"
      ]
     },
     "metadata": {},
     "output_type": "display_data"
    }
   ],
   "source": [
    "cms_filename = \"Medicare_Provider_Util_Payment_PUF_CY2012.txt\" #data is also available on CMS for years 2013 and 2014\n",
    "my_data_file = \"procedures2012.RData\"\n",
    "\n",
    "start = Sys.time()\n",
    "#open data from tabular file saved on HD or from Rdatafile:\n",
    "if(file.exists(my_data_file) && !exists(\"physician_data\")){\n",
    "  load(my_data_file)\n",
    "} else if(!file.exists(my_data_file)) {\n",
    "  #physician_data = read.delim(cms_filename, stringsAsFactors=FALSE)\n",
    "  physician_data = data.frame(fread(cms_filename)) #This second way of reading data is ~5 times faster!\n",
    "  physician_data = physician_data[2:nrow(physician_data),]\n",
    "  colnames(physician_data) = tolower(colnames(physician_data))\n",
    "\n",
    "  # save(physician_data, file=my_data_file)\n",
    "}\n",
    "# physician_data = data.table(physician_data)\n",
    "    \n",
    "Sys.time()-start"
   ]
  },
  {
   "cell_type": "code",
   "execution_count": 16,
   "metadata": {
    "collapsed": false,
    "scrolled": false,
    "slideshow": {
     "slide_type": "slide"
    }
   },
   "outputs": [
    {
     "data": {
      "text/html": [
       "<table>\n",
       "<thead><tr><th></th><th scope=col>npi</th><th scope=col>nppes_provider_last_org_name</th><th scope=col>nppes_provider_first_name</th><th scope=col>nppes_provider_mi</th><th scope=col>nppes_credentials</th><th scope=col>nppes_provider_gender</th><th scope=col>nppes_entity_code</th><th scope=col>nppes_provider_street1</th><th scope=col>nppes_provider_street2</th><th scope=col>nppes_provider_city</th><th scope=col>...</th><th scope=col>hcpcs_drug_indicator</th><th scope=col>line_srvc_cnt</th><th scope=col>bene_unique_cnt</th><th scope=col>bene_day_srvc_cnt</th><th scope=col>average_medicare_allowed_amt</th><th scope=col>stdev_medicare_allowed_amt</th><th scope=col>average_submitted_chrg_amt</th><th scope=col>stdev_submitted_chrg_amt</th><th scope=col>average_medicare_payment_amt</th><th scope=col>stdev_medicare_payment_amt</th></tr></thead>\n",
       "<tbody>\n",
       "\t<tr><th scope=row>2</th><td>1003000126  </td><td>ENKESHAFI   </td><td>ARDALAN     </td><td>            </td><td>M.D.        </td><td>M           </td><td>I           </td><td>900 SETON DR</td><td>            </td><td>CUMBERLAND  </td><td>...         </td><td>N           </td><td>115         </td><td>112         </td><td>115         </td><td>135.25      </td><td>0           </td><td>199         </td><td>0           </td><td>108.11565217</td><td>0.9005883395</td></tr>\n",
       "\t<tr><th scope=row>3</th><td>1003000126  </td><td>ENKESHAFI   </td><td>ARDALAN     </td><td>            </td><td>M.D.        </td><td>M           </td><td>I           </td><td>900 SETON DR</td><td>            </td><td>CUMBERLAND  </td><td>...         </td><td>N           </td><td>93          </td><td>88          </td><td>93          </td><td>198.59      </td><td>0           </td><td>291         </td><td>9.5916630466</td><td>158.87      </td><td>0           </td></tr>\n",
       "\t<tr><th scope=row>4</th><td>1003000126  </td><td>ENKESHAFI   </td><td>ARDALAN     </td><td>            </td><td>M.D.        </td><td>M           </td><td>I           </td><td>900 SETON DR</td><td>            </td><td>CUMBERLAND  </td><td>...         </td><td>N           </td><td>111         </td><td>83          </td><td>111         </td><td>38.75       </td><td>0           </td><td>58          </td><td>0           </td><td>30.720720721</td><td>2.9291057922</td></tr>\n",
       "\t<tr><th scope=row>5</th><td>1003000126  </td><td>ENKESHAFI   </td><td>ARDALAN     </td><td>            </td><td>M.D.        </td><td>M           </td><td>I           </td><td>900 SETON DR</td><td>            </td><td>CUMBERLAND  </td><td>...         </td><td>N           </td><td>544         </td><td>295         </td><td>544         </td><td>70.95       </td><td>0           </td><td>105         </td><td>0           </td><td>56.655661765</td><td>2.4313271619</td></tr>\n",
       "\t<tr><th scope=row>6</th><td>1003000126  </td><td>ENKESHAFI   </td><td>ARDALAN     </td><td>            </td><td>M.D.        </td><td>M           </td><td>I           </td><td>900 SETON DR</td><td>            </td><td>CUMBERLAND  </td><td>...         </td><td>N           </td><td>75          </td><td>55          </td><td>75          </td><td>101.74      </td><td>0           </td><td>150         </td><td>0           </td><td>81.39       </td><td>0           </td></tr>\n",
       "\t<tr><th scope=row>7</th><td>1003000126  </td><td>ENKESHAFI   </td><td>ARDALAN     </td><td>            </td><td>M.D.        </td><td>M           </td><td>I           </td><td>900 SETON DR</td><td>            </td><td>CUMBERLAND  </td><td>...         </td><td>N           </td><td>95          </td><td>95          </td><td>95          </td><td>71.06       </td><td>0           </td><td>104         </td><td>0           </td><td>55.768842105</td><td>7.4155003896</td></tr>\n",
       "</tbody>\n",
       "</table>\n"
      ],
      "text/latex": [
       "\\begin{tabular}{r|llllllllllllllllllllllllllll}\n",
       "  & npi & nppes\\_provider\\_last\\_org\\_name & nppes\\_provider\\_first\\_name & nppes\\_provider\\_mi & nppes\\_credentials & nppes\\_provider\\_gender & nppes\\_entity\\_code & nppes\\_provider\\_street1 & nppes\\_provider\\_street2 & nppes\\_provider\\_city & ... & hcpcs\\_drug\\_indicator & line\\_srvc\\_cnt & bene\\_unique\\_cnt & bene\\_day\\_srvc\\_cnt & average\\_medicare\\_allowed\\_amt & stdev\\_medicare\\_allowed\\_amt & average\\_submitted\\_chrg\\_amt & stdev\\_submitted\\_chrg\\_amt & average\\_medicare\\_payment\\_amt & stdev\\_medicare\\_payment\\_amt\\\\\n",
       "\\hline\n",
       "\t2 & 1003000126   & ENKESHAFI    & ARDALAN      &              & M.D.         & M            & I            & 900 SETON DR &              & CUMBERLAND   & ...          & N            & 115          & 112          & 115          & 135.25       & 0            & 199          & 0            & 108.11565217 & 0.9005883395\\\\\n",
       "\t3 & 1003000126   & ENKESHAFI    & ARDALAN      &              & M.D.         & M            & I            & 900 SETON DR &              & CUMBERLAND   & ...          & N            & 93           & 88           & 93           & 198.59       & 0            & 291          & 9.5916630466 & 158.87       & 0           \\\\\n",
       "\t4 & 1003000126   & ENKESHAFI    & ARDALAN      &              & M.D.         & M            & I            & 900 SETON DR &              & CUMBERLAND   & ...          & N            & 111          & 83           & 111          & 38.75        & 0            & 58           & 0            & 30.720720721 & 2.9291057922\\\\\n",
       "\t5 & 1003000126   & ENKESHAFI    & ARDALAN      &              & M.D.         & M            & I            & 900 SETON DR &              & CUMBERLAND   & ...          & N            & 544          & 295          & 544          & 70.95        & 0            & 105          & 0            & 56.655661765 & 2.4313271619\\\\\n",
       "\t6 & 1003000126   & ENKESHAFI    & ARDALAN      &              & M.D.         & M            & I            & 900 SETON DR &              & CUMBERLAND   & ...          & N            & 75           & 55           & 75           & 101.74       & 0            & 150          & 0            & 81.39        & 0           \\\\\n",
       "\t7 & 1003000126   & ENKESHAFI    & ARDALAN      &              & M.D.         & M            & I            & 900 SETON DR &              & CUMBERLAND   & ...          & N            & 95           & 95           & 95           & 71.06        & 0            & 104          & 0            & 55.768842105 & 7.4155003896\\\\\n",
       "\\end{tabular}\n"
      ],
      "text/plain": [
       "         npi nppes_provider_last_org_name nppes_provider_first_name\n",
       "2 1003000126                    ENKESHAFI                   ARDALAN\n",
       "3 1003000126                    ENKESHAFI                   ARDALAN\n",
       "4 1003000126                    ENKESHAFI                   ARDALAN\n",
       "5 1003000126                    ENKESHAFI                   ARDALAN\n",
       "6 1003000126                    ENKESHAFI                   ARDALAN\n",
       "7 1003000126                    ENKESHAFI                   ARDALAN\n",
       "  nppes_provider_mi nppes_credentials nppes_provider_gender nppes_entity_code\n",
       "2                                M.D.                     M                 I\n",
       "3                                M.D.                     M                 I\n",
       "4                                M.D.                     M                 I\n",
       "5                                M.D.                     M                 I\n",
       "6                                M.D.                     M                 I\n",
       "7                                M.D.                     M                 I\n",
       "  nppes_provider_street1 nppes_provider_street2 nppes_provider_city ...\n",
       "2           900 SETON DR                                 CUMBERLAND ...\n",
       "3           900 SETON DR                                 CUMBERLAND ...\n",
       "4           900 SETON DR                                 CUMBERLAND ...\n",
       "5           900 SETON DR                                 CUMBERLAND ...\n",
       "6           900 SETON DR                                 CUMBERLAND ...\n",
       "7           900 SETON DR                                 CUMBERLAND ...\n",
       "  hcpcs_drug_indicator line_srvc_cnt bene_unique_cnt bene_day_srvc_cnt\n",
       "2                    N           115             112               115\n",
       "3                    N            93              88                93\n",
       "4                    N           111              83               111\n",
       "5                    N           544             295               544\n",
       "6                    N            75              55                75\n",
       "7                    N            95              95                95\n",
       "  average_medicare_allowed_amt stdev_medicare_allowed_amt\n",
       "2                       135.25                          0\n",
       "3                       198.59                          0\n",
       "4                        38.75                          0\n",
       "5                        70.95                          0\n",
       "6                       101.74                          0\n",
       "7                        71.06                          0\n",
       "  average_submitted_chrg_amt stdev_submitted_chrg_amt\n",
       "2                        199                 0.000000\n",
       "3                        291                 9.591663\n",
       "4                         58                 0.000000\n",
       "5                        105                 0.000000\n",
       "6                        150                 0.000000\n",
       "7                        104                 0.000000\n",
       "  average_medicare_payment_amt stdev_medicare_payment_amt\n",
       "2                    108.11565                  0.9005883\n",
       "3                    158.87000                  0.0000000\n",
       "4                     30.72072                  2.9291058\n",
       "5                     56.65566                  2.4313272\n",
       "6                     81.39000                  0.0000000\n",
       "7                     55.76884                  7.4155004"
      ]
     },
     "metadata": {},
     "output_type": "display_data"
    }
   ],
   "source": [
    "head(physician_data)"
   ]
  },
  {
   "cell_type": "code",
   "execution_count": 17,
   "metadata": {
    "collapsed": false,
    "slideshow": {
     "slide_type": "slide"
    }
   },
   "outputs": [
    {
     "data": {
      "text/html": [
       "<ol class=list-inline>\n",
       "\t<li>\"npi\"</li>\n",
       "\t<li>\"nppes_provider_last_org_name\"</li>\n",
       "\t<li>\"nppes_provider_first_name\"</li>\n",
       "\t<li>\"nppes_provider_mi\"</li>\n",
       "\t<li>\"nppes_credentials\"</li>\n",
       "\t<li>\"nppes_provider_gender\"</li>\n",
       "\t<li>\"nppes_entity_code\"</li>\n",
       "\t<li>\"nppes_provider_street1\"</li>\n",
       "\t<li>\"nppes_provider_street2\"</li>\n",
       "\t<li>\"nppes_provider_city\"</li>\n",
       "\t<li>\"nppes_provider_zip\"</li>\n",
       "\t<li>\"nppes_provider_state\"</li>\n",
       "\t<li>\"nppes_provider_country\"</li>\n",
       "\t<li>\"provider_type\"</li>\n",
       "\t<li>\"medicare_participation_indicator\"</li>\n",
       "\t<li>\"place_of_service\"</li>\n",
       "\t<li>\"hcpcs_code\"</li>\n",
       "\t<li>\"hcpcs_description\"</li>\n",
       "\t<li>\"hcpcs_drug_indicator\"</li>\n",
       "\t<li>\"line_srvc_cnt\"</li>\n",
       "\t<li>\"bene_unique_cnt\"</li>\n",
       "\t<li>\"bene_day_srvc_cnt\"</li>\n",
       "\t<li>\"average_medicare_allowed_amt\"</li>\n",
       "\t<li>\"stdev_medicare_allowed_amt\"</li>\n",
       "\t<li>\"average_submitted_chrg_amt\"</li>\n",
       "\t<li>\"stdev_submitted_chrg_amt\"</li>\n",
       "\t<li>\"average_medicare_payment_amt\"</li>\n",
       "\t<li>\"stdev_medicare_payment_amt\"</li>\n",
       "</ol>\n"
      ],
      "text/latex": [
       "\\begin{enumerate*}\n",
       "\\item \"npi\"\n",
       "\\item \"nppes\\_provider\\_last\\_org\\_name\"\n",
       "\\item \"nppes\\_provider\\_first\\_name\"\n",
       "\\item \"nppes\\_provider\\_mi\"\n",
       "\\item \"nppes\\_credentials\"\n",
       "\\item \"nppes\\_provider\\_gender\"\n",
       "\\item \"nppes\\_entity\\_code\"\n",
       "\\item \"nppes\\_provider\\_street1\"\n",
       "\\item \"nppes\\_provider\\_street2\"\n",
       "\\item \"nppes\\_provider\\_city\"\n",
       "\\item \"nppes\\_provider\\_zip\"\n",
       "\\item \"nppes\\_provider\\_state\"\n",
       "\\item \"nppes\\_provider\\_country\"\n",
       "\\item \"provider\\_type\"\n",
       "\\item \"medicare\\_participation\\_indicator\"\n",
       "\\item \"place\\_of\\_service\"\n",
       "\\item \"hcpcs\\_code\"\n",
       "\\item \"hcpcs\\_description\"\n",
       "\\item \"hcpcs\\_drug\\_indicator\"\n",
       "\\item \"line\\_srvc\\_cnt\"\n",
       "\\item \"bene\\_unique\\_cnt\"\n",
       "\\item \"bene\\_day\\_srvc\\_cnt\"\n",
       "\\item \"average\\_medicare\\_allowed\\_amt\"\n",
       "\\item \"stdev\\_medicare\\_allowed\\_amt\"\n",
       "\\item \"average\\_submitted\\_chrg\\_amt\"\n",
       "\\item \"stdev\\_submitted\\_chrg\\_amt\"\n",
       "\\item \"average\\_medicare\\_payment\\_amt\"\n",
       "\\item \"stdev\\_medicare\\_payment\\_amt\"\n",
       "\\end{enumerate*}\n"
      ],
      "text/markdown": [
       "1. \"npi\"\n",
       "2. \"nppes_provider_last_org_name\"\n",
       "3. \"nppes_provider_first_name\"\n",
       "4. \"nppes_provider_mi\"\n",
       "5. \"nppes_credentials\"\n",
       "6. \"nppes_provider_gender\"\n",
       "7. \"nppes_entity_code\"\n",
       "8. \"nppes_provider_street1\"\n",
       "9. \"nppes_provider_street2\"\n",
       "10. \"nppes_provider_city\"\n",
       "11. \"nppes_provider_zip\"\n",
       "12. \"nppes_provider_state\"\n",
       "13. \"nppes_provider_country\"\n",
       "14. \"provider_type\"\n",
       "15. \"medicare_participation_indicator\"\n",
       "16. \"place_of_service\"\n",
       "17. \"hcpcs_code\"\n",
       "18. \"hcpcs_description\"\n",
       "19. \"hcpcs_drug_indicator\"\n",
       "20. \"line_srvc_cnt\"\n",
       "21. \"bene_unique_cnt\"\n",
       "22. \"bene_day_srvc_cnt\"\n",
       "23. \"average_medicare_allowed_amt\"\n",
       "24. \"stdev_medicare_allowed_amt\"\n",
       "25. \"average_submitted_chrg_amt\"\n",
       "26. \"stdev_submitted_chrg_amt\"\n",
       "27. \"average_medicare_payment_amt\"\n",
       "28. \"stdev_medicare_payment_amt\"\n",
       "\n",
       "\n"
      ],
      "text/plain": [
       " [1] \"npi\"                              \"nppes_provider_last_org_name\"    \n",
       " [3] \"nppes_provider_first_name\"        \"nppes_provider_mi\"               \n",
       " [5] \"nppes_credentials\"                \"nppes_provider_gender\"           \n",
       " [7] \"nppes_entity_code\"                \"nppes_provider_street1\"          \n",
       " [9] \"nppes_provider_street2\"           \"nppes_provider_city\"             \n",
       "[11] \"nppes_provider_zip\"               \"nppes_provider_state\"            \n",
       "[13] \"nppes_provider_country\"           \"provider_type\"                   \n",
       "[15] \"medicare_participation_indicator\" \"place_of_service\"                \n",
       "[17] \"hcpcs_code\"                       \"hcpcs_description\"               \n",
       "[19] \"hcpcs_drug_indicator\"             \"line_srvc_cnt\"                   \n",
       "[21] \"bene_unique_cnt\"                  \"bene_day_srvc_cnt\"               \n",
       "[23] \"average_medicare_allowed_amt\"     \"stdev_medicare_allowed_amt\"      \n",
       "[25] \"average_submitted_chrg_amt\"       \"stdev_submitted_chrg_amt\"        \n",
       "[27] \"average_medicare_payment_amt\"     \"stdev_medicare_payment_amt\"      "
      ]
     },
     "metadata": {},
     "output_type": "display_data"
    }
   ],
   "source": [
    "colnames(physician_data)"
   ]
  },
  {
   "cell_type": "code",
   "execution_count": 18,
   "metadata": {
    "collapsed": false,
    "slideshow": {
     "slide_type": "skip"
    }
   },
   "outputs": [],
   "source": [
    "#physician data is large and clogs memory. Therefore I take what I need and clear the rest from the workspace:\n",
    "descriptor_vars = c(\"npi\", \"nppes_provider_last_org_name\", \"nppes_provider_first_name\", \"nppes_provider_mi\", \n",
    "                    \"nppes_credentials\", \"nppes_provider_gender\", \"nppes_entity_code\", \"nppes_provider_street1\", \n",
    "                    \"nppes_provider_street2\", \"nppes_provider_city\", \"nppes_provider_zip\", \"nppes_provider_state\", \n",
    "                    \"nppes_provider_country\", \"provider_type\", \"medicare_participation_indicator\", \"place_of_service\")\n",
    "\n",
    "physician_info   = physician_data[, descriptor_vars]\n",
    "doctor_procedure = physician_data[, c('npi', 'hcpcs_code','line_srvc_cnt',\"bene_unique_cnt\", \"bene_day_srvc_cnt\", \n",
    "                                      \"average_medicare_allowed_amt\", \"stdev_medicare_allowed_amt\", \n",
    "                                      \"average_submitted_chrg_amt\", \"stdev_submitted_chrg_amt\", \"average_medicare_payment_amt\",\n",
    "                                      \"stdev_medicare_payment_amt\")]\n",
    "conversion_table = physician_data[, c('hcpcs_code', 'hcpcs_description')]\n",
    "rm(physician_data)"
   ]
  },
  {
   "cell_type": "markdown",
   "metadata": {
    "slideshow": {
     "slide_type": "slide"
    }
   },
   "source": [
    "#### Spreadsheet #1: Doctor's parameters such as NPI, Name, state, gender, etc..."
   ]
  },
  {
   "cell_type": "code",
   "execution_count": 45,
   "metadata": {
    "collapsed": false,
    "slideshow": {
     "slide_type": "slide"
    }
   },
   "outputs": [
    {
     "data": {
      "text/html": [
       "<table>\n",
       "<thead><tr><th></th><th scope=col>npi</th><th scope=col>medical.school.name</th><th scope=col>graduation.year</th></tr></thead>\n",
       "<tbody>\n",
       "\t<tr><th scope=row>1</th><td>1003000126</td><td>OTHER     </td><td>1994      </td></tr>\n",
       "\t<tr><th scope=row>2</th><td>1003000134                                </td><td>UNIVERSITY OF KENTUCKY COLLEGE OF MEDICINE</td><td>2003                                      </td></tr>\n",
       "\t<tr><th scope=row>3</th><td>1003000142</td><td>OTHER     </td><td>1999      </td></tr>\n",
       "\t<tr><th scope=row>4</th><td>1003000407                                  </td><td>PHILADELPHIA COLLEGE OF OSTEOPATHIC MEDICINE</td><td>2003                                        </td></tr>\n",
       "\t<tr><th scope=row>5</th><td>1003000415</td><td>OTHER     </td><td>2005      </td></tr>\n",
       "\t<tr><th scope=row>6</th><td>1003000423            </td><td>TOLEDO MEDICAL COLLEGE</td><td>2007                  </td></tr>\n",
       "</tbody>\n",
       "</table>\n"
      ],
      "text/latex": [
       "\\begin{tabular}{r|lll}\n",
       "  & npi & medical.school.name & graduation.year\\\\\n",
       "\\hline\n",
       "\t1 & 1003000126 & OTHER      & 1994      \\\\\n",
       "\t2 & 1003000134                                 & UNIVERSITY OF KENTUCKY COLLEGE OF MEDICINE & 2003                                      \\\\\n",
       "\t3 & 1003000142 & OTHER      & 1999      \\\\\n",
       "\t4 & 1003000407                                   & PHILADELPHIA COLLEGE OF OSTEOPATHIC MEDICINE & 2003                                        \\\\\n",
       "\t5 & 1003000415 & OTHER      & 2005      \\\\\n",
       "\t6 & 1003000423             & TOLEDO MEDICAL COLLEGE & 2007                  \\\\\n",
       "\\end{tabular}\n"
      ],
      "text/plain": [
       "         npi                          medical.school.name graduation.year\n",
       "1 1003000126                                        OTHER            1994\n",
       "2 1003000134   UNIVERSITY OF KENTUCKY COLLEGE OF MEDICINE            2003\n",
       "3 1003000142                                        OTHER            1999\n",
       "4 1003000407 PHILADELPHIA COLLEGE OF OSTEOPATHIC MEDICINE            2003\n",
       "5 1003000415                                        OTHER            2005\n",
       "6 1003000423                       TOLEDO MEDICAL COLLEGE            2007"
      ]
     },
     "metadata": {},
     "output_type": "display_data"
    }
   ],
   "source": [
    "#bring in physician years of expertise:\n",
    "npi_file = 'physician_grad_year.csv'\n",
    "npi_frame = data.frame(fread(npi_file))\n",
    "colnames(npi_frame) = tolower(colnames(npi_frame))\n",
    "head(npi_frame)"
   ]
  },
  {
   "cell_type": "code",
   "execution_count": 46,
   "metadata": {
    "collapsed": false
   },
   "outputs": [],
   "source": [
    "physician_info = data.table(physician_info)\n",
    "setkey(physician_info, npi)\n",
    "physician_info = unique(physician_info)\n",
    "physician_info = merge(physician_info, npi_frame, all.x=TRUE) #left outer join"
   ]
  },
  {
   "cell_type": "code",
   "execution_count": 47,
   "metadata": {
    "collapsed": false,
    "scrolled": true
   },
   "outputs": [
    {
     "data": {
      "text/html": [
       "<table>\n",
       "<thead><tr><th></th><th scope=col>npi</th><th scope=col>nppes_provider_last_org_name</th><th scope=col>nppes_provider_first_name</th><th scope=col>nppes_provider_mi</th><th scope=col>nppes_credentials</th><th scope=col>nppes_provider_gender</th><th scope=col>nppes_entity_code</th><th scope=col>nppes_provider_street1</th><th scope=col>nppes_provider_street2</th><th scope=col>nppes_provider_city</th><th scope=col>nppes_provider_zip</th><th scope=col>nppes_provider_state</th><th scope=col>nppes_provider_country</th><th scope=col>provider_type</th><th scope=col>medicare_participation_indicator</th><th scope=col>place_of_service</th><th scope=col>medical.school.name</th><th scope=col>graduation.year</th></tr></thead>\n",
       "<tbody>\n",
       "\t<tr><th scope=row>1</th><td>1003000126       </td><td>ENKESHAFI        </td><td>ARDALAN          </td><td>                 </td><td>M.D.             </td><td>M                </td><td>I                </td><td>900 SETON DR     </td><td>                 </td><td>CUMBERLAND       </td><td>215021854        </td><td>MD               </td><td>US               </td><td>Internal Medicine</td><td>Y                </td><td>F                </td><td>OTHER            </td><td>1994             </td></tr>\n",
       "\t<tr><th scope=row>2</th><td>1003000134                                </td><td>CIBULL                                    </td><td>THOMAS                                    </td><td>L                                         </td><td>M.D.                                      </td><td>M                                         </td><td>I                                         </td><td>2650 RIDGE AVE                            </td><td>EVANSTON HOSPITAL                         </td><td>EVANSTON                                  </td><td>602011718                                 </td><td>IL                                        </td><td>US                                        </td><td>Pathology                                 </td><td>Y                                         </td><td>F                                         </td><td>UNIVERSITY OF KENTUCKY COLLEGE OF MEDICINE</td><td>2003                                      </td></tr>\n",
       "\t<tr><th scope=row>3</th><td>1003000142                </td><td>KHALIL                    </td><td>RASHID                    </td><td>                          </td><td>M.D.                      </td><td>M                         </td><td>I                         </td><td>4126 N HOLLAND SYLVANIA RD</td><td>SUITE 220                 </td><td>TOLEDO                    </td><td>436233536                 </td><td>OH                        </td><td>US                        </td><td>Anesthesiology            </td><td>Y                         </td><td>O                         </td><td>OTHER                     </td><td>1999                      </td></tr>\n",
       "\t<tr><th scope=row>4</th><td>1003000381         </td><td>BRAGANZA           </td><td>LUTHER             </td><td>Q                  </td><td>PT                 </td><td>M                  </td><td>I                  </td><td>134 N OLD DIXIE HWY</td><td>                   </td><td>LADY LAKE          </td><td>321594347          </td><td>FL                 </td><td>US                 </td><td>Physical Therapist </td><td>Y                  </td><td>O                  </td><td>NA                 </td><td>NA                 </td></tr>\n",
       "\t<tr><th scope=row>5</th><td>1003000407                                  </td><td>GIRARDI                                     </td><td>DAVID                                       </td><td>J                                           </td><td>D.O.                                        </td><td>M                                           </td><td>I                                           </td><td>456 MAGEE AVE                               </td><td>                                            </td><td>PATTON                                      </td><td>166681219                                   </td><td>PA                                          </td><td>US                                          </td><td>Family Practice                             </td><td>Y                                           </td><td>F                                           </td><td>PHILADELPHIA COLLEGE OF OSTEOPATHIC MEDICINE</td><td>2003                                        </td></tr>\n",
       "\t<tr><th scope=row>6</th><td>1003000423            </td><td>VELOTTA               </td><td>JENNIFER              </td><td>A                     </td><td>M.D.                  </td><td>F                     </td><td>I                     </td><td>11100 EUCLID AVE      </td><td>                      </td><td>CLEVELAND             </td><td>441061716             </td><td>OH                    </td><td>US                    </td><td>Obstetrics/Gynecology </td><td>Y                     </td><td>O                     </td><td>TOLEDO MEDICAL COLLEGE</td><td>2007                  </td></tr>\n",
       "</tbody>\n",
       "</table>\n"
      ],
      "text/latex": [
       "\\begin{tabular}{r|llllllllllllllllll}\n",
       "  & npi & nppes\\_provider\\_last\\_org\\_name & nppes\\_provider\\_first\\_name & nppes\\_provider\\_mi & nppes\\_credentials & nppes\\_provider\\_gender & nppes\\_entity\\_code & nppes\\_provider\\_street1 & nppes\\_provider\\_street2 & nppes\\_provider\\_city & nppes\\_provider\\_zip & nppes\\_provider\\_state & nppes\\_provider\\_country & provider\\_type & medicare\\_participation\\_indicator & place\\_of\\_service & medical.school.name & graduation.year\\\\\n",
       "\\hline\n",
       "\t1 & 1003000126        & ENKESHAFI         & ARDALAN           &                   & M.D.              & M                 & I                 & 900 SETON DR      &                   & CUMBERLAND        & 215021854         & MD                & US                & Internal Medicine & Y                 & F                 & OTHER             & 1994             \\\\\n",
       "\t2 & 1003000134                                 & CIBULL                                     & THOMAS                                     & L                                          & M.D.                                       & M                                          & I                                          & 2650 RIDGE AVE                             & EVANSTON HOSPITAL                          & EVANSTON                                   & 602011718                                  & IL                                         & US                                         & Pathology                                  & Y                                          & F                                          & UNIVERSITY OF KENTUCKY COLLEGE OF MEDICINE & 2003                                      \\\\\n",
       "\t3 & 1003000142                 & KHALIL                     & RASHID                     &                            & M.D.                       & M                          & I                          & 4126 N HOLLAND SYLVANIA RD & SUITE 220                  & TOLEDO                     & 436233536                  & OH                         & US                         & Anesthesiology             & Y                          & O                          & OTHER                      & 1999                      \\\\\n",
       "\t4 & 1003000381          & BRAGANZA            & LUTHER              & Q                   & PT                  & M                   & I                   & 134 N OLD DIXIE HWY &                     & LADY LAKE           & 321594347           & FL                  & US                  & Physical Therapist  & Y                   & O                   & NA                  & NA                 \\\\\n",
       "\t5 & 1003000407                                   & GIRARDI                                      & DAVID                                        & J                                            & D.O.                                         & M                                            & I                                            & 456 MAGEE AVE                                &                                              & PATTON                                       & 166681219                                    & PA                                           & US                                           & Family Practice                              & Y                                            & F                                            & PHILADELPHIA COLLEGE OF OSTEOPATHIC MEDICINE & 2003                                        \\\\\n",
       "\t6 & 1003000423             & VELOTTA                & JENNIFER               & A                      & M.D.                   & F                      & I                      & 11100 EUCLID AVE       &                        & CLEVELAND              & 441061716              & OH                     & US                     & Obstetrics/Gynecology  & Y                      & O                      & TOLEDO MEDICAL COLLEGE & 2007                  \\\\\n",
       "\\end{tabular}\n"
      ],
      "text/plain": [
       "         npi nppes_provider_last_org_name nppes_provider_first_name\n",
       "1 1003000126                    ENKESHAFI                   ARDALAN\n",
       "2 1003000134                       CIBULL                    THOMAS\n",
       "3 1003000142                       KHALIL                    RASHID\n",
       "4 1003000381                     BRAGANZA                    LUTHER\n",
       "5 1003000407                      GIRARDI                     DAVID\n",
       "6 1003000423                      VELOTTA                  JENNIFER\n",
       "  nppes_provider_mi nppes_credentials nppes_provider_gender nppes_entity_code\n",
       "1                                M.D.                     M                 I\n",
       "2                 L              M.D.                     M                 I\n",
       "3                                M.D.                     M                 I\n",
       "4                 Q                PT                     M                 I\n",
       "5                 J              D.O.                     M                 I\n",
       "6                 A              M.D.                     F                 I\n",
       "      nppes_provider_street1 nppes_provider_street2 nppes_provider_city\n",
       "1               900 SETON DR                                 CUMBERLAND\n",
       "2             2650 RIDGE AVE      EVANSTON HOSPITAL            EVANSTON\n",
       "3 4126 N HOLLAND SYLVANIA RD              SUITE 220              TOLEDO\n",
       "4        134 N OLD DIXIE HWY                                  LADY LAKE\n",
       "5              456 MAGEE AVE                                     PATTON\n",
       "6           11100 EUCLID AVE                                  CLEVELAND\n",
       "  nppes_provider_zip nppes_provider_state nppes_provider_country\n",
       "1          215021854                   MD                     US\n",
       "2          602011718                   IL                     US\n",
       "3          436233536                   OH                     US\n",
       "4          321594347                   FL                     US\n",
       "5          166681219                   PA                     US\n",
       "6          441061716                   OH                     US\n",
       "          provider_type medicare_participation_indicator place_of_service\n",
       "1     Internal Medicine                                Y                F\n",
       "2             Pathology                                Y                F\n",
       "3        Anesthesiology                                Y                O\n",
       "4    Physical Therapist                                Y                O\n",
       "5       Family Practice                                Y                F\n",
       "6 Obstetrics/Gynecology                                Y                O\n",
       "                           medical.school.name graduation.year\n",
       "1                                        OTHER            1994\n",
       "2   UNIVERSITY OF KENTUCKY COLLEGE OF MEDICINE            2003\n",
       "3                                        OTHER            1999\n",
       "4                                         <NA>              NA\n",
       "5 PHILADELPHIA COLLEGE OF OSTEOPATHIC MEDICINE            2003\n",
       "6                       TOLEDO MEDICAL COLLEGE            2007"
      ]
     },
     "metadata": {},
     "output_type": "display_data"
    }
   ],
   "source": [
    "head(physician_info)"
   ]
  },
  {
   "cell_type": "code",
   "execution_count": 72,
   "metadata": {
    "collapsed": false
   },
   "outputs": [
    {
     "data": {
      "text/html": [
       "<table>\n",
       "<thead><tr><th></th><th scope=col>npi</th><th scope=col>nppes_provider_last_org_name</th><th scope=col>nppes_provider_first_name</th><th scope=col>nppes_provider_mi</th><th scope=col>nppes_credentials</th><th scope=col>nppes_provider_gender</th><th scope=col>nppes_entity_code</th><th scope=col>nppes_provider_street1</th><th scope=col>nppes_provider_street2</th><th scope=col>nppes_provider_city</th><th scope=col>nppes_provider_zip</th><th scope=col>nppes_provider_state</th><th scope=col>nppes_provider_country</th><th scope=col>provider_type</th><th scope=col>medicare_participation_indicator</th><th scope=col>place_of_service</th><th scope=col>medical.school.name</th><th scope=col>graduation.year</th></tr></thead>\n",
       "<tbody>\n",
       "\t<tr><th scope=row>1</th><td>1023022522                         </td><td>CHANG                              </td><td>AMY                                </td><td>S                                  </td><td>MD                                 </td><td>F                                  </td><td>I                                  </td><td>31 ROCHE BROS WAY                  </td><td>SUITE 200                          </td><td>NORTH EASTON                       </td><td>023561032                          </td><td>MA                                 </td><td>US                                 </td><td>Dermatology                        </td><td>Y                                  </td><td>O                                  </td><td>TUFTS UNIVERSITY SCHOOL OF MEDICINE</td><td>2000                               </td></tr>\n",
       "</tbody>\n",
       "</table>\n"
      ],
      "text/latex": [
       "\\begin{tabular}{r|llllllllllllllllll}\n",
       "  & npi & nppes\\_provider\\_last\\_org\\_name & nppes\\_provider\\_first\\_name & nppes\\_provider\\_mi & nppes\\_credentials & nppes\\_provider\\_gender & nppes\\_entity\\_code & nppes\\_provider\\_street1 & nppes\\_provider\\_street2 & nppes\\_provider\\_city & nppes\\_provider\\_zip & nppes\\_provider\\_state & nppes\\_provider\\_country & provider\\_type & medicare\\_participation\\_indicator & place\\_of\\_service & medical.school.name & graduation.year\\\\\n",
       "\\hline\n",
       "\t1 & 1023022522                          & CHANG                               & AMY                                 & S                                   & MD                                  & F                                   & I                                   & 31 ROCHE BROS WAY                   & SUITE 200                           & NORTH EASTON                        & 023561032                           & MA                                  & US                                  & Dermatology                         & Y                                   & O                                   & TUFTS UNIVERSITY SCHOOL OF MEDICINE & 2000                               \\\\\n",
       "\\end{tabular}\n"
      ],
      "text/plain": [
       "         npi nppes_provider_last_org_name nppes_provider_first_name\n",
       "1 1023022522                        CHANG                       AMY\n",
       "  nppes_provider_mi nppes_credentials nppes_provider_gender nppes_entity_code\n",
       "1                 S                MD                     F                 I\n",
       "  nppes_provider_street1 nppes_provider_street2 nppes_provider_city\n",
       "1      31 ROCHE BROS WAY              SUITE 200        NORTH EASTON\n",
       "  nppes_provider_zip nppes_provider_state nppes_provider_country provider_type\n",
       "1          023561032                   MA                     US   Dermatology\n",
       "  medicare_participation_indicator place_of_service\n",
       "1                                Y                O\n",
       "                  medical.school.name graduation.year\n",
       "1 TUFTS UNIVERSITY SCHOOL OF MEDICINE            2000"
      ]
     },
     "metadata": {},
     "output_type": "display_data"
    }
   ],
   "source": [
    "#find Amy Chang dermatologist:\n",
    "setkey(physician_info, nppes_provider_state, nppes_provider_first_name, nppes_provider_last_org_name)\n",
    "aa = physician_info[nppes_provider_first_name=='AMY'& nppes_provider_last_org_name =='CHANG'& nppes_provider_state =='MA' ,]\n",
    "aa"
   ]
  },
  {
   "cell_type": "code",
   "execution_count": 73,
   "metadata": {
    "collapsed": false
   },
   "outputs": [],
   "source": [
    "save(physician_info, file='physician_info_tab_2012.RData')"
   ]
  },
  {
   "cell_type": "markdown",
   "metadata": {
    "slideshow": {
     "slide_type": "slide"
    }
   },
   "source": [
    "#### Spreadsheet #2: HCPCS/CPT code to CCS conversion"
   ]
  },
  {
   "cell_type": "code",
   "execution_count": 19,
   "metadata": {
    "collapsed": true,
    "slideshow": {
     "slide_type": "subslide"
    }
   },
   "outputs": [],
   "source": [
    "conversion_table = conversion_table[!duplicated(conversion_table$hcpcs_code),]\n",
    "conversion_table = data.table(conversion_table)\n",
    "setkey(conversion_table, hcpcs_code)"
   ]
  },
  {
   "cell_type": "code",
   "execution_count": 23,
   "metadata": {
    "collapsed": false
   },
   "outputs": [
    {
     "data": {
      "text/html": [
       "5949"
      ],
      "text/latex": [
       "5949"
      ],
      "text/markdown": [
       "5949"
      ],
      "text/plain": [
       "[1] 5949"
      ]
     },
     "metadata": {},
     "output_type": "display_data"
    }
   ],
   "source": [
    "convtab = conversion_table\n",
    "nrow(convtab)"
   ]
  },
  {
   "cell_type": "code",
   "execution_count": 31,
   "metadata": {
    "collapsed": false
   },
   "outputs": [],
   "source": [
    "conversion_table = convtab"
   ]
  },
  {
   "cell_type": "code",
   "execution_count": 32,
   "metadata": {
    "collapsed": false,
    "slideshow": {
     "slide_type": "slide"
    }
   },
   "outputs": [
    {
     "data": {
      "text/html": [
       "<table>\n",
       "<thead><tr><th></th><th scope=col>hcpcs_code</th><th scope=col>hcpcs_description</th></tr></thead>\n",
       "<tbody>\n",
       "\t<tr><th scope=row>1</th><td>00100                                                 </td><td>Anesthesia for procedure on salivary gland with biopsy</td></tr>\n",
       "\t<tr><th scope=row>2</th><td>00102                                                         </td><td>Anesthesia for procedure to repair lip defect present at birth</td></tr>\n",
       "\t<tr><th scope=row>3</th><td>00103                             </td><td>Anesthesia for procedure on eyelid</td></tr>\n",
       "\t<tr><th scope=row>4</th><td>00104                                  </td><td>Anesthesia for electric shock treatment</td></tr>\n",
       "\t<tr><th scope=row>5</th><td>00120                                                 </td><td>Anesthesia for biopsy of external middle and inner ear</td></tr>\n",
       "\t<tr><th scope=row>6</th><td>00126                              </td><td>Anesthesia for incision of ear drum</td></tr>\n",
       "</tbody>\n",
       "</table>\n"
      ],
      "text/latex": [
       "\\begin{tabular}{r|ll}\n",
       "  & hcpcs\\_code & hcpcs\\_description\\\\\n",
       "\\hline\n",
       "\t1 & 00100                                                  & Anesthesia for procedure on salivary gland with biopsy\\\\\n",
       "\t2 & 00102                                                          & Anesthesia for procedure to repair lip defect present at birth\\\\\n",
       "\t3 & 00103                              & Anesthesia for procedure on eyelid\\\\\n",
       "\t4 & 00104                                   & Anesthesia for electric shock treatment\\\\\n",
       "\t5 & 00120                                                  & Anesthesia for biopsy of external middle and inner ear\\\\\n",
       "\t6 & 00126                               & Anesthesia for incision of ear drum\\\\\n",
       "\\end{tabular}\n"
      ],
      "text/plain": [
       "  hcpcs_code                                              hcpcs_description\n",
       "1      00100         Anesthesia for procedure on salivary gland with biopsy\n",
       "2      00102 Anesthesia for procedure to repair lip defect present at birth\n",
       "3      00103                             Anesthesia for procedure on eyelid\n",
       "4      00104                        Anesthesia for electric shock treatment\n",
       "5      00120         Anesthesia for biopsy of external middle and inner ear\n",
       "6      00126                            Anesthesia for incision of ear drum"
      ]
     },
     "metadata": {},
     "output_type": "display_data"
    }
   ],
   "source": [
    "head(conversion_table)"
   ]
  },
  {
   "cell_type": "code",
   "execution_count": 33,
   "metadata": {
    "collapsed": false,
    "slideshow": {
     "slide_type": "slide"
    }
   },
   "outputs": [
    {
     "data": {
      "text/html": [
       "<table>\n",
       "<thead><tr><th></th><th scope=col>Code.Range</th><th scope=col>CCS</th><th scope=col>CCS.Label</th></tr></thead>\n",
       "<tbody>\n",
       "\t<tr><th scope=row>1</th><td>'0001T-0002T'                               </td><td>52                                          </td><td>Aortic resection, replacement or anastomosis</td></tr>\n",
       "\t<tr><th scope=row>2</th><td>'0003T-0003T'                             </td><td>130                                       </td><td>Other diagnostic procedures, female organs</td></tr>\n",
       "\t<tr><th scope=row>3</th><td>'0005T-0006T'                                  </td><td>59                                             </td><td>Other OR procedures on vessels of head and neck</td></tr>\n",
       "\t<tr><th scope=row>4</th><td>'0007T-0007T'        </td><td>211                  </td><td>Therapeutic radiology</td></tr>\n",
       "\t<tr><th scope=row>5</th><td>'0008T-0008T'                               </td><td>93                                          </td><td>Other non-OR upper GI therapeutic procedures</td></tr>\n",
       "\t<tr><th scope=row>6</th><td>'0009T-0009T'                      </td><td>125                                </td><td>Other excision of cervix and uterus</td></tr>\n",
       "</tbody>\n",
       "</table>\n"
      ],
      "text/latex": [
       "\\begin{tabular}{r|lll}\n",
       "  & Code.Range & CCS & CCS.Label\\\\\n",
       "\\hline\n",
       "\t1 & '0001T-0002T'                                & 52                                           & Aortic resection, replacement or anastomosis\\\\\n",
       "\t2 & '0003T-0003T'                              & 130                                        & Other diagnostic procedures, female organs\\\\\n",
       "\t3 & '0005T-0006T'                                   & 59                                              & Other OR procedures on vessels of head and neck\\\\\n",
       "\t4 & '0007T-0007T'         & 211                   & Therapeutic radiology\\\\\n",
       "\t5 & '0008T-0008T'                                & 93                                           & Other non-OR upper GI therapeutic procedures\\\\\n",
       "\t6 & '0009T-0009T'                       & 125                                 & Other excision of cervix and uterus\\\\\n",
       "\\end{tabular}\n"
      ],
      "text/plain": [
       "     Code.Range CCS                                       CCS.Label\n",
       "1 '0001T-0002T'  52    Aortic resection, replacement or anastomosis\n",
       "2 '0003T-0003T' 130      Other diagnostic procedures, female organs\n",
       "3 '0005T-0006T'  59 Other OR procedures on vessels of head and neck\n",
       "4 '0007T-0007T' 211                           Therapeutic radiology\n",
       "5 '0008T-0008T'  93    Other non-OR upper GI therapeutic procedures\n",
       "6 '0009T-0009T' 125             Other excision of cervix and uterus"
      ]
     },
     "metadata": {},
     "output_type": "display_data"
    }
   ],
   "source": [
    "ccs_file = '2016_ccs_services_procedures.csv'\n",
    "ccs_table = data.table(read.csv(ccs_file))\n",
    "ccs_table$Code.Range <- as.character(ccs_table$Code.Range)\n",
    "setkey(ccs_table,Code.Range,CCS,CCS.Label)\n",
    "head(ccs_table)"
   ]
  },
  {
   "cell_type": "code",
   "execution_count": 34,
   "metadata": {
    "collapsed": true,
    "slideshow": {
     "slide_type": "notes"
    }
   },
   "outputs": [],
   "source": [
    "# combine the above two tables"
   ]
  },
  {
   "cell_type": "code",
   "execution_count": 50,
   "metadata": {
    "collapsed": false,
    "slideshow": {
     "slide_type": "subslide"
    }
   },
   "outputs": [],
   "source": [
    "#create an incremental sequence of CSS codes from Code.Range:\n",
    "get_code_range <- function(inp,ccscode,ccsdesc){\n",
    "    \n",
    "    code_range <- vector(mode=\"numeric\", length=0) #empty \n",
    "    \n",
    "    aaa = unlist(strsplit(inp, \"-\", fixed = TRUE))    \n",
    "    aaa = sub(\"\\'\", \"\", aaa)\n",
    "    \n",
    "    if (!grepl(\"[a-zA-Z]\", aaa[1])){  #if code does not contain letters\n",
    "        aaa = as.numeric(aaa)\n",
    "        code_range = seq.int(aaa[1],aaa[2])\n",
    "        code_range = sprintf(\"%05d\", code_range) # fixed width of five characters with leading zeros\n",
    "        code_range = as.character(code_range)\n",
    "        \n",
    "    } else #if hcpcs code is alphanumeric, with the numeric part as an incremental sequence\n",
    "    {\n",
    "        bbb = substring(aaa[1], seq(1,nchar(aaa[1])), seq(1,nchar(aaa[1]),1)) #break up string to individual characters\n",
    "        letterPos = grep(\"[a-zA-Z]\", bbb, value = FALSE)\n",
    "        letterChar = grep(\"[a-zA-Z]\", bbb, value = TRUE)\n",
    "\n",
    "        numericPart1 = grep(\"[0-9]\", bbb, value = TRUE)\n",
    "        numericPart1 = as.numeric(paste(numericPart1, collapse=\"\"))\n",
    "\n",
    "        bbb = substring(aaa[2], seq(1,nchar(aaa[2])), seq(1,nchar(aaa[2]),1)) \n",
    "        numericPart2 = grep(\"[0-9]\", bbb, value = TRUE)\n",
    "        numericPart2 = as.numeric(paste(numericPart2, collapse=\"\"))\n",
    "\n",
    "        cr  = seq.int(numericPart1,numericPart2)\n",
    "        \n",
    "        if (letterPos==1){\n",
    "            code_range = sprintf(\"%s%04d\", letterChar, cr) # fixed width of four characters with leading zeros\n",
    "        } else\n",
    "        {\n",
    "            code_range = sprintf(\"%04d%s\", cr, letterChar)\n",
    "        }            \n",
    "    }\n",
    "    out = data.frame(hcpcs_code=code_range, ccs_code = ccscode, ccs_desc = ccsdesc)\n",
    "}"
   ]
  },
  {
   "cell_type": "code",
   "execution_count": 51,
   "metadata": {
    "collapsed": true
   },
   "outputs": [],
   "source": [
    "# Expand CCS table, i.e. list every HCPCS code specified within the Code.Range\n",
    "expanded_ccs = with(ccs_table, Map(get_code_range, Code.Range, CCS, CCS.Label))\n",
    "expanded_ccs = rbind.fill(expanded_ccs)\n",
    "expanded_ccs = data.table(expanded_ccs) \n",
    "setkey(expanded_ccs,hcpcs_code)"
   ]
  },
  {
   "cell_type": "code",
   "execution_count": 52,
   "metadata": {
    "collapsed": true,
    "slideshow": {
     "slide_type": "slide"
    }
   },
   "outputs": [],
   "source": [
    "conversion_tab = merge(conversion_table,expanded_ccs, by='hcpcs_code', all.x=TRUE)\n",
    "conversion_table = merge(conversion_table,expanded_ccs, by='hcpcs_code') #inner join"
   ]
  },
  {
   "cell_type": "code",
   "execution_count": 54,
   "metadata": {
    "collapsed": false,
    "slideshow": {
     "slide_type": "slide"
    }
   },
   "outputs": [
    {
     "data": {
      "text/html": [
       "<table>\n",
       "<thead><tr><th></th><th scope=col>hcpcs_code</th><th scope=col>hcpcs_description</th><th scope=col>ccs_code</th><th scope=col>ccs_desc</th></tr></thead>\n",
       "<tbody>\n",
       "\t<tr><th scope=row>1</th><td>00100                                                 </td><td>Anesthesia for procedure on salivary gland with biopsy</td><td>232                                                   </td><td>Anesthesia                                            </td></tr>\n",
       "\t<tr><th scope=row>2</th><td>00102                                                         </td><td>Anesthesia for procedure to repair lip defect present at birth</td><td>232                                                           </td><td>Anesthesia                                                    </td></tr>\n",
       "\t<tr><th scope=row>3</th><td>00103                             </td><td>Anesthesia for procedure on eyelid</td><td>232                               </td><td>Anesthesia                        </td></tr>\n",
       "\t<tr><th scope=row>4</th><td>00104                                  </td><td>Anesthesia for electric shock treatment</td><td>232                                    </td><td>Anesthesia                             </td></tr>\n",
       "\t<tr><th scope=row>5</th><td>00120                                                 </td><td>Anesthesia for biopsy of external middle and inner ear</td><td>232                                                   </td><td>Anesthesia                                            </td></tr>\n",
       "\t<tr><th scope=row>6</th><td>00126                              </td><td>Anesthesia for incision of ear drum</td><td>232                                </td><td>Anesthesia                         </td></tr>\n",
       "</tbody>\n",
       "</table>\n"
      ],
      "text/latex": [
       "\\begin{tabular}{r|llll}\n",
       "  & hcpcs\\_code & hcpcs\\_description & ccs\\_code & ccs\\_desc\\\\\n",
       "\\hline\n",
       "\t1 & 00100                                                  & Anesthesia for procedure on salivary gland with biopsy & 232                                                    & Anesthesia                                            \\\\\n",
       "\t2 & 00102                                                          & Anesthesia for procedure to repair lip defect present at birth & 232                                                            & Anesthesia                                                    \\\\\n",
       "\t3 & 00103                              & Anesthesia for procedure on eyelid & 232                                & Anesthesia                        \\\\\n",
       "\t4 & 00104                                   & Anesthesia for electric shock treatment & 232                                     & Anesthesia                             \\\\\n",
       "\t5 & 00120                                                  & Anesthesia for biopsy of external middle and inner ear & 232                                                    & Anesthesia                                            \\\\\n",
       "\t6 & 00126                               & Anesthesia for incision of ear drum & 232                                 & Anesthesia                         \\\\\n",
       "\\end{tabular}\n"
      ],
      "text/plain": [
       "  hcpcs_code                                              hcpcs_description\n",
       "1      00100         Anesthesia for procedure on salivary gland with biopsy\n",
       "2      00102 Anesthesia for procedure to repair lip defect present at birth\n",
       "3      00103                             Anesthesia for procedure on eyelid\n",
       "4      00104                        Anesthesia for electric shock treatment\n",
       "5      00120         Anesthesia for biopsy of external middle and inner ear\n",
       "6      00126                            Anesthesia for incision of ear drum\n",
       "  ccs_code   ccs_desc\n",
       "1      232 Anesthesia\n",
       "2      232 Anesthesia\n",
       "3      232 Anesthesia\n",
       "4      232 Anesthesia\n",
       "5      232 Anesthesia\n",
       "6      232 Anesthesia"
      ]
     },
     "metadata": {},
     "output_type": "display_data"
    }
   ],
   "source": [
    "head(conversion_tab)"
   ]
  },
  {
   "cell_type": "code",
   "execution_count": 60,
   "metadata": {
    "collapsed": false
   },
   "outputs": [
    {
     "data": {
      "text/html": [
       "<table>\n",
       "<thead><tr><th></th><th scope=col>hcpcs_code</th><th scope=col>hcpcs_description</th><th scope=col>ccs_code</th><th scope=col>ccs_desc</th></tr></thead>\n",
       "<tbody>\n",
       "\t<tr><th scope=row>1</th><td>D9940                     </td><td>Occlusal guards, by report</td><td>NA                        </td><td>NA                        </td></tr>\n",
       "\t<tr><th scope=row>2</th><td>G9001                             </td><td>Coordinated care fee, initial rate</td><td>NA                                </td><td>NA                                </td></tr>\n",
       "\t<tr><th scope=row>3</th><td>G9002                                 </td><td>Coordinated care fee, maintenance rate</td><td>NA                                    </td><td>NA                                    </td></tr>\n",
       "\t<tr><th scope=row>4</th><td>G9003                                            </td><td>Coordinated care fee, risk adjusted high, initial</td><td>NA                                               </td><td>NA                                               </td></tr>\n",
       "\t<tr><th scope=row>5</th><td>G9005                                          </td><td>Coordinated care fee, risk adjusted maintenance</td><td>NA                                             </td><td>NA                                             </td></tr>\n",
       "\t<tr><th scope=row>6</th><td>G9008                                                              </td><td>Coordinated care fee, physician coordinated care oversight services</td><td>NA                                                                 </td><td>NA                                                                 </td></tr>\n",
       "\t<tr><th scope=row>7</th><td>G9009                                                   </td><td>Coordinated care fee, risk adjusted maintenance, level 3</td><td>NA                                                      </td><td>NA                                                      </td></tr>\n",
       "\t<tr><th scope=row>8</th><td>G9010                                                   </td><td>Coordinated care fee, risk adjusted maintenance, level 4</td><td>NA                                                      </td><td>NA                                                      </td></tr>\n",
       "\t<tr><th scope=row>9</th><td>G9148               </td><td>Medical home level 1</td><td>NA                  </td><td>NA                  </td></tr>\n",
       "\t<tr><th scope=row>10</th><td>G9149                </td><td>Medical home level ii</td><td>NA                   </td><td>NA                   </td></tr>\n",
       "\t<tr><th scope=row>11</th><td>G9150                 </td><td>Medical home level iii</td><td>NA                    </td><td>NA                    </td></tr>\n",
       "\t<tr><th scope=row>12</th><td>G9151           </td><td>Mapcp demo state</td><td>NA              </td><td>NA              </td></tr>\n",
       "\t<tr><th scope=row>13</th><td>G9152               </td><td>Mapcp demo community</td><td>NA                  </td><td>NA                  </td></tr>\n",
       "\t<tr><th scope=row>14</th><td>G9153               </td><td>Mapcp demo physician</td><td>NA                  </td><td>NA                  </td></tr>\n",
       "</tbody>\n",
       "</table>\n"
      ],
      "text/latex": [
       "\\begin{tabular}{r|llll}\n",
       "  & hcpcs\\_code & hcpcs\\_description & ccs\\_code & ccs\\_desc\\\\\n",
       "\\hline\n",
       "\t1 & D9940                      & Occlusal guards, by report & NA                         & NA                        \\\\\n",
       "\t2 & G9001                              & Coordinated care fee, initial rate & NA                                 & NA                                \\\\\n",
       "\t3 & G9002                                  & Coordinated care fee, maintenance rate & NA                                     & NA                                    \\\\\n",
       "\t4 & G9003                                             & Coordinated care fee, risk adjusted high, initial & NA                                                & NA                                               \\\\\n",
       "\t5 & G9005                                           & Coordinated care fee, risk adjusted maintenance & NA                                              & NA                                             \\\\\n",
       "\t6 & G9008                                                               & Coordinated care fee, physician coordinated care oversight services & NA                                                                  & NA                                                                 \\\\\n",
       "\t7 & G9009                                                    & Coordinated care fee, risk adjusted maintenance, level 3 & NA                                                       & NA                                                      \\\\\n",
       "\t8 & G9010                                                    & Coordinated care fee, risk adjusted maintenance, level 4 & NA                                                       & NA                                                      \\\\\n",
       "\t9 & G9148                & Medical home level 1 & NA                   & NA                  \\\\\n",
       "\t10 & G9149                 & Medical home level ii & NA                    & NA                   \\\\\n",
       "\t11 & G9150                  & Medical home level iii & NA                     & NA                    \\\\\n",
       "\t12 & G9151            & Mapcp demo state & NA               & NA              \\\\\n",
       "\t13 & G9152                & Mapcp demo community & NA                   & NA                  \\\\\n",
       "\t14 & G9153                & Mapcp demo physician & NA                   & NA                  \\\\\n",
       "\\end{tabular}\n"
      ],
      "text/plain": [
       "   hcpcs_code\n",
       "1       D9940\n",
       "2       G9001\n",
       "3       G9002\n",
       "4       G9003\n",
       "5       G9005\n",
       "6       G9008\n",
       "7       G9009\n",
       "8       G9010\n",
       "9       G9148\n",
       "10      G9149\n",
       "11      G9150\n",
       "12      G9151\n",
       "13      G9152\n",
       "14      G9153\n",
       "                                                     hcpcs_description ccs_code\n",
       "1                                           Occlusal guards, by report       NA\n",
       "2                                   Coordinated care fee, initial rate       NA\n",
       "3                               Coordinated care fee, maintenance rate       NA\n",
       "4                    Coordinated care fee, risk adjusted high, initial       NA\n",
       "5                      Coordinated care fee, risk adjusted maintenance       NA\n",
       "6  Coordinated care fee, physician coordinated care oversight services       NA\n",
       "7             Coordinated care fee, risk adjusted maintenance, level 3       NA\n",
       "8             Coordinated care fee, risk adjusted maintenance, level 4       NA\n",
       "9                                                 Medical home level 1       NA\n",
       "10                                               Medical home level ii       NA\n",
       "11                                              Medical home level iii       NA\n",
       "12                                                    Mapcp demo state       NA\n",
       "13                                                Mapcp demo community       NA\n",
       "14                                                Mapcp demo physician       NA\n",
       "   ccs_desc\n",
       "1      <NA>\n",
       "2      <NA>\n",
       "3      <NA>\n",
       "4      <NA>\n",
       "5      <NA>\n",
       "6      <NA>\n",
       "7      <NA>\n",
       "8      <NA>\n",
       "9      <NA>\n",
       "10     <NA>\n",
       "11     <NA>\n",
       "12     <NA>\n",
       "13     <NA>\n",
       "14     <NA>"
      ]
     },
     "metadata": {},
     "output_type": "display_data"
    }
   ],
   "source": [
    "##These HCPCS codes don't have a match in the CCS table:\n",
    "noMatch <- conversion_tab[is.na(ccs_code) | is.na(ccs_desc)]\n",
    "noMatch"
   ]
  },
  {
   "cell_type": "code",
   "execution_count": 63,
   "metadata": {
    "collapsed": false
   },
   "outputs": [
    {
     "data": {
      "text/html": [
       "0.997646663304757"
      ],
      "text/latex": [
       "0.997646663304757"
      ],
      "text/markdown": [
       "0.997646663304757"
      ],
      "text/plain": [
       "[1] 0.9976467"
      ]
     },
     "metadata": {},
     "output_type": "display_data"
    }
   ],
   "source": [
    "#matching efficiency:\n",
    "sum(!is.na(conversion_tab$ccs_code))/nrow(conversion_tab)"
   ]
  },
  {
   "cell_type": "markdown",
   "metadata": {
    "slideshow": {
     "slide_type": "notes"
    }
   },
   "source": [
    "#### Spreadsheet #3: Provider vs Procedure count.  \n",
    "cells in the final matrix (npi_vs_css) correspond to total procedure counts for a given provider and given CCS category"
   ]
  },
  {
   "cell_type": "code",
   "execution_count": 16,
   "metadata": {
    "collapsed": false,
    "slideshow": {
     "slide_type": "skip"
    }
   },
   "outputs": [],
   "source": [
    "# Merge CCS codes into physician data frame:\n",
    "toAppend = conversion_table[, .(hcpcs_code ,ccs_code)]\n",
    "setkey(toAppend,hcpcs_code)"
   ]
  },
  {
   "cell_type": "code",
   "execution_count": 17,
   "metadata": {
    "collapsed": false,
    "slideshow": {
     "slide_type": "slide"
    }
   },
   "outputs": [
    {
     "data": {
      "text/html": [
       "<table>\n",
       "<thead><tr><th></th><th scope=col>hcpcs_code</th><th scope=col>ccs_code</th></tr></thead>\n",
       "<tbody>\n",
       "\t<tr><th scope=row>1</th><td>00100</td><td>232  </td></tr>\n",
       "\t<tr><th scope=row>2</th><td>00102</td><td>232  </td></tr>\n",
       "\t<tr><th scope=row>3</th><td>00103</td><td>232  </td></tr>\n",
       "\t<tr><th scope=row>4</th><td>00104</td><td>232  </td></tr>\n",
       "\t<tr><th scope=row>5</th><td>00120</td><td>232  </td></tr>\n",
       "\t<tr><th scope=row>6</th><td>00126</td><td>232  </td></tr>\n",
       "</tbody>\n",
       "</table>\n"
      ],
      "text/latex": [
       "\\begin{tabular}{r|ll}\n",
       "  & hcpcs\\_code & ccs\\_code\\\\\n",
       "\\hline\n",
       "\t1 & 00100 & 232  \\\\\n",
       "\t2 & 00102 & 232  \\\\\n",
       "\t3 & 00103 & 232  \\\\\n",
       "\t4 & 00104 & 232  \\\\\n",
       "\t5 & 00120 & 232  \\\\\n",
       "\t6 & 00126 & 232  \\\\\n",
       "\\end{tabular}\n"
      ],
      "text/plain": [
       "  hcpcs_code ccs_code\n",
       "1      00100      232\n",
       "2      00102      232\n",
       "3      00103      232\n",
       "4      00104      232\n",
       "5      00120      232\n",
       "6      00126      232"
      ]
     },
     "metadata": {},
     "output_type": "display_data"
    }
   ],
   "source": [
    "head(toAppend)"
   ]
  },
  {
   "cell_type": "code",
   "execution_count": 18,
   "metadata": {
    "collapsed": false,
    "slideshow": {
     "slide_type": "subslide"
    }
   },
   "outputs": [],
   "source": [
    "doctor_procedure = data.table(doctor_procedure)\n",
    "setkey(doctor_procedure, \"hcpcs_code\")\n",
    "doctor_procedure = merge(doctor_procedure, toAppend, by='hcpcs_code')"
   ]
  },
  {
   "cell_type": "code",
   "execution_count": 19,
   "metadata": {
    "collapsed": false,
    "slideshow": {
     "slide_type": "slide"
    }
   },
   "outputs": [
    {
     "data": {
      "text/html": [
       "<table>\n",
       "<thead><tr><th></th><th scope=col>hcpcs_code</th><th scope=col>npi</th><th scope=col>line_srvc_cnt</th><th scope=col>bene_unique_cnt</th><th scope=col>bene_day_srvc_cnt</th><th scope=col>average_medicare_allowed_amt</th><th scope=col>stdev_medicare_allowed_amt</th><th scope=col>average_submitted_chrg_amt</th><th scope=col>stdev_submitted_chrg_amt</th><th scope=col>average_medicare_payment_amt</th><th scope=col>stdev_medicare_payment_amt</th><th scope=col>ccs_code</th></tr></thead>\n",
       "<tbody>\n",
       "\t<tr><th scope=row>1</th><td>00100       </td><td>1396897104  </td><td>14          </td><td>12          </td><td>14          </td><td>125.05928571</td><td>27.539691217</td><td>1401.4285714</td><td>305.13643653</td><td>100.04857143</td><td>22.032023076</td><td>232         </td></tr>\n",
       "\t<tr><th scope=row>2</th><td>00100       </td><td>1508884156  </td><td>12          </td><td>12          </td><td>12          </td><td>353.00416667</td><td>80.615788513</td><td>2122.5      </td><td>652.5862012 </td><td>282.4025    </td><td>64.492407838</td><td>232         </td></tr>\n",
       "\t<tr><th scope=row>3</th><td>00100       </td><td>1528032067  </td><td>14          </td><td>14          </td><td>14          </td><td>185.57      </td><td>27.338754805</td><td>572.92857143</td><td>84.316126475</td><td>148.45642857</td><td>21.87183205 </td><td>232         </td></tr>\n",
       "\t<tr><th scope=row>4</th><td>00100       </td><td>1780646562  </td><td>13          </td><td>13          </td><td>13          </td><td>357.89923077</td><td>198.10791711</td><td>2098.4615385</td><td>965.20899414</td><td>286.32076923</td><td>158.48520443</td><td>232         </td></tr>\n",
       "\t<tr><th scope=row>5</th><td>00102       </td><td>1700846235  </td><td>17          </td><td>17          </td><td>17          </td><td>200.42941176</td><td>52.47849223 </td><td>1569.7058824</td><td>827.42597072</td><td>152.30705882</td><td>43.448522044</td><td>232         </td></tr>\n",
       "\t<tr><th scope=row>6</th><td>00103       </td><td>1003019191  </td><td>14          </td><td>14          </td><td>14          </td><td>90.253571429</td><td>15.035313008</td><td>393.53714286</td><td>229.38057009</td><td>65.611428571</td><td>13.137521976</td><td>232         </td></tr>\n",
       "</tbody>\n",
       "</table>\n"
      ],
      "text/latex": [
       "\\begin{tabular}{r|llllllllllll}\n",
       "  & hcpcs\\_code & npi & line\\_srvc\\_cnt & bene\\_unique\\_cnt & bene\\_day\\_srvc\\_cnt & average\\_medicare\\_allowed\\_amt & stdev\\_medicare\\_allowed\\_amt & average\\_submitted\\_chrg\\_amt & stdev\\_submitted\\_chrg\\_amt & average\\_medicare\\_payment\\_amt & stdev\\_medicare\\_payment\\_amt & ccs\\_code\\\\\n",
       "\\hline\n",
       "\t1 & 00100        & 1396897104   & 14           & 12           & 14           & 125.05928571 & 27.539691217 & 1401.4285714 & 305.13643653 & 100.04857143 & 22.032023076 & 232         \\\\\n",
       "\t2 & 00100        & 1508884156   & 12           & 12           & 12           & 353.00416667 & 80.615788513 & 2122.5       & 652.5862012  & 282.4025     & 64.492407838 & 232         \\\\\n",
       "\t3 & 00100        & 1528032067   & 14           & 14           & 14           & 185.57       & 27.338754805 & 572.92857143 & 84.316126475 & 148.45642857 & 21.87183205  & 232         \\\\\n",
       "\t4 & 00100        & 1780646562   & 13           & 13           & 13           & 357.89923077 & 198.10791711 & 2098.4615385 & 965.20899414 & 286.32076923 & 158.48520443 & 232         \\\\\n",
       "\t5 & 00102        & 1700846235   & 17           & 17           & 17           & 200.42941176 & 52.47849223  & 1569.7058824 & 827.42597072 & 152.30705882 & 43.448522044 & 232         \\\\\n",
       "\t6 & 00103        & 1003019191   & 14           & 14           & 14           & 90.253571429 & 15.035313008 & 393.53714286 & 229.38057009 & 65.611428571 & 13.137521976 & 232         \\\\\n",
       "\\end{tabular}\n"
      ],
      "text/plain": [
       "  hcpcs_code        npi line_srvc_cnt bene_unique_cnt bene_day_srvc_cnt\n",
       "1      00100 1396897104            14              12                14\n",
       "2      00100 1508884156            12              12                12\n",
       "3      00100 1528032067            14              14                14\n",
       "4      00100 1780646562            13              13                13\n",
       "5      00102 1700846235            17              17                17\n",
       "6      00103 1003019191            14              14                14\n",
       "  average_medicare_allowed_amt stdev_medicare_allowed_amt\n",
       "1                    125.05929                   27.53969\n",
       "2                    353.00417                   80.61579\n",
       "3                    185.57000                   27.33875\n",
       "4                    357.89923                  198.10792\n",
       "5                    200.42941                   52.47849\n",
       "6                     90.25357                   15.03531\n",
       "  average_submitted_chrg_amt stdev_submitted_chrg_amt\n",
       "1                  1401.4286                305.13644\n",
       "2                  2122.5000                652.58620\n",
       "3                   572.9286                 84.31613\n",
       "4                  2098.4615                965.20899\n",
       "5                  1569.7059                827.42597\n",
       "6                   393.5371                229.38057\n",
       "  average_medicare_payment_amt stdev_medicare_payment_amt ccs_code\n",
       "1                    100.04857                   22.03202      232\n",
       "2                    282.40250                   64.49241      232\n",
       "3                    148.45643                   21.87183      232\n",
       "4                    286.32077                  158.48520      232\n",
       "5                    152.30706                   43.44852      232\n",
       "6                     65.61143                   13.13752      232"
      ]
     },
     "metadata": {},
     "output_type": "display_data"
    }
   ],
   "source": [
    "head(doctor_procedure)"
   ]
  },
  {
   "cell_type": "code",
   "execution_count": 20,
   "metadata": {
    "collapsed": false,
    "slideshow": {
     "slide_type": "skip"
    }
   },
   "outputs": [],
   "source": [
    "#pool similar procedures (with identical ccs codes) per provider\n",
    "setkey(doctor_procedure, \"npi\",\"ccs_code\")\n",
    "#doctor_procedure = doctor_procedure[,proc_per_patient := line_srvc_cnt/bene_unique_cnt]\n",
    "doctor_procedure = doctor_procedure[,proc_per_patient := bene_day_srvc_cnt/bene_unique_cnt]\n",
    "npi_vs_ccs = doctor_procedure[, .(proc_cnt=sum(line_srvc_cnt, na.rm=T), \n",
    "                                 uniq_cnt=sum(bene_unique_cnt, na.rm=T),\n",
    "                                 day_srvc_cnt=sum(bene_day_srvc_cnt, na.rm=T),\n",
    "                                 bene_cnt=sum(bene_unique_cnt, na.rm=T),\n",
    "                                 med_proc_per_patient=median(proc_per_patient, na.rm=T), \n",
    "                                 est_allo_amt=sum(average_medicare_allowed_amt*line_srvc_cnt, na.rm=T), \n",
    "                                 est_pay_amt=sum(average_medicare_payment_amt*line_srvc_cnt, na.rm=T)), \n",
    "                                 by = .(npi,ccs_code)] \n",
    "# setkey(npi_vs_ccs, \"npi\",\"ccs_code\")\n",
    "# npi_vs_ccs= dcast(npi_vs_ccs, npi ~ ccs_code) #convert data.table from long to wide format (i.e. npi vs. ccs table)"
   ]
  },
  {
   "cell_type": "code",
   "execution_count": 21,
   "metadata": {
    "collapsed": false,
    "scrolled": true,
    "slideshow": {
     "slide_type": "slide"
    }
   },
   "outputs": [
    {
     "data": {
      "text/html": [
       "<table>\n",
       "<thead><tr><th></th><th scope=col>npi</th><th scope=col>ccs_code</th><th scope=col>proc_cnt</th><th scope=col>uniq_cnt</th><th scope=col>day_srvc_cnt</th><th scope=col>bene_cnt</th><th scope=col>med_proc_per_patient</th><th scope=col>est_allo_amt</th><th scope=col>est_pay_amt</th><th scope=col>na.rm</th></tr></thead>\n",
       "<tbody>\n",
       "\t<tr><th scope=row>1</th><td>1.993000e+09</td><td>2.600000e+01</td><td>6.400000e+01</td><td>6.000000e+01</td><td>6.400000e+01</td><td>6.000000e+01</td><td>1.066667e+00</td><td>3.509100e+03</td><td>2.675520e+03</td><td>1.000000e+00</td></tr>\n",
       "\t<tr><th scope=row>2</th><td>1.993000e+09</td><td>3.500000e+01</td><td>7.200000e+01</td><td>6.100000e+01</td><td>7.200000e+01</td><td>6.100000e+01</td><td>1.155968e+00</td><td>8.075370e+03</td><td>6.432890e+03</td><td>1.000000e+00</td></tr>\n",
       "\t<tr><th scope=row>3</th><td>1.993000e+09</td><td>2.270000e+02</td><td>6.110000e+02</td><td>5.300000e+02</td><td>6.110000e+02</td><td>5.300000e+02</td><td>1.045455e+00</td><td>7.495100e+04</td><td>5.594215e+04</td><td>1.000000e+00</td></tr>\n",
       "\t<tr><th scope=row>4</th><td>1.993e+09</td><td>2.310e+02</td><td>2.200e+01</td><td>2.200e+01</td><td>2.200e+01</td><td>2.200e+01</td><td>1.000e+00</td><td>6.600e+01</td><td>6.600e+01</td><td>1.000e+00</td></tr>\n",
       "\t<tr><th scope=row>5</th><td>1.9930e+09</td><td>2.3300e+02</td><td>2.3000e+01</td><td>2.3000e+01</td><td>2.3000e+01</td><td>2.3000e+01</td><td>1.0000e+00</td><td>1.6698e+02</td><td>1.6698e+02</td><td>1.0000e+00</td></tr>\n",
       "\t<tr><th scope=row>6</th><td>1.993000e+09</td><td>2.270000e+02</td><td>9.940000e+02</td><td>6.420000e+02</td><td>9.940000e+02</td><td>6.420000e+02</td><td>1.027395e+00</td><td>9.589056e+04</td><td>7.654505e+04</td><td>1.000000e+00</td></tr>\n",
       "</tbody>\n",
       "</table>\n"
      ],
      "text/latex": [
       "\\begin{tabular}{r|llllllllll}\n",
       "  & npi & ccs\\_code & proc\\_cnt & uniq\\_cnt & day\\_srvc\\_cnt & bene\\_cnt & med\\_proc\\_per\\_patient & est\\_allo\\_amt & est\\_pay\\_amt & na.rm\\\\\n",
       "\\hline\n",
       "\t1 & 1.993000e+09 & 2.600000e+01 & 6.400000e+01 & 6.000000e+01 & 6.400000e+01 & 6.000000e+01 & 1.066667e+00 & 3.509100e+03 & 2.675520e+03 & 1.000000e+00\\\\\n",
       "\t2 & 1.993000e+09 & 3.500000e+01 & 7.200000e+01 & 6.100000e+01 & 7.200000e+01 & 6.100000e+01 & 1.155968e+00 & 8.075370e+03 & 6.432890e+03 & 1.000000e+00\\\\\n",
       "\t3 & 1.993000e+09 & 2.270000e+02 & 6.110000e+02 & 5.300000e+02 & 6.110000e+02 & 5.300000e+02 & 1.045455e+00 & 7.495100e+04 & 5.594215e+04 & 1.000000e+00\\\\\n",
       "\t4 & 1.993e+09 & 2.310e+02 & 2.200e+01 & 2.200e+01 & 2.200e+01 & 2.200e+01 & 1.000e+00 & 6.600e+01 & 6.600e+01 & 1.000e+00\\\\\n",
       "\t5 & 1.9930e+09 & 2.3300e+02 & 2.3000e+01 & 2.3000e+01 & 2.3000e+01 & 2.3000e+01 & 1.0000e+00 & 1.6698e+02 & 1.6698e+02 & 1.0000e+00\\\\\n",
       "\t6 & 1.993000e+09 & 2.270000e+02 & 9.940000e+02 & 6.420000e+02 & 9.940000e+02 & 6.420000e+02 & 1.027395e+00 & 9.589056e+04 & 7.654505e+04 & 1.000000e+00\\\\\n",
       "\\end{tabular}\n"
      ],
      "text/plain": [
       "         npi ccs_code proc_cnt uniq_cnt day_srvc_cnt bene_cnt\n",
       "1 1992999825       26       64       60           64       60\n",
       "2 1992999825       35       72       61           72       61\n",
       "3 1992999825      227      611      530          611      530\n",
       "4 1992999825      231       22       22           22       22\n",
       "5 1992999825      233       23       23           23       23\n",
       "6 1992999874      227      994      642          994      642\n",
       "  med_proc_per_patient est_allo_amt est_pay_amt na.rm\n",
       "1             1.066667      3509.10     2675.52  TRUE\n",
       "2             1.155968      8075.37     6432.89  TRUE\n",
       "3             1.045455     74951.00    55942.15  TRUE\n",
       "4             1.000000        66.00       66.00  TRUE\n",
       "5             1.000000       166.98      166.98  TRUE\n",
       "6             1.027395     95890.56    76545.05  TRUE"
      ]
     },
     "metadata": {},
     "output_type": "display_data"
    }
   ],
   "source": [
    "tail(npi_vs_ccs)"
   ]
  },
  {
   "cell_type": "code",
   "execution_count": 22,
   "metadata": {
    "collapsed": false
   },
   "outputs": [
    {
     "data": {
      "text/html": [
       "<table>\n",
       "<thead><tr><th></th><th scope=col>hcpcs_code</th><th scope=col>hcpcs_description</th><th scope=col>ccs_code</th><th scope=col>css_desc</th></tr></thead>\n",
       "<tbody>\n",
       "\t<tr><th scope=row>1</th><td>99211                                                                    </td><td>Established patient office or other outpatient visit, typically 5 minutes</td><td>227                                                                      </td><td>Other diagnostic procedures (interview, evaluation, consultation)        </td></tr>\n",
       "\t<tr><th scope=row>2</th><td>99212                                                                     </td><td>Established patient office or other outpatient visit, typically 10 minutes</td><td>227                                                                       </td><td>Other diagnostic procedures (interview, evaluation, consultation)         </td></tr>\n",
       "\t<tr><th scope=row>3</th><td>99213                                                                     </td><td>Established patient office or other outpatient visit, typically 15 minutes</td><td>227                                                                       </td><td>Other diagnostic procedures (interview, evaluation, consultation)         </td></tr>\n",
       "\t<tr><th scope=row>4</th><td>99214                                                                     </td><td>Established patient office or other outpatient, visit typically 25 minutes</td><td>227                                                                       </td><td>Other diagnostic procedures (interview, evaluation, consultation)         </td></tr>\n",
       "\t<tr><th scope=row>5</th><td>99215                                                                     </td><td>Established patient office or other outpatient, visit typically 40 minutes</td><td>227                                                                       </td><td>Other diagnostic procedures (interview, evaluation, consultation)         </td></tr>\n",
       "</tbody>\n",
       "</table>\n"
      ],
      "text/latex": [
       "\\begin{tabular}{r|llll}\n",
       "  & hcpcs\\_code & hcpcs\\_description & ccs\\_code & css\\_desc\\\\\n",
       "\\hline\n",
       "\t1 & 99211                                                                     & Established patient office or other outpatient visit, typically 5 minutes & 227                                                                       & Other diagnostic procedures (interview, evaluation, consultation)        \\\\\n",
       "\t2 & 99212                                                                      & Established patient office or other outpatient visit, typically 10 minutes & 227                                                                        & Other diagnostic procedures (interview, evaluation, consultation)         \\\\\n",
       "\t3 & 99213                                                                      & Established patient office or other outpatient visit, typically 15 minutes & 227                                                                        & Other diagnostic procedures (interview, evaluation, consultation)         \\\\\n",
       "\t4 & 99214                                                                      & Established patient office or other outpatient, visit typically 25 minutes & 227                                                                        & Other diagnostic procedures (interview, evaluation, consultation)         \\\\\n",
       "\t5 & 99215                                                                      & Established patient office or other outpatient, visit typically 40 minutes & 227                                                                        & Other diagnostic procedures (interview, evaluation, consultation)         \\\\\n",
       "\\end{tabular}\n"
      ],
      "text/plain": [
       "  hcpcs_code\n",
       "1      99211\n",
       "2      99212\n",
       "3      99213\n",
       "4      99214\n",
       "5      99215\n",
       "                                                           hcpcs_description\n",
       "1  Established patient office or other outpatient visit, typically 5 minutes\n",
       "2 Established patient office or other outpatient visit, typically 10 minutes\n",
       "3 Established patient office or other outpatient visit, typically 15 minutes\n",
       "4 Established patient office or other outpatient, visit typically 25 minutes\n",
       "5 Established patient office or other outpatient, visit typically 40 minutes\n",
       "  ccs_code                                                          css_desc\n",
       "1      227 Other diagnostic procedures (interview, evaluation, consultation)\n",
       "2      227 Other diagnostic procedures (interview, evaluation, consultation)\n",
       "3      227 Other diagnostic procedures (interview, evaluation, consultation)\n",
       "4      227 Other diagnostic procedures (interview, evaluation, consultation)\n",
       "5      227 Other diagnostic procedures (interview, evaluation, consultation)"
      ]
     },
     "metadata": {},
     "output_type": "display_data"
    }
   ],
   "source": [
    "#These procedure codes will be used to estimate the average length of outpatient office visits:\n",
    "sub = conversion_table[hcpcs_code %in% c('99211', '99212', '99213', '99214', '99215')]\n",
    "sub"
   ]
  },
  {
   "cell_type": "code",
   "execution_count": 23,
   "metadata": {
    "collapsed": false
   },
   "outputs": [],
   "source": [
    "#calculate the average duration of office visits per provider and merge it into physician_info table\n",
    "#use hcpcs codes 99211-215 to estimate office visit durations\n",
    "#Half of the providers (~400,000) have these office visit codes\n",
    "\n",
    "setkey(doctor_procedure,hcpcs_code)\n",
    "office_visits = doctor_procedure[hcpcs_code %in% c('99211', '99212', '99213', '99214', '99215')]\n",
    "setkey(office_visits, hcpcs_code)\n",
    "office_visits = office_visits[,cpt := as.numeric(as.character(hcpcs_code))]\n",
    "\n",
    "setkey(office_visits, cpt)\n",
    "office_visits = office_visits[cpt==99211,visit_dur := 5]\n",
    "office_visits = office_visits[cpt==99212,visit_dur := 10]\n",
    "office_visits = office_visits[cpt==99213,visit_dur := 15]\n",
    "office_visits = office_visits[cpt==99214,visit_dur := 25]\n",
    "office_visits = office_visits[cpt==99215,visit_dur := 40]\n",
    "\n",
    "office_visits = office_visits[, tot_office_mins:= visit_dur*line_srvc_cnt]\n",
    "setkey(office_visits, npi)\n",
    "office_per_doc = office_visits[,.(office_mins = sum(tot_office_mins,na.rm=T)/sum(line_srvc_cnt,na.rm=T)), by=npi]\n",
    "\n",
    "#merge this into physician info table:\n",
    "physician_info = merge(physician_info, office_per_doc, all.x=TRUE)"
   ]
  },
  {
   "cell_type": "markdown",
   "metadata": {
    "collapsed": true,
    "slideshow": {
     "slide_type": "slide"
    }
   },
   "source": [
    "#### Save results"
   ]
  },
  {
   "cell_type": "code",
   "execution_count": 24,
   "metadata": {
    "collapsed": false,
    "slideshow": {
     "slide_type": "slide"
    }
   },
   "outputs": [
    {
     "data": {
      "text/plain": [
       "Time difference of 27.56068 secs"
      ]
     },
     "metadata": {},
     "output_type": "display_data"
    }
   ],
   "source": [
    "#csv files:\n",
    "start = Sys.time()\n",
    "# write.csv(physician_info, file = \"physician_info.csv\", row.names=FALSE, na=\"\")\n",
    "# write.csv(conversion_table, file = \"CPT_to_CCS_conversion.csv\", row.names=FALSE, na=\"\")\n",
    "# write.csv(npi_vs_ccs, file = \"provider_vs_procedures2012.csv\", row.names=FALSE, na=\"\")\n",
    "\n",
    "#Note that write.csv saves numeric hcpcs codes as an arabic number e.g. '102', omiting zero characters in the beginning.\n",
    "#This would cause mismatches later when mapping fixed-length character arrays such as '00102'. \n",
    "#However, R's native data format saves the codes with leading zeros.\n",
    "\n",
    "#R.data file:\n",
    "save(physician_info, conversion_table, npi_vs_ccs, expanded_ccs, file='provider_vs_procedures_2_2012.RData')\n",
    "\n",
    "Sys.time()-start"
   ]
  },
  {
   "cell_type": "code",
   "execution_count": 25,
   "metadata": {
    "collapsed": false,
    "slideshow": {
     "slide_type": "skip"
    }
   },
   "outputs": [],
   "source": [
    "#rm(list=ls())"
   ]
  },
  {
   "cell_type": "code",
   "execution_count": 68,
   "metadata": {
    "collapsed": true
   },
   "outputs": [],
   "source": []
  },
  {
   "cell_type": "code",
   "execution_count": null,
   "metadata": {
    "collapsed": true,
    "slideshow": {
     "slide_type": "skip"
    }
   },
   "outputs": [],
   "source": []
  },
  {
   "cell_type": "code",
   "execution_count": null,
   "metadata": {
    "collapsed": true,
    "slideshow": {
     "slide_type": "skip"
    }
   },
   "outputs": [],
   "source": []
  },
  {
   "cell_type": "code",
   "execution_count": null,
   "metadata": {
    "collapsed": false,
    "slideshow": {
     "slide_type": "skip"
    }
   },
   "outputs": [],
   "source": []
  },
  {
   "cell_type": "code",
   "execution_count": null,
   "metadata": {
    "collapsed": true,
    "slideshow": {
     "slide_type": "skip"
    }
   },
   "outputs": [],
   "source": []
  }
 ],
 "metadata": {
  "anaconda-cloud": {},
  "kernelspec": {
   "display_name": "R",
   "language": "R",
   "name": "ir"
  },
  "language_info": {
   "codemirror_mode": "r",
   "file_extension": ".r",
   "mimetype": "text/x-r-source",
   "name": "R",
   "pygments_lexer": "r",
   "version": "3.3.1"
  }
 },
 "nbformat": 4,
 "nbformat_minor": 0
}
